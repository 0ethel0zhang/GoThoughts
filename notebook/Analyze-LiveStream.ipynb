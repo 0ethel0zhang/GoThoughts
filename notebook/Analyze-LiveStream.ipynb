{
 "cells": [
  {
   "cell_type": "code",
   "execution_count": 43,
   "metadata": {},
   "outputs": [],
   "source": [
    "import pandas as pd\n",
    "import re\n",
    "from collections import Counter\n",
    "import matplotlib.pyplot as plt\n",
    "%matplotlib inline"
   ]
  },
  {
   "cell_type": "code",
   "execution_count": 2,
   "metadata": {},
   "outputs": [],
   "source": [
    "#Import the necessary methods from tweepy library\n",
    "import tweepy\n",
    "from tweepy.streaming import StreamListener\n",
    "from tweepy import OAuthHandler\n",
    "from tweepy import Stream"
   ]
  },
  {
   "cell_type": "code",
   "execution_count": 3,
   "metadata": {},
   "outputs": [],
   "source": [
    "import os\n",
    "from dotenv import load_dotenv\n",
    "from pathlib import Path  # python3 only"
   ]
  },
  {
   "cell_type": "code",
   "execution_count": 158,
   "metadata": {},
   "outputs": [
    {
     "data": {
      "text/plain": [
       "True"
      ]
     },
     "execution_count": 158,
     "metadata": {},
     "output_type": "execute_result"
    }
   ],
   "source": [
    "env_path = Path('..') / '.env'\n",
    "load_dotenv(dotenv_path=env_path)"
   ]
  },
  {
   "cell_type": "code",
   "execution_count": 159,
   "metadata": {},
   "outputs": [],
   "source": [
    "#Environemnt variables that contains the user credentials to access Twitter API \n",
    "access_token = os.getenv(\"Access_token\")\n",
    "access_token_secret = os.getenv(\"Access_token_secret\")\n",
    "consumer_key = os.getenv(\"API_key\")\n",
    "consumer_secret = os.getenv(\"API_secret_key\")"
   ]
  },
  {
   "cell_type": "code",
   "execution_count": 94,
   "metadata": {},
   "outputs": [],
   "source": [
    "auth = tweepy.OAuthHandler(consumer_key, consumer_secret)\n",
    "auth.set_access_token(access_token, access_token_secret)"
   ]
  },
  {
   "cell_type": "code",
   "execution_count": 95,
   "metadata": {},
   "outputs": [],
   "source": [
    "try:\n",
    "    redirect_url = auth.get_authorization_url()\n",
    "except tweepy.TweepError:\n",
    "    print('Error! Failed to get request token.')"
   ]
  },
  {
   "cell_type": "code",
   "execution_count": null,
   "metadata": {},
   "outputs": [],
   "source": [
    "#api.update_status('tweepy + oauth!') #this posts tweets for you\n",
    "#public_tweets = api.home_timeline()"
   ]
  },
  {
   "cell_type": "markdown",
   "metadata": {},
   "source": [
    "- **If listening to a stream**"
   ]
  },
  {
   "cell_type": "code",
   "execution_count": null,
   "metadata": {},
   "outputs": [],
   "source": [
    "def streaming_tweets():\n",
    "    #This is a basic listener that just prints received tweets to stdout.\n",
    "    class StdOutListener(StreamListener):\n",
    "\n",
    "        def on_data(self, data):\n",
    "            print(data)\n",
    "            return True\n",
    "\n",
    "        def on_error(self, status):\n",
    "            print(status)\n",
    "\n",
    "    #This handles Twitter authetification and the connection to Twitter Streaming API\n",
    "    l = StdOutListener()\n",
    "    stream = Stream(auth, l)\n",
    "\n",
    "    #This line filter Twitter Streams to capture data by the keywords: 'GoT'\n",
    "    stream.filter(track=['#GameofThrones'])"
   ]
  },
  {
   "cell_type": "markdown",
   "metadata": {},
   "source": [
    "tweets_path = '../data/twitter_data.txt'"
   ]
  },
  {
   "cell_type": "markdown",
   "metadata": {},
   "source": [
    "tweets_data = []\n",
    "with open(tweets_path, \"r\") as f:\n",
    "    for line in f:\n",
    "        try:\n",
    "            tweet = json.loads(line)\n",
    "            tweets_data.append(tweet)\n",
    "        except:\n",
    "            continue"
   ]
  },
  {
   "cell_type": "markdown",
   "metadata": {},
   "source": [
    "- **If searching for all hashtags since a certain day**"
   ]
  },
  {
   "cell_type": "code",
   "execution_count": 160,
   "metadata": {},
   "outputs": [],
   "source": [
    "api = tweepy.API(auth)"
   ]
  },
  {
   "cell_type": "code",
   "execution_count": 161,
   "metadata": {},
   "outputs": [
    {
     "name": "stdout",
     "output_type": "stream",
     "text": [
      "Reached rate limit. Please try again later.\n"
     ]
    }
   ],
   "source": [
    "gtweets = []\n",
    "try:\n",
    "    for tweet in tweepy.Cursor(api.search,q=\"#GameofThrones\",count=100,\n",
    "                               lang=\"en\",\n",
    "                               since=\"2019-05-18\",\n",
    "                               until=\"2019-05-19\").items():\n",
    "        gtweets.append(tweet)\n",
    "except:\n",
    "    print(\"Reached rate limit. Please try again later.\")"
   ]
  },
  {
   "cell_type": "code",
   "execution_count": 109,
   "metadata": {},
   "outputs": [],
   "source": [
    "tweets_data = []\n",
    "for line in gtweets:\n",
    "    try:\n",
    "        tweet = line._json\n",
    "        tweets_data.append(tweet)\n",
    "    except:\n",
    "        continue"
   ]
  },
  {
   "cell_type": "code",
   "execution_count": 110,
   "metadata": {
    "scrolled": true
   },
   "outputs": [
    {
     "data": {
      "text/plain": [
       "12562"
      ]
     },
     "execution_count": 110,
     "metadata": {},
     "output_type": "execute_result"
    }
   ],
   "source": [
    "len(tweets_data)"
   ]
  },
  {
   "cell_type": "markdown",
   "metadata": {},
   "source": [
    "# Get tweets into a dataframe"
   ]
  },
  {
   "cell_type": "code",
   "execution_count": 111,
   "metadata": {},
   "outputs": [],
   "source": [
    "tweets = pd.DataFrame()"
   ]
  },
  {
   "cell_type": "code",
   "execution_count": 18,
   "metadata": {},
   "outputs": [
    {
     "data": {
      "text/plain": [
       "dict_keys(['created_at', 'id', 'id_str', 'text', 'truncated', 'entities', 'metadata', 'source', 'in_reply_to_status_id', 'in_reply_to_status_id_str', 'in_reply_to_user_id', 'in_reply_to_user_id_str', 'in_reply_to_screen_name', 'user', 'geo', 'coordinates', 'place', 'contributors', 'retweeted_status', 'is_quote_status', 'retweet_count', 'favorite_count', 'favorited', 'retweeted', 'lang'])"
      ]
     },
     "execution_count": 18,
     "metadata": {},
     "output_type": "execute_result"
    }
   ],
   "source": [
    "tweets_data[0].keys()"
   ]
  },
  {
   "cell_type": "code",
   "execution_count": 112,
   "metadata": {},
   "outputs": [],
   "source": [
    "interest = ['created_at', 'text','geo', 'coordinates','is_quote_status', 'retweet_count', 'favorite_count', 'lang']"
   ]
  },
  {
   "cell_type": "markdown",
   "metadata": {},
   "source": [
    "> 'retweeted' is always False so retweet_count is more reliable.\n",
    "\n",
    "> 'favorited' as well"
   ]
  },
  {
   "cell_type": "code",
   "execution_count": 113,
   "metadata": {},
   "outputs": [],
   "source": [
    "for dim in interest:\n",
    "    tweets[dim] = list(map(lambda tweet: tweet[dim], tweets_data))"
   ]
  },
  {
   "cell_type": "code",
   "execution_count": 114,
   "metadata": {
    "scrolled": true
   },
   "outputs": [
    {
     "data": {
      "text/html": [
       "<div>\n",
       "<style scoped>\n",
       "    .dataframe tbody tr th:only-of-type {\n",
       "        vertical-align: middle;\n",
       "    }\n",
       "\n",
       "    .dataframe tbody tr th {\n",
       "        vertical-align: top;\n",
       "    }\n",
       "\n",
       "    .dataframe thead th {\n",
       "        text-align: right;\n",
       "    }\n",
       "</style>\n",
       "<table border=\"1\" class=\"dataframe\">\n",
       "  <thead>\n",
       "    <tr style=\"text-align: right;\">\n",
       "      <th></th>\n",
       "      <th>created_at</th>\n",
       "      <th>text</th>\n",
       "      <th>geo</th>\n",
       "      <th>coordinates</th>\n",
       "      <th>is_quote_status</th>\n",
       "      <th>retweet_count</th>\n",
       "      <th>favorite_count</th>\n",
       "      <th>lang</th>\n",
       "    </tr>\n",
       "  </thead>\n",
       "  <tbody>\n",
       "    <tr>\n",
       "      <th>12561</th>\n",
       "      <td>Sun May 26 03:38:24 +0000 2019</td>\n",
       "      <td>RT @RottenTomatoes: Every season of #GameofThr...</td>\n",
       "      <td>None</td>\n",
       "      <td>None</td>\n",
       "      <td>False</td>\n",
       "      <td>757</td>\n",
       "      <td>0</td>\n",
       "      <td>en</td>\n",
       "    </tr>\n",
       "    <tr>\n",
       "      <th>12560</th>\n",
       "      <td>Sun May 26 03:38:36 +0000 2019</td>\n",
       "      <td>Just watched the season finale of #GameOfThron...</td>\n",
       "      <td>None</td>\n",
       "      <td>None</td>\n",
       "      <td>False</td>\n",
       "      <td>0</td>\n",
       "      <td>3</td>\n",
       "      <td>en</td>\n",
       "    </tr>\n",
       "    <tr>\n",
       "      <th>12559</th>\n",
       "      <td>Sun May 26 03:38:38 +0000 2019</td>\n",
       "      <td>Tyrion's quips the first season are just amazi...</td>\n",
       "      <td>None</td>\n",
       "      <td>None</td>\n",
       "      <td>False</td>\n",
       "      <td>0</td>\n",
       "      <td>0</td>\n",
       "      <td>en</td>\n",
       "    </tr>\n",
       "    <tr>\n",
       "      <th>12558</th>\n",
       "      <td>Sun May 26 03:38:46 +0000 2019</td>\n",
       "      <td>My dog left me this cryptic message this morni...</td>\n",
       "      <td>None</td>\n",
       "      <td>None</td>\n",
       "      <td>False</td>\n",
       "      <td>1</td>\n",
       "      <td>1</td>\n",
       "      <td>en</td>\n",
       "    </tr>\n",
       "    <tr>\n",
       "      <th>12557</th>\n",
       "      <td>Sun May 26 03:39:00 +0000 2019</td>\n",
       "      <td>RT @Thrones_Memes: People that don't watch #Ga...</td>\n",
       "      <td>None</td>\n",
       "      <td>None</td>\n",
       "      <td>False</td>\n",
       "      <td>6227</td>\n",
       "      <td>0</td>\n",
       "      <td>en</td>\n",
       "    </tr>\n",
       "    <tr>\n",
       "      <th>12556</th>\n",
       "      <td>Sun May 26 03:39:16 +0000 2019</td>\n",
       "      <td>RT @IndiiCreates: ✨ART RAFFLE✨\\nThank you so m...</td>\n",
       "      <td>None</td>\n",
       "      <td>None</td>\n",
       "      <td>False</td>\n",
       "      <td>610</td>\n",
       "      <td>0</td>\n",
       "      <td>en</td>\n",
       "    </tr>\n",
       "    <tr>\n",
       "      <th>12555</th>\n",
       "      <td>Sun May 26 03:39:17 +0000 2019</td>\n",
       "      <td>RT @theDALTONcastle: Yesterday, I requested my...</td>\n",
       "      <td>None</td>\n",
       "      <td>None</td>\n",
       "      <td>False</td>\n",
       "      <td>881</td>\n",
       "      <td>0</td>\n",
       "      <td>en</td>\n",
       "    </tr>\n",
       "    <tr>\n",
       "      <th>12554</th>\n",
       "      <td>Sun May 26 03:39:30 +0000 2019</td>\n",
       "      <td>RT @CBR: #GameofThrones Fans Raise Over $25,00...</td>\n",
       "      <td>None</td>\n",
       "      <td>None</td>\n",
       "      <td>False</td>\n",
       "      <td>7</td>\n",
       "      <td>0</td>\n",
       "      <td>en</td>\n",
       "    </tr>\n",
       "    <tr>\n",
       "      <th>12553</th>\n",
       "      <td>Sun May 26 03:39:38 +0000 2019</td>\n",
       "      <td>Well, I didn’t think I could do it. 🤭\\n\\nI did...</td>\n",
       "      <td>None</td>\n",
       "      <td>None</td>\n",
       "      <td>False</td>\n",
       "      <td>0</td>\n",
       "      <td>3</td>\n",
       "      <td>en</td>\n",
       "    </tr>\n",
       "    <tr>\n",
       "      <th>12552</th>\n",
       "      <td>Sun May 26 03:39:48 +0000 2019</td>\n",
       "      <td>RT @thronesfacts: HBO Exec @CaseyBloys says th...</td>\n",
       "      <td>None</td>\n",
       "      <td>None</td>\n",
       "      <td>False</td>\n",
       "      <td>76</td>\n",
       "      <td>0</td>\n",
       "      <td>en</td>\n",
       "    </tr>\n",
       "  </tbody>\n",
       "</table>\n",
       "</div>"
      ],
      "text/plain": [
       "                           created_at  \\\n",
       "12561  Sun May 26 03:38:24 +0000 2019   \n",
       "12560  Sun May 26 03:38:36 +0000 2019   \n",
       "12559  Sun May 26 03:38:38 +0000 2019   \n",
       "12558  Sun May 26 03:38:46 +0000 2019   \n",
       "12557  Sun May 26 03:39:00 +0000 2019   \n",
       "12556  Sun May 26 03:39:16 +0000 2019   \n",
       "12555  Sun May 26 03:39:17 +0000 2019   \n",
       "12554  Sun May 26 03:39:30 +0000 2019   \n",
       "12553  Sun May 26 03:39:38 +0000 2019   \n",
       "12552  Sun May 26 03:39:48 +0000 2019   \n",
       "\n",
       "                                                    text   geo coordinates  \\\n",
       "12561  RT @RottenTomatoes: Every season of #GameofThr...  None        None   \n",
       "12560  Just watched the season finale of #GameOfThron...  None        None   \n",
       "12559  Tyrion's quips the first season are just amazi...  None        None   \n",
       "12558  My dog left me this cryptic message this morni...  None        None   \n",
       "12557  RT @Thrones_Memes: People that don't watch #Ga...  None        None   \n",
       "12556  RT @IndiiCreates: ✨ART RAFFLE✨\\nThank you so m...  None        None   \n",
       "12555  RT @theDALTONcastle: Yesterday, I requested my...  None        None   \n",
       "12554  RT @CBR: #GameofThrones Fans Raise Over $25,00...  None        None   \n",
       "12553  Well, I didn’t think I could do it. 🤭\\n\\nI did...  None        None   \n",
       "12552  RT @thronesfacts: HBO Exec @CaseyBloys says th...  None        None   \n",
       "\n",
       "       is_quote_status  retweet_count  favorite_count lang  \n",
       "12561            False            757               0   en  \n",
       "12560            False              0               3   en  \n",
       "12559            False              0               0   en  \n",
       "12558            False              1               1   en  \n",
       "12557            False           6227               0   en  \n",
       "12556            False            610               0   en  \n",
       "12555            False            881               0   en  \n",
       "12554            False              7               0   en  \n",
       "12553            False              0               3   en  \n",
       "12552            False             76               0   en  "
      ]
     },
     "execution_count": 114,
     "metadata": {},
     "output_type": "execute_result"
    }
   ],
   "source": [
    "tweets.sort_values(\"created_at\", ascending = True).head(10)"
   ]
  },
  {
   "cell_type": "code",
   "execution_count": 5,
   "metadata": {},
   "outputs": [],
   "source": [
    "tweets = pd.read_csv('../data/GoTweets.csv', index_col=0)"
   ]
  },
  {
   "cell_type": "code",
   "execution_count": 68,
   "metadata": {},
   "outputs": [
    {
     "data": {
      "text/plain": [
       "(12711, 8)"
      ]
     },
     "execution_count": 68,
     "metadata": {},
     "output_type": "execute_result"
    }
   ],
   "source": [
    "tweets.shape"
   ]
  },
  {
   "cell_type": "code",
   "execution_count": 23,
   "metadata": {},
   "outputs": [
    {
     "data": {
      "text/html": [
       "<div>\n",
       "<style scoped>\n",
       "    .dataframe tbody tr th:only-of-type {\n",
       "        vertical-align: middle;\n",
       "    }\n",
       "\n",
       "    .dataframe tbody tr th {\n",
       "        vertical-align: top;\n",
       "    }\n",
       "\n",
       "    .dataframe thead th {\n",
       "        text-align: right;\n",
       "    }\n",
       "</style>\n",
       "<table border=\"1\" class=\"dataframe\">\n",
       "  <thead>\n",
       "    <tr style=\"text-align: right;\">\n",
       "      <th></th>\n",
       "      <th>created_at</th>\n",
       "      <th>text</th>\n",
       "      <th>geo</th>\n",
       "      <th>coordinates</th>\n",
       "      <th>is_quote_status</th>\n",
       "      <th>retweet_count</th>\n",
       "      <th>favorite_count</th>\n",
       "      <th>lang</th>\n",
       "    </tr>\n",
       "  </thead>\n",
       "  <tbody>\n",
       "    <tr>\n",
       "      <th>0</th>\n",
       "      <td>Sun May 26 17:21:08 +0000 2019</td>\n",
       "      <td>RT @vincenzolandino: Flying dragon in augmente...</td>\n",
       "      <td>None</td>\n",
       "      <td>None</td>\n",
       "      <td>False</td>\n",
       "      <td>12</td>\n",
       "      <td>0</td>\n",
       "      <td>en</td>\n",
       "    </tr>\n",
       "    <tr>\n",
       "      <th>1</th>\n",
       "      <td>Sun May 26 17:21:05 +0000 2019</td>\n",
       "      <td>RT @GameOfThrones: The Last Watch.\\nFrom @Jean...</td>\n",
       "      <td>None</td>\n",
       "      <td>None</td>\n",
       "      <td>False</td>\n",
       "      <td>2670</td>\n",
       "      <td>0</td>\n",
       "      <td>en</td>\n",
       "    </tr>\n",
       "    <tr>\n",
       "      <th>2</th>\n",
       "      <td>Sun May 26 17:21:04 +0000 2019</td>\n",
       "      <td>RT @GameOfThrones: The Last Watch.\\nFrom @Jean...</td>\n",
       "      <td>None</td>\n",
       "      <td>None</td>\n",
       "      <td>False</td>\n",
       "      <td>2670</td>\n",
       "      <td>0</td>\n",
       "      <td>en</td>\n",
       "    </tr>\n",
       "    <tr>\n",
       "      <th>3</th>\n",
       "      <td>Sun May 26 17:21:03 +0000 2019</td>\n",
       "      <td>RT @GameOfThrones: The Last Watch.\\nFrom @Jean...</td>\n",
       "      <td>None</td>\n",
       "      <td>None</td>\n",
       "      <td>False</td>\n",
       "      <td>2670</td>\n",
       "      <td>0</td>\n",
       "      <td>en</td>\n",
       "    </tr>\n",
       "    <tr>\n",
       "      <th>4</th>\n",
       "      <td>Sun May 26 17:20:58 +0000 2019</td>\n",
       "      <td>This woman deserved Better :(\\n#GameOfThrones ...</td>\n",
       "      <td>None</td>\n",
       "      <td>None</td>\n",
       "      <td>False</td>\n",
       "      <td>0</td>\n",
       "      <td>0</td>\n",
       "      <td>en</td>\n",
       "    </tr>\n",
       "  </tbody>\n",
       "</table>\n",
       "</div>"
      ],
      "text/plain": [
       "                       created_at  \\\n",
       "0  Sun May 26 17:21:08 +0000 2019   \n",
       "1  Sun May 26 17:21:05 +0000 2019   \n",
       "2  Sun May 26 17:21:04 +0000 2019   \n",
       "3  Sun May 26 17:21:03 +0000 2019   \n",
       "4  Sun May 26 17:20:58 +0000 2019   \n",
       "\n",
       "                                                text   geo coordinates  \\\n",
       "0  RT @vincenzolandino: Flying dragon in augmente...  None        None   \n",
       "1  RT @GameOfThrones: The Last Watch.\\nFrom @Jean...  None        None   \n",
       "2  RT @GameOfThrones: The Last Watch.\\nFrom @Jean...  None        None   \n",
       "3  RT @GameOfThrones: The Last Watch.\\nFrom @Jean...  None        None   \n",
       "4  This woman deserved Better :(\\n#GameOfThrones ...  None        None   \n",
       "\n",
       "   is_quote_status  retweet_count  favorite_count lang  \n",
       "0            False             12               0   en  \n",
       "1            False           2670               0   en  \n",
       "2            False           2670               0   en  \n",
       "3            False           2670               0   en  \n",
       "4            False              0               0   en  "
      ]
     },
     "execution_count": 23,
     "metadata": {},
     "output_type": "execute_result"
    }
   ],
   "source": [
    "tweets.head()"
   ]
  },
  {
   "cell_type": "code",
   "execution_count": 115,
   "metadata": {},
   "outputs": [],
   "source": [
    "tweets = tweets.fillna('NA')"
   ]
  },
  {
   "cell_type": "code",
   "execution_count": 116,
   "metadata": {
    "scrolled": true
   },
   "outputs": [
    {
     "data": {
      "text/html": [
       "<div>\n",
       "<style scoped>\n",
       "    .dataframe tbody tr th:only-of-type {\n",
       "        vertical-align: middle;\n",
       "    }\n",
       "\n",
       "    .dataframe tbody tr th {\n",
       "        vertical-align: top;\n",
       "    }\n",
       "\n",
       "    .dataframe thead th {\n",
       "        text-align: right;\n",
       "    }\n",
       "</style>\n",
       "<table border=\"1\" class=\"dataframe\">\n",
       "  <thead>\n",
       "    <tr style=\"text-align: right;\">\n",
       "      <th></th>\n",
       "      <th>created_at</th>\n",
       "      <th>text</th>\n",
       "      <th>geo</th>\n",
       "      <th>coordinates</th>\n",
       "      <th>is_quote_status</th>\n",
       "      <th>retweet_count</th>\n",
       "      <th>favorite_count</th>\n",
       "      <th>lang</th>\n",
       "    </tr>\n",
       "  </thead>\n",
       "  <tbody>\n",
       "    <tr>\n",
       "      <th>589</th>\n",
       "      <td>Sun May 26 19:46:53 +0000 2019</td>\n",
       "      <td>Lots of fascia. Available now ebay for listing...</td>\n",
       "      <td>{'type': 'Point', 'coordinates': [34.0522, -11...</td>\n",
       "      <td>{'type': 'Point', 'coordinates': [-118.243, 34...</td>\n",
       "      <td>False</td>\n",
       "      <td>0</td>\n",
       "      <td>1</td>\n",
       "      <td>en</td>\n",
       "    </tr>\n",
       "    <tr>\n",
       "      <th>883</th>\n",
       "      <td>Sun May 26 19:31:52 +0000 2019</td>\n",
       "      <td>Nice little haul from #mcmcomiccon #comics #ga...</td>\n",
       "      <td>{'type': 'Point', 'coordinates': [51.50821756,...</td>\n",
       "      <td>{'type': 'Point', 'coordinates': [0.02840008, ...</td>\n",
       "      <td>False</td>\n",
       "      <td>0</td>\n",
       "      <td>0</td>\n",
       "      <td>en</td>\n",
       "    </tr>\n",
       "    <tr>\n",
       "      <th>1410</th>\n",
       "      <td>Sun May 26 19:02:00 +0000 2019</td>\n",
       "      <td>Whether you loved or hated the #gameofthrones ...</td>\n",
       "      <td>{'type': 'Point', 'coordinates': [27.70698154,...</td>\n",
       "      <td>{'type': 'Point', 'coordinates': [-97.37391846...</td>\n",
       "      <td>False</td>\n",
       "      <td>0</td>\n",
       "      <td>0</td>\n",
       "      <td>en</td>\n",
       "    </tr>\n",
       "    <tr>\n",
       "      <th>1484</th>\n",
       "      <td>Sun May 26 18:58:21 +0000 2019</td>\n",
       "      <td>Not Today. #GameofThrones #StreetArt @ Stevens...</td>\n",
       "      <td>{'type': 'Point', 'coordinates': [53.48273625,...</td>\n",
       "      <td>{'type': 'Point', 'coordinates': [-2.2341009, ...</td>\n",
       "      <td>False</td>\n",
       "      <td>0</td>\n",
       "      <td>0</td>\n",
       "      <td>en</td>\n",
       "    </tr>\n",
       "    <tr>\n",
       "      <th>1945</th>\n",
       "      <td>Sun May 26 18:34:34 +0000 2019</td>\n",
       "      <td>Great #gameofthrones #runningtour this morning...</td>\n",
       "      <td>{'type': 'Point', 'coordinates': [55.20223, -6...</td>\n",
       "      <td>{'type': 'Point', 'coordinates': [-6.24791, 55...</td>\n",
       "      <td>False</td>\n",
       "      <td>0</td>\n",
       "      <td>0</td>\n",
       "      <td>en</td>\n",
       "    </tr>\n",
       "    <tr>\n",
       "      <th>2357</th>\n",
       "      <td>Sun May 26 18:12:30 +0000 2019</td>\n",
       "      <td>🔥I'm not a Princess. I'm a KHALEESI 🔥\\nil vero...</td>\n",
       "      <td>{'type': 'Point', 'coordinates': [41.41675991,...</td>\n",
       "      <td>{'type': 'Point', 'coordinates': [15.65217018,...</td>\n",
       "      <td>False</td>\n",
       "      <td>0</td>\n",
       "      <td>0</td>\n",
       "      <td>en</td>\n",
       "    </tr>\n",
       "    <tr>\n",
       "      <th>2433</th>\n",
       "      <td>Sun May 26 18:07:52 +0000 2019</td>\n",
       "      <td>oh Jon Snow always so perplexed that he even r...</td>\n",
       "      <td>{'type': 'Point', 'coordinates': [41.22178762,...</td>\n",
       "      <td>{'type': 'Point', 'coordinates': [32.64740417,...</td>\n",
       "      <td>False</td>\n",
       "      <td>0</td>\n",
       "      <td>0</td>\n",
       "      <td>en</td>\n",
       "    </tr>\n",
       "    <tr>\n",
       "      <th>2732</th>\n",
       "      <td>Sun May 26 17:54:35 +0000 2019</td>\n",
       "      <td>The Lion 🦁 Guard should have been #GOT protect...</td>\n",
       "      <td>{'type': 'Point', 'coordinates': [40.7114, -74...</td>\n",
       "      <td>{'type': 'Point', 'coordinates': [-74.0647, 40...</td>\n",
       "      <td>False</td>\n",
       "      <td>0</td>\n",
       "      <td>0</td>\n",
       "      <td>en</td>\n",
       "    </tr>\n",
       "    <tr>\n",
       "      <th>3150</th>\n",
       "      <td>Sun May 26 17:33:30 +0000 2019</td>\n",
       "      <td>LEARN TO FIGHT LIKE ARYA STARK FROM ARCHWAY SE...</td>\n",
       "      <td>{'type': 'Point', 'coordinates': [38.62901739,...</td>\n",
       "      <td>{'type': 'Point', 'coordinates': [-90.20291351...</td>\n",
       "      <td>False</td>\n",
       "      <td>0</td>\n",
       "      <td>0</td>\n",
       "      <td>en</td>\n",
       "    </tr>\n",
       "    <tr>\n",
       "      <th>4791</th>\n",
       "      <td>Sun May 26 16:28:42 +0000 2019</td>\n",
       "      <td>Jon Snow \\n\\nDay 1 balitattooexpo\\nTattoo Arti...</td>\n",
       "      <td>{'type': 'Point', 'coordinates': [-8.63854626,...</td>\n",
       "      <td>{'type': 'Point', 'coordinates': [115.25518227...</td>\n",
       "      <td>False</td>\n",
       "      <td>0</td>\n",
       "      <td>0</td>\n",
       "      <td>en</td>\n",
       "    </tr>\n",
       "    <tr>\n",
       "      <th>4832</th>\n",
       "      <td>Sun May 26 16:27:36 +0000 2019</td>\n",
       "      <td>Rhaegal\\n\\nDay 3 balitattooexpo\\nTattoo Artist...</td>\n",
       "      <td>{'type': 'Point', 'coordinates': [-8.63854626,...</td>\n",
       "      <td>{'type': 'Point', 'coordinates': [115.25518227...</td>\n",
       "      <td>False</td>\n",
       "      <td>0</td>\n",
       "      <td>0</td>\n",
       "      <td>en</td>\n",
       "    </tr>\n",
       "    <tr>\n",
       "      <th>5466</th>\n",
       "      <td>Sun May 26 16:11:50 +0000 2019</td>\n",
       "      <td>The Last Watch.\\nFrom @JeanieFinlay, the #Game...</td>\n",
       "      <td>{'type': 'Point', 'coordinates': [10.2607682, ...</td>\n",
       "      <td>{'type': 'Point', 'coordinates': [-67.6057317,...</td>\n",
       "      <td>False</td>\n",
       "      <td>0</td>\n",
       "      <td>0</td>\n",
       "      <td>en</td>\n",
       "    </tr>\n",
       "    <tr>\n",
       "      <th>6100</th>\n",
       "      <td>Sun May 26 15:54:32 +0000 2019</td>\n",
       "      <td>Rhaegal\\n\\nDay 3 balitattooexpo \\nTattoo artis...</td>\n",
       "      <td>{'type': 'Point', 'coordinates': [-8.63854626,...</td>\n",
       "      <td>{'type': 'Point', 'coordinates': [115.25518227...</td>\n",
       "      <td>False</td>\n",
       "      <td>0</td>\n",
       "      <td>0</td>\n",
       "      <td>en</td>\n",
       "    </tr>\n",
       "    <tr>\n",
       "      <th>6136</th>\n",
       "      <td>Sun May 26 15:51:03 +0000 2019</td>\n",
       "      <td>Jon Snow \\n\\nDay 1 balitattooexpo\\nTattoo arti...</td>\n",
       "      <td>{'type': 'Point', 'coordinates': [-8.63854626,...</td>\n",
       "      <td>{'type': 'Point', 'coordinates': [115.25518227...</td>\n",
       "      <td>False</td>\n",
       "      <td>0</td>\n",
       "      <td>0</td>\n",
       "      <td>en</td>\n",
       "    </tr>\n",
       "    <tr>\n",
       "      <th>6159</th>\n",
       "      <td>Sun May 26 15:48:49 +0000 2019</td>\n",
       "      <td>Stopped in at Winterfell to see how Sansa is d...</td>\n",
       "      <td>{'type': 'Point', 'coordinates': [56.18515833,...</td>\n",
       "      <td>{'type': 'Point', 'coordinates': [-4.05025278,...</td>\n",
       "      <td>False</td>\n",
       "      <td>0</td>\n",
       "      <td>0</td>\n",
       "      <td>en</td>\n",
       "    </tr>\n",
       "    <tr>\n",
       "      <th>6267</th>\n",
       "      <td>Sun May 26 15:39:56 +0000 2019</td>\n",
       "      <td>Game of thrones playmobile edition\\n#gameofthr...</td>\n",
       "      <td>{'type': 'Point', 'coordinates': [53.645, -1.7...</td>\n",
       "      <td>{'type': 'Point', 'coordinates': [-1.77972222,...</td>\n",
       "      <td>False</td>\n",
       "      <td>0</td>\n",
       "      <td>0</td>\n",
       "      <td>en</td>\n",
       "    </tr>\n",
       "    <tr>\n",
       "      <th>6412</th>\n",
       "      <td>Sun May 26 15:30:05 +0000 2019</td>\n",
       "      <td>Maritime Festival 2019 #belfast #ships #gameof...</td>\n",
       "      <td>{'type': 'Point', 'coordinates': [54.60519, -5...</td>\n",
       "      <td>{'type': 'Point', 'coordinates': [-5.92194, 54...</td>\n",
       "      <td>False</td>\n",
       "      <td>0</td>\n",
       "      <td>0</td>\n",
       "      <td>en</td>\n",
       "    </tr>\n",
       "    <tr>\n",
       "      <th>7727</th>\n",
       "      <td>Sun May 26 13:47:04 +0000 2019</td>\n",
       "      <td>#gameofthrones #whitewalker #streetart #manche...</td>\n",
       "      <td>{'type': 'Point', 'coordinates': [53.4793, -2....</td>\n",
       "      <td>{'type': 'Point', 'coordinates': [-2.2463, 53....</td>\n",
       "      <td>False</td>\n",
       "      <td>0</td>\n",
       "      <td>1</td>\n",
       "      <td>en</td>\n",
       "    </tr>\n",
       "    <tr>\n",
       "      <th>8176</th>\n",
       "      <td>Sun May 26 13:02:36 +0000 2019</td>\n",
       "      <td>Handmade Drogon dragon egg each scale has been...</td>\n",
       "      <td>{'type': 'Point', 'coordinates': [54.945, -1.6...</td>\n",
       "      <td>{'type': 'Point', 'coordinates': [-1.6175, 54....</td>\n",
       "      <td>False</td>\n",
       "      <td>0</td>\n",
       "      <td>0</td>\n",
       "      <td>en</td>\n",
       "    </tr>\n",
       "    <tr>\n",
       "      <th>8725</th>\n",
       "      <td>Sun May 26 12:05:14 +0000 2019</td>\n",
       "      <td>it’s May 26th but, “winter is coming” (cit.) \\...</td>\n",
       "      <td>{'type': 'Point', 'coordinates': [46.13454553,...</td>\n",
       "      <td>{'type': 'Point', 'coordinates': [9.29066206, ...</td>\n",
       "      <td>False</td>\n",
       "      <td>0</td>\n",
       "      <td>0</td>\n",
       "      <td>en</td>\n",
       "    </tr>\n",
       "    <tr>\n",
       "      <th>9225</th>\n",
       "      <td>Sun May 26 11:05:26 +0000 2019</td>\n",
       "      <td>A couple of Chinese tourists have just asked w...</td>\n",
       "      <td>{'type': 'Point', 'coordinates': [42.64115139,...</td>\n",
       "      <td>{'type': 'Point', 'coordinates': [18.10863703,...</td>\n",
       "      <td>False</td>\n",
       "      <td>0</td>\n",
       "      <td>1</td>\n",
       "      <td>en</td>\n",
       "    </tr>\n",
       "    <tr>\n",
       "      <th>9459</th>\n",
       "      <td>Sun May 26 10:36:07 +0000 2019</td>\n",
       "      <td>“What do we say to the God of death?”\\n“Not to...</td>\n",
       "      <td>{'type': 'Point', 'coordinates': [53.4793, -2....</td>\n",
       "      <td>{'type': 'Point', 'coordinates': [-2.2463, 53....</td>\n",
       "      <td>False</td>\n",
       "      <td>0</td>\n",
       "      <td>0</td>\n",
       "      <td>en</td>\n",
       "    </tr>\n",
       "    <tr>\n",
       "      <th>9706</th>\n",
       "      <td>Sun May 26 10:02:52 +0000 2019</td>\n",
       "      <td>Game of Thrones, requested from a guest at thi...</td>\n",
       "      <td>{'type': 'Point', 'coordinates': [51.41199384,...</td>\n",
       "      <td>{'type': 'Point', 'coordinates': [-0.67879597,...</td>\n",
       "      <td>False</td>\n",
       "      <td>0</td>\n",
       "      <td>0</td>\n",
       "      <td>en</td>\n",
       "    </tr>\n",
       "    <tr>\n",
       "      <th>9712</th>\n",
       "      <td>Sun May 26 10:02:21 +0000 2019</td>\n",
       "      <td>Magical #GameofThrones #ThemedWedding ⚔️👑✨ TAG...</td>\n",
       "      <td>{'type': 'Point', 'coordinates': [41.88328646,...</td>\n",
       "      <td>{'type': 'Point', 'coordinates': [-72.66589385...</td>\n",
       "      <td>False</td>\n",
       "      <td>1</td>\n",
       "      <td>2</td>\n",
       "      <td>en</td>\n",
       "    </tr>\n",
       "    <tr>\n",
       "      <th>9807</th>\n",
       "      <td>Sun May 26 09:50:15 +0000 2019</td>\n",
       "      <td>My new crush Jake! #gameofthrones #inuitdog @ ...</td>\n",
       "      <td>{'type': 'Point', 'coordinates': [50.91963245,...</td>\n",
       "      <td>{'type': 'Point', 'coordinates': [0.65472858, ...</td>\n",
       "      <td>False</td>\n",
       "      <td>0</td>\n",
       "      <td>0</td>\n",
       "      <td>en</td>\n",
       "    </tr>\n",
       "    <tr>\n",
       "      <th>10175</th>\n",
       "      <td>Sun May 26 08:57:47 +0000 2019</td>\n",
       "      <td>Watching how much king’s landing is pretty whe...</td>\n",
       "      <td>{'type': 'Point', 'coordinates': [42.64115139,...</td>\n",
       "      <td>{'type': 'Point', 'coordinates': [18.10863703,...</td>\n",
       "      <td>False</td>\n",
       "      <td>0</td>\n",
       "      <td>1</td>\n",
       "      <td>en</td>\n",
       "    </tr>\n",
       "    <tr>\n",
       "      <th>10688</th>\n",
       "      <td>Sun May 26 07:48:28 +0000 2019</td>\n",
       "      <td>MCM London Comic con part 2! 😍 #mcmcomiccon #m...</td>\n",
       "      <td>{'type': 'Point', 'coordinates': [51.50822801,...</td>\n",
       "      <td>{'type': 'Point', 'coordinates': [0.02902128, ...</td>\n",
       "      <td>False</td>\n",
       "      <td>0</td>\n",
       "      <td>2</td>\n",
       "      <td>en</td>\n",
       "    </tr>\n",
       "    <tr>\n",
       "      <th>11092</th>\n",
       "      <td>Sun May 26 06:53:12 +0000 2019</td>\n",
       "      <td>#tees #tshirt #tshirtdress #tshirtdesign #tshi...</td>\n",
       "      <td>{'type': 'Point', 'coordinates': [6.5, 6.0]}</td>\n",
       "      <td>{'type': 'Point', 'coordinates': [6.0, 6.5]}</td>\n",
       "      <td>False</td>\n",
       "      <td>0</td>\n",
       "      <td>0</td>\n",
       "      <td>en</td>\n",
       "    </tr>\n",
       "    <tr>\n",
       "      <th>11360</th>\n",
       "      <td>Sun May 26 06:13:47 +0000 2019</td>\n",
       "      <td>After completing Game of Thrones Nikolaj Coste...</td>\n",
       "      <td>{'type': 'Point', 'coordinates': [34.5331, 69....</td>\n",
       "      <td>{'type': 'Point', 'coordinates': [69.1661, 34....</td>\n",
       "      <td>False</td>\n",
       "      <td>0</td>\n",
       "      <td>0</td>\n",
       "      <td>en</td>\n",
       "    </tr>\n",
       "    <tr>\n",
       "      <th>12101</th>\n",
       "      <td>Sun May 26 04:31:58 +0000 2019</td>\n",
       "      <td>#ancestry #history #myheritage #gameofthrones ...</td>\n",
       "      <td>{'type': 'Point', 'coordinates': [37.5, -85.0]}</td>\n",
       "      <td>{'type': 'Point', 'coordinates': [-85.0, 37.5]}</td>\n",
       "      <td>False</td>\n",
       "      <td>1</td>\n",
       "      <td>1</td>\n",
       "      <td>en</td>\n",
       "    </tr>\n",
       "  </tbody>\n",
       "</table>\n",
       "</div>"
      ],
      "text/plain": [
       "                           created_at  \\\n",
       "589    Sun May 26 19:46:53 +0000 2019   \n",
       "883    Sun May 26 19:31:52 +0000 2019   \n",
       "1410   Sun May 26 19:02:00 +0000 2019   \n",
       "1484   Sun May 26 18:58:21 +0000 2019   \n",
       "1945   Sun May 26 18:34:34 +0000 2019   \n",
       "2357   Sun May 26 18:12:30 +0000 2019   \n",
       "2433   Sun May 26 18:07:52 +0000 2019   \n",
       "2732   Sun May 26 17:54:35 +0000 2019   \n",
       "3150   Sun May 26 17:33:30 +0000 2019   \n",
       "4791   Sun May 26 16:28:42 +0000 2019   \n",
       "4832   Sun May 26 16:27:36 +0000 2019   \n",
       "5466   Sun May 26 16:11:50 +0000 2019   \n",
       "6100   Sun May 26 15:54:32 +0000 2019   \n",
       "6136   Sun May 26 15:51:03 +0000 2019   \n",
       "6159   Sun May 26 15:48:49 +0000 2019   \n",
       "6267   Sun May 26 15:39:56 +0000 2019   \n",
       "6412   Sun May 26 15:30:05 +0000 2019   \n",
       "7727   Sun May 26 13:47:04 +0000 2019   \n",
       "8176   Sun May 26 13:02:36 +0000 2019   \n",
       "8725   Sun May 26 12:05:14 +0000 2019   \n",
       "9225   Sun May 26 11:05:26 +0000 2019   \n",
       "9459   Sun May 26 10:36:07 +0000 2019   \n",
       "9706   Sun May 26 10:02:52 +0000 2019   \n",
       "9712   Sun May 26 10:02:21 +0000 2019   \n",
       "9807   Sun May 26 09:50:15 +0000 2019   \n",
       "10175  Sun May 26 08:57:47 +0000 2019   \n",
       "10688  Sun May 26 07:48:28 +0000 2019   \n",
       "11092  Sun May 26 06:53:12 +0000 2019   \n",
       "11360  Sun May 26 06:13:47 +0000 2019   \n",
       "12101  Sun May 26 04:31:58 +0000 2019   \n",
       "\n",
       "                                                    text  \\\n",
       "589    Lots of fascia. Available now ebay for listing...   \n",
       "883    Nice little haul from #mcmcomiccon #comics #ga...   \n",
       "1410   Whether you loved or hated the #gameofthrones ...   \n",
       "1484   Not Today. #GameofThrones #StreetArt @ Stevens...   \n",
       "1945   Great #gameofthrones #runningtour this morning...   \n",
       "2357   🔥I'm not a Princess. I'm a KHALEESI 🔥\\nil vero...   \n",
       "2433   oh Jon Snow always so perplexed that he even r...   \n",
       "2732   The Lion 🦁 Guard should have been #GOT protect...   \n",
       "3150   LEARN TO FIGHT LIKE ARYA STARK FROM ARCHWAY SE...   \n",
       "4791   Jon Snow \\n\\nDay 1 balitattooexpo\\nTattoo Arti...   \n",
       "4832   Rhaegal\\n\\nDay 3 balitattooexpo\\nTattoo Artist...   \n",
       "5466   The Last Watch.\\nFrom @JeanieFinlay, the #Game...   \n",
       "6100   Rhaegal\\n\\nDay 3 balitattooexpo \\nTattoo artis...   \n",
       "6136   Jon Snow \\n\\nDay 1 balitattooexpo\\nTattoo arti...   \n",
       "6159   Stopped in at Winterfell to see how Sansa is d...   \n",
       "6267   Game of thrones playmobile edition\\n#gameofthr...   \n",
       "6412   Maritime Festival 2019 #belfast #ships #gameof...   \n",
       "7727   #gameofthrones #whitewalker #streetart #manche...   \n",
       "8176   Handmade Drogon dragon egg each scale has been...   \n",
       "8725   it’s May 26th but, “winter is coming” (cit.) \\...   \n",
       "9225   A couple of Chinese tourists have just asked w...   \n",
       "9459   “What do we say to the God of death?”\\n“Not to...   \n",
       "9706   Game of Thrones, requested from a guest at thi...   \n",
       "9712   Magical #GameofThrones #ThemedWedding ⚔️👑✨ TAG...   \n",
       "9807   My new crush Jake! #gameofthrones #inuitdog @ ...   \n",
       "10175  Watching how much king’s landing is pretty whe...   \n",
       "10688  MCM London Comic con part 2! 😍 #mcmcomiccon #m...   \n",
       "11092  #tees #tshirt #tshirtdress #tshirtdesign #tshi...   \n",
       "11360  After completing Game of Thrones Nikolaj Coste...   \n",
       "12101  #ancestry #history #myheritage #gameofthrones ...   \n",
       "\n",
       "                                                     geo  \\\n",
       "589    {'type': 'Point', 'coordinates': [34.0522, -11...   \n",
       "883    {'type': 'Point', 'coordinates': [51.50821756,...   \n",
       "1410   {'type': 'Point', 'coordinates': [27.70698154,...   \n",
       "1484   {'type': 'Point', 'coordinates': [53.48273625,...   \n",
       "1945   {'type': 'Point', 'coordinates': [55.20223, -6...   \n",
       "2357   {'type': 'Point', 'coordinates': [41.41675991,...   \n",
       "2433   {'type': 'Point', 'coordinates': [41.22178762,...   \n",
       "2732   {'type': 'Point', 'coordinates': [40.7114, -74...   \n",
       "3150   {'type': 'Point', 'coordinates': [38.62901739,...   \n",
       "4791   {'type': 'Point', 'coordinates': [-8.63854626,...   \n",
       "4832   {'type': 'Point', 'coordinates': [-8.63854626,...   \n",
       "5466   {'type': 'Point', 'coordinates': [10.2607682, ...   \n",
       "6100   {'type': 'Point', 'coordinates': [-8.63854626,...   \n",
       "6136   {'type': 'Point', 'coordinates': [-8.63854626,...   \n",
       "6159   {'type': 'Point', 'coordinates': [56.18515833,...   \n",
       "6267   {'type': 'Point', 'coordinates': [53.645, -1.7...   \n",
       "6412   {'type': 'Point', 'coordinates': [54.60519, -5...   \n",
       "7727   {'type': 'Point', 'coordinates': [53.4793, -2....   \n",
       "8176   {'type': 'Point', 'coordinates': [54.945, -1.6...   \n",
       "8725   {'type': 'Point', 'coordinates': [46.13454553,...   \n",
       "9225   {'type': 'Point', 'coordinates': [42.64115139,...   \n",
       "9459   {'type': 'Point', 'coordinates': [53.4793, -2....   \n",
       "9706   {'type': 'Point', 'coordinates': [51.41199384,...   \n",
       "9712   {'type': 'Point', 'coordinates': [41.88328646,...   \n",
       "9807   {'type': 'Point', 'coordinates': [50.91963245,...   \n",
       "10175  {'type': 'Point', 'coordinates': [42.64115139,...   \n",
       "10688  {'type': 'Point', 'coordinates': [51.50822801,...   \n",
       "11092       {'type': 'Point', 'coordinates': [6.5, 6.0]}   \n",
       "11360  {'type': 'Point', 'coordinates': [34.5331, 69....   \n",
       "12101    {'type': 'Point', 'coordinates': [37.5, -85.0]}   \n",
       "\n",
       "                                             coordinates  is_quote_status  \\\n",
       "589    {'type': 'Point', 'coordinates': [-118.243, 34...            False   \n",
       "883    {'type': 'Point', 'coordinates': [0.02840008, ...            False   \n",
       "1410   {'type': 'Point', 'coordinates': [-97.37391846...            False   \n",
       "1484   {'type': 'Point', 'coordinates': [-2.2341009, ...            False   \n",
       "1945   {'type': 'Point', 'coordinates': [-6.24791, 55...            False   \n",
       "2357   {'type': 'Point', 'coordinates': [15.65217018,...            False   \n",
       "2433   {'type': 'Point', 'coordinates': [32.64740417,...            False   \n",
       "2732   {'type': 'Point', 'coordinates': [-74.0647, 40...            False   \n",
       "3150   {'type': 'Point', 'coordinates': [-90.20291351...            False   \n",
       "4791   {'type': 'Point', 'coordinates': [115.25518227...            False   \n",
       "4832   {'type': 'Point', 'coordinates': [115.25518227...            False   \n",
       "5466   {'type': 'Point', 'coordinates': [-67.6057317,...            False   \n",
       "6100   {'type': 'Point', 'coordinates': [115.25518227...            False   \n",
       "6136   {'type': 'Point', 'coordinates': [115.25518227...            False   \n",
       "6159   {'type': 'Point', 'coordinates': [-4.05025278,...            False   \n",
       "6267   {'type': 'Point', 'coordinates': [-1.77972222,...            False   \n",
       "6412   {'type': 'Point', 'coordinates': [-5.92194, 54...            False   \n",
       "7727   {'type': 'Point', 'coordinates': [-2.2463, 53....            False   \n",
       "8176   {'type': 'Point', 'coordinates': [-1.6175, 54....            False   \n",
       "8725   {'type': 'Point', 'coordinates': [9.29066206, ...            False   \n",
       "9225   {'type': 'Point', 'coordinates': [18.10863703,...            False   \n",
       "9459   {'type': 'Point', 'coordinates': [-2.2463, 53....            False   \n",
       "9706   {'type': 'Point', 'coordinates': [-0.67879597,...            False   \n",
       "9712   {'type': 'Point', 'coordinates': [-72.66589385...            False   \n",
       "9807   {'type': 'Point', 'coordinates': [0.65472858, ...            False   \n",
       "10175  {'type': 'Point', 'coordinates': [18.10863703,...            False   \n",
       "10688  {'type': 'Point', 'coordinates': [0.02902128, ...            False   \n",
       "11092       {'type': 'Point', 'coordinates': [6.0, 6.5]}            False   \n",
       "11360  {'type': 'Point', 'coordinates': [69.1661, 34....            False   \n",
       "12101    {'type': 'Point', 'coordinates': [-85.0, 37.5]}            False   \n",
       "\n",
       "       retweet_count  favorite_count lang  \n",
       "589                0               1   en  \n",
       "883                0               0   en  \n",
       "1410               0               0   en  \n",
       "1484               0               0   en  \n",
       "1945               0               0   en  \n",
       "2357               0               0   en  \n",
       "2433               0               0   en  \n",
       "2732               0               0   en  \n",
       "3150               0               0   en  \n",
       "4791               0               0   en  \n",
       "4832               0               0   en  \n",
       "5466               0               0   en  \n",
       "6100               0               0   en  \n",
       "6136               0               0   en  \n",
       "6159               0               0   en  \n",
       "6267               0               0   en  \n",
       "6412               0               0   en  \n",
       "7727               0               1   en  \n",
       "8176               0               0   en  \n",
       "8725               0               0   en  \n",
       "9225               0               1   en  \n",
       "9459               0               0   en  \n",
       "9706               0               0   en  \n",
       "9712               1               2   en  \n",
       "9807               0               0   en  \n",
       "10175              0               1   en  \n",
       "10688              0               2   en  \n",
       "11092              0               0   en  \n",
       "11360              0               0   en  \n",
       "12101              1               1   en  "
      ]
     },
     "execution_count": 116,
     "metadata": {},
     "output_type": "execute_result"
    }
   ],
   "source": [
    "tweets[tweets.geo != 'NA']"
   ]
  },
  {
   "cell_type": "code",
   "execution_count": 117,
   "metadata": {},
   "outputs": [],
   "source": [
    "def saveAsCoord(x):\n",
    "    try:\n",
    "        return tuple(x['coordinates'])\n",
    "    except:\n",
    "        return 'NA'"
   ]
  },
  {
   "cell_type": "code",
   "execution_count": 118,
   "metadata": {},
   "outputs": [],
   "source": [
    "tweets['geo_cor'] = tweets.geo.apply(saveAsCoord)"
   ]
  },
  {
   "cell_type": "code",
   "execution_count": 119,
   "metadata": {},
   "outputs": [],
   "source": [
    "tweets['cor_cor'] = tweets.coordinates.apply(saveAsCoord)"
   ]
  },
  {
   "cell_type": "code",
   "execution_count": 120,
   "metadata": {
    "scrolled": true
   },
   "outputs": [
    {
     "data": {
      "text/html": [
       "<div>\n",
       "<style scoped>\n",
       "    .dataframe tbody tr th:only-of-type {\n",
       "        vertical-align: middle;\n",
       "    }\n",
       "\n",
       "    .dataframe tbody tr th {\n",
       "        vertical-align: top;\n",
       "    }\n",
       "\n",
       "    .dataframe thead th {\n",
       "        text-align: right;\n",
       "    }\n",
       "</style>\n",
       "<table border=\"1\" class=\"dataframe\">\n",
       "  <thead>\n",
       "    <tr style=\"text-align: right;\">\n",
       "      <th></th>\n",
       "      <th>created_at</th>\n",
       "      <th>text</th>\n",
       "      <th>geo</th>\n",
       "      <th>coordinates</th>\n",
       "      <th>is_quote_status</th>\n",
       "      <th>retweet_count</th>\n",
       "      <th>favorite_count</th>\n",
       "      <th>lang</th>\n",
       "      <th>geo_cor</th>\n",
       "      <th>cor_cor</th>\n",
       "    </tr>\n",
       "  </thead>\n",
       "  <tbody>\n",
       "    <tr>\n",
       "      <th>589</th>\n",
       "      <td>Sun May 26 19:46:53 +0000 2019</td>\n",
       "      <td>Lots of fascia. Available now ebay for listing...</td>\n",
       "      <td>{'type': 'Point', 'coordinates': [34.0522, -11...</td>\n",
       "      <td>{'type': 'Point', 'coordinates': [-118.243, 34...</td>\n",
       "      <td>False</td>\n",
       "      <td>0</td>\n",
       "      <td>1</td>\n",
       "      <td>en</td>\n",
       "      <td>(34.0522, -118.243)</td>\n",
       "      <td>(-118.243, 34.0522)</td>\n",
       "    </tr>\n",
       "    <tr>\n",
       "      <th>883</th>\n",
       "      <td>Sun May 26 19:31:52 +0000 2019</td>\n",
       "      <td>Nice little haul from #mcmcomiccon #comics #ga...</td>\n",
       "      <td>{'type': 'Point', 'coordinates': [51.50821756,...</td>\n",
       "      <td>{'type': 'Point', 'coordinates': [0.02840008, ...</td>\n",
       "      <td>False</td>\n",
       "      <td>0</td>\n",
       "      <td>0</td>\n",
       "      <td>en</td>\n",
       "      <td>(51.50821756, 0.02840008)</td>\n",
       "      <td>(0.02840008, 51.50821756)</td>\n",
       "    </tr>\n",
       "    <tr>\n",
       "      <th>1410</th>\n",
       "      <td>Sun May 26 19:02:00 +0000 2019</td>\n",
       "      <td>Whether you loved or hated the #gameofthrones ...</td>\n",
       "      <td>{'type': 'Point', 'coordinates': [27.70698154,...</td>\n",
       "      <td>{'type': 'Point', 'coordinates': [-97.37391846...</td>\n",
       "      <td>False</td>\n",
       "      <td>0</td>\n",
       "      <td>0</td>\n",
       "      <td>en</td>\n",
       "      <td>(27.70698154, -97.37391846)</td>\n",
       "      <td>(-97.37391846, 27.70698154)</td>\n",
       "    </tr>\n",
       "    <tr>\n",
       "      <th>1484</th>\n",
       "      <td>Sun May 26 18:58:21 +0000 2019</td>\n",
       "      <td>Not Today. #GameofThrones #StreetArt @ Stevens...</td>\n",
       "      <td>{'type': 'Point', 'coordinates': [53.48273625,...</td>\n",
       "      <td>{'type': 'Point', 'coordinates': [-2.2341009, ...</td>\n",
       "      <td>False</td>\n",
       "      <td>0</td>\n",
       "      <td>0</td>\n",
       "      <td>en</td>\n",
       "      <td>(53.48273625, -2.2341009)</td>\n",
       "      <td>(-2.2341009, 53.48273625)</td>\n",
       "    </tr>\n",
       "    <tr>\n",
       "      <th>1945</th>\n",
       "      <td>Sun May 26 18:34:34 +0000 2019</td>\n",
       "      <td>Great #gameofthrones #runningtour this morning...</td>\n",
       "      <td>{'type': 'Point', 'coordinates': [55.20223, -6...</td>\n",
       "      <td>{'type': 'Point', 'coordinates': [-6.24791, 55...</td>\n",
       "      <td>False</td>\n",
       "      <td>0</td>\n",
       "      <td>0</td>\n",
       "      <td>en</td>\n",
       "      <td>(55.20223, -6.24791)</td>\n",
       "      <td>(-6.24791, 55.20223)</td>\n",
       "    </tr>\n",
       "    <tr>\n",
       "      <th>2357</th>\n",
       "      <td>Sun May 26 18:12:30 +0000 2019</td>\n",
       "      <td>🔥I'm not a Princess. I'm a KHALEESI 🔥\\nil vero...</td>\n",
       "      <td>{'type': 'Point', 'coordinates': [41.41675991,...</td>\n",
       "      <td>{'type': 'Point', 'coordinates': [15.65217018,...</td>\n",
       "      <td>False</td>\n",
       "      <td>0</td>\n",
       "      <td>0</td>\n",
       "      <td>en</td>\n",
       "      <td>(41.41675991, 15.65217018)</td>\n",
       "      <td>(15.65217018, 41.41675991)</td>\n",
       "    </tr>\n",
       "    <tr>\n",
       "      <th>2433</th>\n",
       "      <td>Sun May 26 18:07:52 +0000 2019</td>\n",
       "      <td>oh Jon Snow always so perplexed that he even r...</td>\n",
       "      <td>{'type': 'Point', 'coordinates': [41.22178762,...</td>\n",
       "      <td>{'type': 'Point', 'coordinates': [32.64740417,...</td>\n",
       "      <td>False</td>\n",
       "      <td>0</td>\n",
       "      <td>0</td>\n",
       "      <td>en</td>\n",
       "      <td>(41.22178762, 32.64740417)</td>\n",
       "      <td>(32.64740417, 41.22178762)</td>\n",
       "    </tr>\n",
       "    <tr>\n",
       "      <th>2732</th>\n",
       "      <td>Sun May 26 17:54:35 +0000 2019</td>\n",
       "      <td>The Lion 🦁 Guard should have been #GOT protect...</td>\n",
       "      <td>{'type': 'Point', 'coordinates': [40.7114, -74...</td>\n",
       "      <td>{'type': 'Point', 'coordinates': [-74.0647, 40...</td>\n",
       "      <td>False</td>\n",
       "      <td>0</td>\n",
       "      <td>0</td>\n",
       "      <td>en</td>\n",
       "      <td>(40.7114, -74.0647)</td>\n",
       "      <td>(-74.0647, 40.7114)</td>\n",
       "    </tr>\n",
       "    <tr>\n",
       "      <th>3150</th>\n",
       "      <td>Sun May 26 17:33:30 +0000 2019</td>\n",
       "      <td>LEARN TO FIGHT LIKE ARYA STARK FROM ARCHWAY SE...</td>\n",
       "      <td>{'type': 'Point', 'coordinates': [38.62901739,...</td>\n",
       "      <td>{'type': 'Point', 'coordinates': [-90.20291351...</td>\n",
       "      <td>False</td>\n",
       "      <td>0</td>\n",
       "      <td>0</td>\n",
       "      <td>en</td>\n",
       "      <td>(38.62901739, -90.20291351)</td>\n",
       "      <td>(-90.20291351, 38.62901739)</td>\n",
       "    </tr>\n",
       "    <tr>\n",
       "      <th>4791</th>\n",
       "      <td>Sun May 26 16:28:42 +0000 2019</td>\n",
       "      <td>Jon Snow \\n\\nDay 1 balitattooexpo\\nTattoo Arti...</td>\n",
       "      <td>{'type': 'Point', 'coordinates': [-8.63854626,...</td>\n",
       "      <td>{'type': 'Point', 'coordinates': [115.25518227...</td>\n",
       "      <td>False</td>\n",
       "      <td>0</td>\n",
       "      <td>0</td>\n",
       "      <td>en</td>\n",
       "      <td>(-8.63854626, 115.25518227)</td>\n",
       "      <td>(115.25518227, -8.63854626)</td>\n",
       "    </tr>\n",
       "    <tr>\n",
       "      <th>4832</th>\n",
       "      <td>Sun May 26 16:27:36 +0000 2019</td>\n",
       "      <td>Rhaegal\\n\\nDay 3 balitattooexpo\\nTattoo Artist...</td>\n",
       "      <td>{'type': 'Point', 'coordinates': [-8.63854626,...</td>\n",
       "      <td>{'type': 'Point', 'coordinates': [115.25518227...</td>\n",
       "      <td>False</td>\n",
       "      <td>0</td>\n",
       "      <td>0</td>\n",
       "      <td>en</td>\n",
       "      <td>(-8.63854626, 115.25518227)</td>\n",
       "      <td>(115.25518227, -8.63854626)</td>\n",
       "    </tr>\n",
       "    <tr>\n",
       "      <th>5466</th>\n",
       "      <td>Sun May 26 16:11:50 +0000 2019</td>\n",
       "      <td>The Last Watch.\\nFrom @JeanieFinlay, the #Game...</td>\n",
       "      <td>{'type': 'Point', 'coordinates': [10.2607682, ...</td>\n",
       "      <td>{'type': 'Point', 'coordinates': [-67.6057317,...</td>\n",
       "      <td>False</td>\n",
       "      <td>0</td>\n",
       "      <td>0</td>\n",
       "      <td>en</td>\n",
       "      <td>(10.2607682, -67.6057317)</td>\n",
       "      <td>(-67.6057317, 10.2607682)</td>\n",
       "    </tr>\n",
       "    <tr>\n",
       "      <th>6100</th>\n",
       "      <td>Sun May 26 15:54:32 +0000 2019</td>\n",
       "      <td>Rhaegal\\n\\nDay 3 balitattooexpo \\nTattoo artis...</td>\n",
       "      <td>{'type': 'Point', 'coordinates': [-8.63854626,...</td>\n",
       "      <td>{'type': 'Point', 'coordinates': [115.25518227...</td>\n",
       "      <td>False</td>\n",
       "      <td>0</td>\n",
       "      <td>0</td>\n",
       "      <td>en</td>\n",
       "      <td>(-8.63854626, 115.25518227)</td>\n",
       "      <td>(115.25518227, -8.63854626)</td>\n",
       "    </tr>\n",
       "    <tr>\n",
       "      <th>6136</th>\n",
       "      <td>Sun May 26 15:51:03 +0000 2019</td>\n",
       "      <td>Jon Snow \\n\\nDay 1 balitattooexpo\\nTattoo arti...</td>\n",
       "      <td>{'type': 'Point', 'coordinates': [-8.63854626,...</td>\n",
       "      <td>{'type': 'Point', 'coordinates': [115.25518227...</td>\n",
       "      <td>False</td>\n",
       "      <td>0</td>\n",
       "      <td>0</td>\n",
       "      <td>en</td>\n",
       "      <td>(-8.63854626, 115.25518227)</td>\n",
       "      <td>(115.25518227, -8.63854626)</td>\n",
       "    </tr>\n",
       "    <tr>\n",
       "      <th>6159</th>\n",
       "      <td>Sun May 26 15:48:49 +0000 2019</td>\n",
       "      <td>Stopped in at Winterfell to see how Sansa is d...</td>\n",
       "      <td>{'type': 'Point', 'coordinates': [56.18515833,...</td>\n",
       "      <td>{'type': 'Point', 'coordinates': [-4.05025278,...</td>\n",
       "      <td>False</td>\n",
       "      <td>0</td>\n",
       "      <td>0</td>\n",
       "      <td>en</td>\n",
       "      <td>(56.18515833, -4.05025278)</td>\n",
       "      <td>(-4.05025278, 56.18515833)</td>\n",
       "    </tr>\n",
       "    <tr>\n",
       "      <th>6267</th>\n",
       "      <td>Sun May 26 15:39:56 +0000 2019</td>\n",
       "      <td>Game of thrones playmobile edition\\n#gameofthr...</td>\n",
       "      <td>{'type': 'Point', 'coordinates': [53.645, -1.7...</td>\n",
       "      <td>{'type': 'Point', 'coordinates': [-1.77972222,...</td>\n",
       "      <td>False</td>\n",
       "      <td>0</td>\n",
       "      <td>0</td>\n",
       "      <td>en</td>\n",
       "      <td>(53.645, -1.77972222)</td>\n",
       "      <td>(-1.77972222, 53.645)</td>\n",
       "    </tr>\n",
       "    <tr>\n",
       "      <th>6412</th>\n",
       "      <td>Sun May 26 15:30:05 +0000 2019</td>\n",
       "      <td>Maritime Festival 2019 #belfast #ships #gameof...</td>\n",
       "      <td>{'type': 'Point', 'coordinates': [54.60519, -5...</td>\n",
       "      <td>{'type': 'Point', 'coordinates': [-5.92194, 54...</td>\n",
       "      <td>False</td>\n",
       "      <td>0</td>\n",
       "      <td>0</td>\n",
       "      <td>en</td>\n",
       "      <td>(54.60519, -5.92194)</td>\n",
       "      <td>(-5.92194, 54.60519)</td>\n",
       "    </tr>\n",
       "    <tr>\n",
       "      <th>7727</th>\n",
       "      <td>Sun May 26 13:47:04 +0000 2019</td>\n",
       "      <td>#gameofthrones #whitewalker #streetart #manche...</td>\n",
       "      <td>{'type': 'Point', 'coordinates': [53.4793, -2....</td>\n",
       "      <td>{'type': 'Point', 'coordinates': [-2.2463, 53....</td>\n",
       "      <td>False</td>\n",
       "      <td>0</td>\n",
       "      <td>1</td>\n",
       "      <td>en</td>\n",
       "      <td>(53.4793, -2.2463)</td>\n",
       "      <td>(-2.2463, 53.4793)</td>\n",
       "    </tr>\n",
       "    <tr>\n",
       "      <th>8176</th>\n",
       "      <td>Sun May 26 13:02:36 +0000 2019</td>\n",
       "      <td>Handmade Drogon dragon egg each scale has been...</td>\n",
       "      <td>{'type': 'Point', 'coordinates': [54.945, -1.6...</td>\n",
       "      <td>{'type': 'Point', 'coordinates': [-1.6175, 54....</td>\n",
       "      <td>False</td>\n",
       "      <td>0</td>\n",
       "      <td>0</td>\n",
       "      <td>en</td>\n",
       "      <td>(54.945, -1.6175)</td>\n",
       "      <td>(-1.6175, 54.945)</td>\n",
       "    </tr>\n",
       "    <tr>\n",
       "      <th>8725</th>\n",
       "      <td>Sun May 26 12:05:14 +0000 2019</td>\n",
       "      <td>it’s May 26th but, “winter is coming” (cit.) \\...</td>\n",
       "      <td>{'type': 'Point', 'coordinates': [46.13454553,...</td>\n",
       "      <td>{'type': 'Point', 'coordinates': [9.29066206, ...</td>\n",
       "      <td>False</td>\n",
       "      <td>0</td>\n",
       "      <td>0</td>\n",
       "      <td>en</td>\n",
       "      <td>(46.13454553, 9.29066206)</td>\n",
       "      <td>(9.29066206, 46.13454553)</td>\n",
       "    </tr>\n",
       "    <tr>\n",
       "      <th>9225</th>\n",
       "      <td>Sun May 26 11:05:26 +0000 2019</td>\n",
       "      <td>A couple of Chinese tourists have just asked w...</td>\n",
       "      <td>{'type': 'Point', 'coordinates': [42.64115139,...</td>\n",
       "      <td>{'type': 'Point', 'coordinates': [18.10863703,...</td>\n",
       "      <td>False</td>\n",
       "      <td>0</td>\n",
       "      <td>1</td>\n",
       "      <td>en</td>\n",
       "      <td>(42.64115139, 18.10863703)</td>\n",
       "      <td>(18.10863703, 42.64115139)</td>\n",
       "    </tr>\n",
       "    <tr>\n",
       "      <th>9459</th>\n",
       "      <td>Sun May 26 10:36:07 +0000 2019</td>\n",
       "      <td>“What do we say to the God of death?”\\n“Not to...</td>\n",
       "      <td>{'type': 'Point', 'coordinates': [53.4793, -2....</td>\n",
       "      <td>{'type': 'Point', 'coordinates': [-2.2463, 53....</td>\n",
       "      <td>False</td>\n",
       "      <td>0</td>\n",
       "      <td>0</td>\n",
       "      <td>en</td>\n",
       "      <td>(53.4793, -2.2463)</td>\n",
       "      <td>(-2.2463, 53.4793)</td>\n",
       "    </tr>\n",
       "    <tr>\n",
       "      <th>9706</th>\n",
       "      <td>Sun May 26 10:02:52 +0000 2019</td>\n",
       "      <td>Game of Thrones, requested from a guest at thi...</td>\n",
       "      <td>{'type': 'Point', 'coordinates': [51.41199384,...</td>\n",
       "      <td>{'type': 'Point', 'coordinates': [-0.67879597,...</td>\n",
       "      <td>False</td>\n",
       "      <td>0</td>\n",
       "      <td>0</td>\n",
       "      <td>en</td>\n",
       "      <td>(51.41199384, -0.67879597)</td>\n",
       "      <td>(-0.67879597, 51.41199384)</td>\n",
       "    </tr>\n",
       "    <tr>\n",
       "      <th>9712</th>\n",
       "      <td>Sun May 26 10:02:21 +0000 2019</td>\n",
       "      <td>Magical #GameofThrones #ThemedWedding ⚔️👑✨ TAG...</td>\n",
       "      <td>{'type': 'Point', 'coordinates': [41.88328646,...</td>\n",
       "      <td>{'type': 'Point', 'coordinates': [-72.66589385...</td>\n",
       "      <td>False</td>\n",
       "      <td>1</td>\n",
       "      <td>2</td>\n",
       "      <td>en</td>\n",
       "      <td>(41.88328646, -72.66589385)</td>\n",
       "      <td>(-72.66589385, 41.88328646)</td>\n",
       "    </tr>\n",
       "    <tr>\n",
       "      <th>9807</th>\n",
       "      <td>Sun May 26 09:50:15 +0000 2019</td>\n",
       "      <td>My new crush Jake! #gameofthrones #inuitdog @ ...</td>\n",
       "      <td>{'type': 'Point', 'coordinates': [50.91963245,...</td>\n",
       "      <td>{'type': 'Point', 'coordinates': [0.65472858, ...</td>\n",
       "      <td>False</td>\n",
       "      <td>0</td>\n",
       "      <td>0</td>\n",
       "      <td>en</td>\n",
       "      <td>(50.91963245, 0.65472858)</td>\n",
       "      <td>(0.65472858, 50.91963245)</td>\n",
       "    </tr>\n",
       "    <tr>\n",
       "      <th>10175</th>\n",
       "      <td>Sun May 26 08:57:47 +0000 2019</td>\n",
       "      <td>Watching how much king’s landing is pretty whe...</td>\n",
       "      <td>{'type': 'Point', 'coordinates': [42.64115139,...</td>\n",
       "      <td>{'type': 'Point', 'coordinates': [18.10863703,...</td>\n",
       "      <td>False</td>\n",
       "      <td>0</td>\n",
       "      <td>1</td>\n",
       "      <td>en</td>\n",
       "      <td>(42.64115139, 18.10863703)</td>\n",
       "      <td>(18.10863703, 42.64115139)</td>\n",
       "    </tr>\n",
       "    <tr>\n",
       "      <th>10688</th>\n",
       "      <td>Sun May 26 07:48:28 +0000 2019</td>\n",
       "      <td>MCM London Comic con part 2! 😍 #mcmcomiccon #m...</td>\n",
       "      <td>{'type': 'Point', 'coordinates': [51.50822801,...</td>\n",
       "      <td>{'type': 'Point', 'coordinates': [0.02902128, ...</td>\n",
       "      <td>False</td>\n",
       "      <td>0</td>\n",
       "      <td>2</td>\n",
       "      <td>en</td>\n",
       "      <td>(51.50822801, 0.02902128)</td>\n",
       "      <td>(0.02902128, 51.50822801)</td>\n",
       "    </tr>\n",
       "    <tr>\n",
       "      <th>11092</th>\n",
       "      <td>Sun May 26 06:53:12 +0000 2019</td>\n",
       "      <td>#tees #tshirt #tshirtdress #tshirtdesign #tshi...</td>\n",
       "      <td>{'type': 'Point', 'coordinates': [6.5, 6.0]}</td>\n",
       "      <td>{'type': 'Point', 'coordinates': [6.0, 6.5]}</td>\n",
       "      <td>False</td>\n",
       "      <td>0</td>\n",
       "      <td>0</td>\n",
       "      <td>en</td>\n",
       "      <td>(6.5, 6.0)</td>\n",
       "      <td>(6.0, 6.5)</td>\n",
       "    </tr>\n",
       "    <tr>\n",
       "      <th>11360</th>\n",
       "      <td>Sun May 26 06:13:47 +0000 2019</td>\n",
       "      <td>After completing Game of Thrones Nikolaj Coste...</td>\n",
       "      <td>{'type': 'Point', 'coordinates': [34.5331, 69....</td>\n",
       "      <td>{'type': 'Point', 'coordinates': [69.1661, 34....</td>\n",
       "      <td>False</td>\n",
       "      <td>0</td>\n",
       "      <td>0</td>\n",
       "      <td>en</td>\n",
       "      <td>(34.5331, 69.1661)</td>\n",
       "      <td>(69.1661, 34.5331)</td>\n",
       "    </tr>\n",
       "    <tr>\n",
       "      <th>12101</th>\n",
       "      <td>Sun May 26 04:31:58 +0000 2019</td>\n",
       "      <td>#ancestry #history #myheritage #gameofthrones ...</td>\n",
       "      <td>{'type': 'Point', 'coordinates': [37.5, -85.0]}</td>\n",
       "      <td>{'type': 'Point', 'coordinates': [-85.0, 37.5]}</td>\n",
       "      <td>False</td>\n",
       "      <td>1</td>\n",
       "      <td>1</td>\n",
       "      <td>en</td>\n",
       "      <td>(37.5, -85.0)</td>\n",
       "      <td>(-85.0, 37.5)</td>\n",
       "    </tr>\n",
       "  </tbody>\n",
       "</table>\n",
       "</div>"
      ],
      "text/plain": [
       "                           created_at  \\\n",
       "589    Sun May 26 19:46:53 +0000 2019   \n",
       "883    Sun May 26 19:31:52 +0000 2019   \n",
       "1410   Sun May 26 19:02:00 +0000 2019   \n",
       "1484   Sun May 26 18:58:21 +0000 2019   \n",
       "1945   Sun May 26 18:34:34 +0000 2019   \n",
       "2357   Sun May 26 18:12:30 +0000 2019   \n",
       "2433   Sun May 26 18:07:52 +0000 2019   \n",
       "2732   Sun May 26 17:54:35 +0000 2019   \n",
       "3150   Sun May 26 17:33:30 +0000 2019   \n",
       "4791   Sun May 26 16:28:42 +0000 2019   \n",
       "4832   Sun May 26 16:27:36 +0000 2019   \n",
       "5466   Sun May 26 16:11:50 +0000 2019   \n",
       "6100   Sun May 26 15:54:32 +0000 2019   \n",
       "6136   Sun May 26 15:51:03 +0000 2019   \n",
       "6159   Sun May 26 15:48:49 +0000 2019   \n",
       "6267   Sun May 26 15:39:56 +0000 2019   \n",
       "6412   Sun May 26 15:30:05 +0000 2019   \n",
       "7727   Sun May 26 13:47:04 +0000 2019   \n",
       "8176   Sun May 26 13:02:36 +0000 2019   \n",
       "8725   Sun May 26 12:05:14 +0000 2019   \n",
       "9225   Sun May 26 11:05:26 +0000 2019   \n",
       "9459   Sun May 26 10:36:07 +0000 2019   \n",
       "9706   Sun May 26 10:02:52 +0000 2019   \n",
       "9712   Sun May 26 10:02:21 +0000 2019   \n",
       "9807   Sun May 26 09:50:15 +0000 2019   \n",
       "10175  Sun May 26 08:57:47 +0000 2019   \n",
       "10688  Sun May 26 07:48:28 +0000 2019   \n",
       "11092  Sun May 26 06:53:12 +0000 2019   \n",
       "11360  Sun May 26 06:13:47 +0000 2019   \n",
       "12101  Sun May 26 04:31:58 +0000 2019   \n",
       "\n",
       "                                                    text  \\\n",
       "589    Lots of fascia. Available now ebay for listing...   \n",
       "883    Nice little haul from #mcmcomiccon #comics #ga...   \n",
       "1410   Whether you loved or hated the #gameofthrones ...   \n",
       "1484   Not Today. #GameofThrones #StreetArt @ Stevens...   \n",
       "1945   Great #gameofthrones #runningtour this morning...   \n",
       "2357   🔥I'm not a Princess. I'm a KHALEESI 🔥\\nil vero...   \n",
       "2433   oh Jon Snow always so perplexed that he even r...   \n",
       "2732   The Lion 🦁 Guard should have been #GOT protect...   \n",
       "3150   LEARN TO FIGHT LIKE ARYA STARK FROM ARCHWAY SE...   \n",
       "4791   Jon Snow \\n\\nDay 1 balitattooexpo\\nTattoo Arti...   \n",
       "4832   Rhaegal\\n\\nDay 3 balitattooexpo\\nTattoo Artist...   \n",
       "5466   The Last Watch.\\nFrom @JeanieFinlay, the #Game...   \n",
       "6100   Rhaegal\\n\\nDay 3 balitattooexpo \\nTattoo artis...   \n",
       "6136   Jon Snow \\n\\nDay 1 balitattooexpo\\nTattoo arti...   \n",
       "6159   Stopped in at Winterfell to see how Sansa is d...   \n",
       "6267   Game of thrones playmobile edition\\n#gameofthr...   \n",
       "6412   Maritime Festival 2019 #belfast #ships #gameof...   \n",
       "7727   #gameofthrones #whitewalker #streetart #manche...   \n",
       "8176   Handmade Drogon dragon egg each scale has been...   \n",
       "8725   it’s May 26th but, “winter is coming” (cit.) \\...   \n",
       "9225   A couple of Chinese tourists have just asked w...   \n",
       "9459   “What do we say to the God of death?”\\n“Not to...   \n",
       "9706   Game of Thrones, requested from a guest at thi...   \n",
       "9712   Magical #GameofThrones #ThemedWedding ⚔️👑✨ TAG...   \n",
       "9807   My new crush Jake! #gameofthrones #inuitdog @ ...   \n",
       "10175  Watching how much king’s landing is pretty whe...   \n",
       "10688  MCM London Comic con part 2! 😍 #mcmcomiccon #m...   \n",
       "11092  #tees #tshirt #tshirtdress #tshirtdesign #tshi...   \n",
       "11360  After completing Game of Thrones Nikolaj Coste...   \n",
       "12101  #ancestry #history #myheritage #gameofthrones ...   \n",
       "\n",
       "                                                     geo  \\\n",
       "589    {'type': 'Point', 'coordinates': [34.0522, -11...   \n",
       "883    {'type': 'Point', 'coordinates': [51.50821756,...   \n",
       "1410   {'type': 'Point', 'coordinates': [27.70698154,...   \n",
       "1484   {'type': 'Point', 'coordinates': [53.48273625,...   \n",
       "1945   {'type': 'Point', 'coordinates': [55.20223, -6...   \n",
       "2357   {'type': 'Point', 'coordinates': [41.41675991,...   \n",
       "2433   {'type': 'Point', 'coordinates': [41.22178762,...   \n",
       "2732   {'type': 'Point', 'coordinates': [40.7114, -74...   \n",
       "3150   {'type': 'Point', 'coordinates': [38.62901739,...   \n",
       "4791   {'type': 'Point', 'coordinates': [-8.63854626,...   \n",
       "4832   {'type': 'Point', 'coordinates': [-8.63854626,...   \n",
       "5466   {'type': 'Point', 'coordinates': [10.2607682, ...   \n",
       "6100   {'type': 'Point', 'coordinates': [-8.63854626,...   \n",
       "6136   {'type': 'Point', 'coordinates': [-8.63854626,...   \n",
       "6159   {'type': 'Point', 'coordinates': [56.18515833,...   \n",
       "6267   {'type': 'Point', 'coordinates': [53.645, -1.7...   \n",
       "6412   {'type': 'Point', 'coordinates': [54.60519, -5...   \n",
       "7727   {'type': 'Point', 'coordinates': [53.4793, -2....   \n",
       "8176   {'type': 'Point', 'coordinates': [54.945, -1.6...   \n",
       "8725   {'type': 'Point', 'coordinates': [46.13454553,...   \n",
       "9225   {'type': 'Point', 'coordinates': [42.64115139,...   \n",
       "9459   {'type': 'Point', 'coordinates': [53.4793, -2....   \n",
       "9706   {'type': 'Point', 'coordinates': [51.41199384,...   \n",
       "9712   {'type': 'Point', 'coordinates': [41.88328646,...   \n",
       "9807   {'type': 'Point', 'coordinates': [50.91963245,...   \n",
       "10175  {'type': 'Point', 'coordinates': [42.64115139,...   \n",
       "10688  {'type': 'Point', 'coordinates': [51.50822801,...   \n",
       "11092       {'type': 'Point', 'coordinates': [6.5, 6.0]}   \n",
       "11360  {'type': 'Point', 'coordinates': [34.5331, 69....   \n",
       "12101    {'type': 'Point', 'coordinates': [37.5, -85.0]}   \n",
       "\n",
       "                                             coordinates  is_quote_status  \\\n",
       "589    {'type': 'Point', 'coordinates': [-118.243, 34...            False   \n",
       "883    {'type': 'Point', 'coordinates': [0.02840008, ...            False   \n",
       "1410   {'type': 'Point', 'coordinates': [-97.37391846...            False   \n",
       "1484   {'type': 'Point', 'coordinates': [-2.2341009, ...            False   \n",
       "1945   {'type': 'Point', 'coordinates': [-6.24791, 55...            False   \n",
       "2357   {'type': 'Point', 'coordinates': [15.65217018,...            False   \n",
       "2433   {'type': 'Point', 'coordinates': [32.64740417,...            False   \n",
       "2732   {'type': 'Point', 'coordinates': [-74.0647, 40...            False   \n",
       "3150   {'type': 'Point', 'coordinates': [-90.20291351...            False   \n",
       "4791   {'type': 'Point', 'coordinates': [115.25518227...            False   \n",
       "4832   {'type': 'Point', 'coordinates': [115.25518227...            False   \n",
       "5466   {'type': 'Point', 'coordinates': [-67.6057317,...            False   \n",
       "6100   {'type': 'Point', 'coordinates': [115.25518227...            False   \n",
       "6136   {'type': 'Point', 'coordinates': [115.25518227...            False   \n",
       "6159   {'type': 'Point', 'coordinates': [-4.05025278,...            False   \n",
       "6267   {'type': 'Point', 'coordinates': [-1.77972222,...            False   \n",
       "6412   {'type': 'Point', 'coordinates': [-5.92194, 54...            False   \n",
       "7727   {'type': 'Point', 'coordinates': [-2.2463, 53....            False   \n",
       "8176   {'type': 'Point', 'coordinates': [-1.6175, 54....            False   \n",
       "8725   {'type': 'Point', 'coordinates': [9.29066206, ...            False   \n",
       "9225   {'type': 'Point', 'coordinates': [18.10863703,...            False   \n",
       "9459   {'type': 'Point', 'coordinates': [-2.2463, 53....            False   \n",
       "9706   {'type': 'Point', 'coordinates': [-0.67879597,...            False   \n",
       "9712   {'type': 'Point', 'coordinates': [-72.66589385...            False   \n",
       "9807   {'type': 'Point', 'coordinates': [0.65472858, ...            False   \n",
       "10175  {'type': 'Point', 'coordinates': [18.10863703,...            False   \n",
       "10688  {'type': 'Point', 'coordinates': [0.02902128, ...            False   \n",
       "11092       {'type': 'Point', 'coordinates': [6.0, 6.5]}            False   \n",
       "11360  {'type': 'Point', 'coordinates': [69.1661, 34....            False   \n",
       "12101    {'type': 'Point', 'coordinates': [-85.0, 37.5]}            False   \n",
       "\n",
       "       retweet_count  favorite_count lang                      geo_cor  \\\n",
       "589                0               1   en          (34.0522, -118.243)   \n",
       "883                0               0   en    (51.50821756, 0.02840008)   \n",
       "1410               0               0   en  (27.70698154, -97.37391846)   \n",
       "1484               0               0   en    (53.48273625, -2.2341009)   \n",
       "1945               0               0   en         (55.20223, -6.24791)   \n",
       "2357               0               0   en   (41.41675991, 15.65217018)   \n",
       "2433               0               0   en   (41.22178762, 32.64740417)   \n",
       "2732               0               0   en          (40.7114, -74.0647)   \n",
       "3150               0               0   en  (38.62901739, -90.20291351)   \n",
       "4791               0               0   en  (-8.63854626, 115.25518227)   \n",
       "4832               0               0   en  (-8.63854626, 115.25518227)   \n",
       "5466               0               0   en    (10.2607682, -67.6057317)   \n",
       "6100               0               0   en  (-8.63854626, 115.25518227)   \n",
       "6136               0               0   en  (-8.63854626, 115.25518227)   \n",
       "6159               0               0   en   (56.18515833, -4.05025278)   \n",
       "6267               0               0   en        (53.645, -1.77972222)   \n",
       "6412               0               0   en         (54.60519, -5.92194)   \n",
       "7727               0               1   en           (53.4793, -2.2463)   \n",
       "8176               0               0   en            (54.945, -1.6175)   \n",
       "8725               0               0   en    (46.13454553, 9.29066206)   \n",
       "9225               0               1   en   (42.64115139, 18.10863703)   \n",
       "9459               0               0   en           (53.4793, -2.2463)   \n",
       "9706               0               0   en   (51.41199384, -0.67879597)   \n",
       "9712               1               2   en  (41.88328646, -72.66589385)   \n",
       "9807               0               0   en    (50.91963245, 0.65472858)   \n",
       "10175              0               1   en   (42.64115139, 18.10863703)   \n",
       "10688              0               2   en    (51.50822801, 0.02902128)   \n",
       "11092              0               0   en                   (6.5, 6.0)   \n",
       "11360              0               0   en           (34.5331, 69.1661)   \n",
       "12101              1               1   en                (37.5, -85.0)   \n",
       "\n",
       "                           cor_cor  \n",
       "589            (-118.243, 34.0522)  \n",
       "883      (0.02840008, 51.50821756)  \n",
       "1410   (-97.37391846, 27.70698154)  \n",
       "1484     (-2.2341009, 53.48273625)  \n",
       "1945          (-6.24791, 55.20223)  \n",
       "2357    (15.65217018, 41.41675991)  \n",
       "2433    (32.64740417, 41.22178762)  \n",
       "2732           (-74.0647, 40.7114)  \n",
       "3150   (-90.20291351, 38.62901739)  \n",
       "4791   (115.25518227, -8.63854626)  \n",
       "4832   (115.25518227, -8.63854626)  \n",
       "5466     (-67.6057317, 10.2607682)  \n",
       "6100   (115.25518227, -8.63854626)  \n",
       "6136   (115.25518227, -8.63854626)  \n",
       "6159    (-4.05025278, 56.18515833)  \n",
       "6267         (-1.77972222, 53.645)  \n",
       "6412          (-5.92194, 54.60519)  \n",
       "7727            (-2.2463, 53.4793)  \n",
       "8176             (-1.6175, 54.945)  \n",
       "8725     (9.29066206, 46.13454553)  \n",
       "9225    (18.10863703, 42.64115139)  \n",
       "9459            (-2.2463, 53.4793)  \n",
       "9706    (-0.67879597, 51.41199384)  \n",
       "9712   (-72.66589385, 41.88328646)  \n",
       "9807     (0.65472858, 50.91963245)  \n",
       "10175   (18.10863703, 42.64115139)  \n",
       "10688    (0.02902128, 51.50822801)  \n",
       "11092                   (6.0, 6.5)  \n",
       "11360           (69.1661, 34.5331)  \n",
       "12101                (-85.0, 37.5)  "
      ]
     },
     "execution_count": 120,
     "metadata": {},
     "output_type": "execute_result"
    }
   ],
   "source": [
    "tweets[tweets.geo != 'NA']"
   ]
  },
  {
   "cell_type": "code",
   "execution_count": 121,
   "metadata": {},
   "outputs": [
    {
     "data": {
      "text/plain": [
       "created_at         0\n",
       "text               0\n",
       "geo                0\n",
       "coordinates        0\n",
       "is_quote_status    0\n",
       "retweet_count      0\n",
       "favorite_count     0\n",
       "lang               0\n",
       "geo_cor            0\n",
       "cor_cor            0\n",
       "dtype: int64"
      ]
     },
     "execution_count": 121,
     "metadata": {},
     "output_type": "execute_result"
    }
   ],
   "source": [
    "tweets.isnull().sum()"
   ]
  },
  {
   "cell_type": "markdown",
   "metadata": {},
   "source": [
    "# EDA"
   ]
  },
  {
   "cell_type": "code",
   "execution_count": 122,
   "metadata": {},
   "outputs": [
    {
     "data": {
      "text/html": [
       "<div>\n",
       "<style scoped>\n",
       "    .dataframe tbody tr th:only-of-type {\n",
       "        vertical-align: middle;\n",
       "    }\n",
       "\n",
       "    .dataframe tbody tr th {\n",
       "        vertical-align: top;\n",
       "    }\n",
       "\n",
       "    .dataframe thead th {\n",
       "        text-align: right;\n",
       "    }\n",
       "</style>\n",
       "<table border=\"1\" class=\"dataframe\">\n",
       "  <thead>\n",
       "    <tr style=\"text-align: right;\">\n",
       "      <th></th>\n",
       "      <th>retweet_count</th>\n",
       "      <th>favorite_count</th>\n",
       "    </tr>\n",
       "  </thead>\n",
       "  <tbody>\n",
       "    <tr>\n",
       "      <th>count</th>\n",
       "      <td>12562.000000</td>\n",
       "      <td>12562.000000</td>\n",
       "    </tr>\n",
       "    <tr>\n",
       "      <th>mean</th>\n",
       "      <td>3536.238417</td>\n",
       "      <td>3.432972</td>\n",
       "    </tr>\n",
       "    <tr>\n",
       "      <th>std</th>\n",
       "      <td>11367.865340</td>\n",
       "      <td>226.916060</td>\n",
       "    </tr>\n",
       "    <tr>\n",
       "      <th>min</th>\n",
       "      <td>0.000000</td>\n",
       "      <td>0.000000</td>\n",
       "    </tr>\n",
       "    <tr>\n",
       "      <th>25%</th>\n",
       "      <td>2.000000</td>\n",
       "      <td>0.000000</td>\n",
       "    </tr>\n",
       "    <tr>\n",
       "      <th>50%</th>\n",
       "      <td>121.000000</td>\n",
       "      <td>0.000000</td>\n",
       "    </tr>\n",
       "    <tr>\n",
       "      <th>75%</th>\n",
       "      <td>4533.000000</td>\n",
       "      <td>0.000000</td>\n",
       "    </tr>\n",
       "    <tr>\n",
       "      <th>max</th>\n",
       "      <td>203368.000000</td>\n",
       "      <td>25325.000000</td>\n",
       "    </tr>\n",
       "  </tbody>\n",
       "</table>\n",
       "</div>"
      ],
      "text/plain": [
       "       retweet_count  favorite_count\n",
       "count   12562.000000    12562.000000\n",
       "mean     3536.238417        3.432972\n",
       "std     11367.865340      226.916060\n",
       "min         0.000000        0.000000\n",
       "25%         2.000000        0.000000\n",
       "50%       121.000000        0.000000\n",
       "75%      4533.000000        0.000000\n",
       "max    203368.000000    25325.000000"
      ]
     },
     "execution_count": 122,
     "metadata": {},
     "output_type": "execute_result"
    }
   ],
   "source": [
    "tweets.describe()"
   ]
  },
  {
   "cell_type": "code",
   "execution_count": 123,
   "metadata": {},
   "outputs": [
    {
     "name": "stdout",
     "output_type": "stream",
     "text": [
      "RT @LeoOfHyrule: I can’t stop watching this. That knife switch is clean! #GameOfThrones https://t.co/CmpPcDifgW\n",
      "RT @LeoOfHyrule: I can’t stop watching this. That knife switch is clean! #GameOfThrones https://t.co/CmpPcDifgW\n",
      "RT @LeoOfHyrule: I can’t stop watching this. That knife switch is clean! #GameOfThrones https://t.co/CmpPcDifgW\n",
      "RT @LeoOfHyrule: I can’t stop watching this. That knife switch is clean! #GameOfThrones https://t.co/CmpPcDifgW\n",
      "RT @LeoOfHyrule: I can’t stop watching this. That knife switch is clean! #GameOfThrones https://t.co/CmpPcDifgW\n"
     ]
    }
   ],
   "source": [
    "# dig into the top retweets\n",
    "for top in tweets.sort_values(\"retweet_count\", ascending=False).text[:5]:\n",
    "    print(top)"
   ]
  },
  {
   "cell_type": "markdown",
   "metadata": {},
   "source": [
    "> one tweet can be counted multiple times -> drop duplicates"
   ]
  },
  {
   "cell_type": "markdown",
   "metadata": {},
   "source": [
    "**Drop Duplicate Tweets**"
   ]
  },
  {
   "cell_type": "code",
   "execution_count": 124,
   "metadata": {},
   "outputs": [],
   "source": [
    "tweets['date_at'] = pd.to_datetime(tweets.created_at)"
   ]
  },
  {
   "cell_type": "code",
   "execution_count": 79,
   "metadata": {},
   "outputs": [
    {
     "data": {
      "text/plain": [
       "created_at         False\n",
       "text               False\n",
       "geo                 True\n",
       "coordinates         True\n",
       "is_quote_status    False\n",
       "retweet_count      False\n",
       "favorite_count     False\n",
       "lang               False\n",
       "geo_cor            False\n",
       "cor_cor            False\n",
       "date_at            False\n",
       "dtype: bool"
      ]
     },
     "execution_count": 79,
     "metadata": {},
     "output_type": "execute_result"
    }
   ],
   "source": [
    "tweets.apply(lambda x: any([type(y) is dict for y in x]))"
   ]
  },
  {
   "cell_type": "code",
   "execution_count": 125,
   "metadata": {},
   "outputs": [],
   "source": [
    "drop_cols = ['created_at','geo','coordinates']"
   ]
  },
  {
   "cell_type": "code",
   "execution_count": 126,
   "metadata": {
    "scrolled": true
   },
   "outputs": [],
   "source": [
    "stweets = tweets.drop(drop_cols, axis = 1)\\\n",
    "    .drop_duplicates([x for x in tweets.columns if x not in drop_cols+['date_at']])"
   ]
  },
  {
   "cell_type": "code",
   "execution_count": 127,
   "metadata": {},
   "outputs": [
    {
     "data": {
      "text/html": [
       "<div>\n",
       "<style scoped>\n",
       "    .dataframe tbody tr th:only-of-type {\n",
       "        vertical-align: middle;\n",
       "    }\n",
       "\n",
       "    .dataframe tbody tr th {\n",
       "        vertical-align: top;\n",
       "    }\n",
       "\n",
       "    .dataframe thead th {\n",
       "        text-align: right;\n",
       "    }\n",
       "</style>\n",
       "<table border=\"1\" class=\"dataframe\">\n",
       "  <thead>\n",
       "    <tr style=\"text-align: right;\">\n",
       "      <th></th>\n",
       "      <th>text</th>\n",
       "      <th>is_quote_status</th>\n",
       "      <th>retweet_count</th>\n",
       "      <th>favorite_count</th>\n",
       "      <th>lang</th>\n",
       "      <th>geo_cor</th>\n",
       "      <th>cor_cor</th>\n",
       "      <th>date_at</th>\n",
       "    </tr>\n",
       "  </thead>\n",
       "  <tbody>\n",
       "    <tr>\n",
       "      <th>0</th>\n",
       "      <td>RT @Jungle_ZA: Now that #GameOfThrones has end...</td>\n",
       "      <td>False</td>\n",
       "      <td>682</td>\n",
       "      <td>0</td>\n",
       "      <td>en</td>\n",
       "      <td>NA</td>\n",
       "      <td>NA</td>\n",
       "      <td>2019-05-26 20:16:39+00:00</td>\n",
       "    </tr>\n",
       "    <tr>\n",
       "      <th>1</th>\n",
       "      <td>RT @GameOfThrones: The Last Watch.\\nFrom @Jean...</td>\n",
       "      <td>False</td>\n",
       "      <td>4531</td>\n",
       "      <td>0</td>\n",
       "      <td>en</td>\n",
       "      <td>NA</td>\n",
       "      <td>NA</td>\n",
       "      <td>2019-05-26 20:16:37+00:00</td>\n",
       "    </tr>\n",
       "    <tr>\n",
       "      <th>2</th>\n",
       "      <td>RT @tukaaga: I wanna Arya In South Of Westeros...</td>\n",
       "      <td>False</td>\n",
       "      <td>3</td>\n",
       "      <td>0</td>\n",
       "      <td>en</td>\n",
       "      <td>NA</td>\n",
       "      <td>NA</td>\n",
       "      <td>2019-05-26 20:16:36+00:00</td>\n",
       "    </tr>\n",
       "    <tr>\n",
       "      <th>3</th>\n",
       "      <td>Less dialogue &amp;amp; more MICHAEL BAY-EXPLOSION...</td>\n",
       "      <td>False</td>\n",
       "      <td>0</td>\n",
       "      <td>0</td>\n",
       "      <td>en</td>\n",
       "      <td>NA</td>\n",
       "      <td>NA</td>\n",
       "      <td>2019-05-26 20:16:36+00:00</td>\n",
       "    </tr>\n",
       "    <tr>\n",
       "      <th>4</th>\n",
       "      <td>RT @thronesfacts: HBO is releasing a 2 hour be...</td>\n",
       "      <td>False</td>\n",
       "      <td>168</td>\n",
       "      <td>0</td>\n",
       "      <td>en</td>\n",
       "      <td>NA</td>\n",
       "      <td>NA</td>\n",
       "      <td>2019-05-26 20:16:31+00:00</td>\n",
       "    </tr>\n",
       "  </tbody>\n",
       "</table>\n",
       "</div>"
      ],
      "text/plain": [
       "                                                text  is_quote_status  \\\n",
       "0  RT @Jungle_ZA: Now that #GameOfThrones has end...            False   \n",
       "1  RT @GameOfThrones: The Last Watch.\\nFrom @Jean...            False   \n",
       "2  RT @tukaaga: I wanna Arya In South Of Westeros...            False   \n",
       "3  Less dialogue &amp; more MICHAEL BAY-EXPLOSION...            False   \n",
       "4  RT @thronesfacts: HBO is releasing a 2 hour be...            False   \n",
       "\n",
       "   retweet_count  favorite_count lang geo_cor cor_cor  \\\n",
       "0            682               0   en      NA      NA   \n",
       "1           4531               0   en      NA      NA   \n",
       "2              3               0   en      NA      NA   \n",
       "3              0               0   en      NA      NA   \n",
       "4            168               0   en      NA      NA   \n",
       "\n",
       "                    date_at  \n",
       "0 2019-05-26 20:16:39+00:00  \n",
       "1 2019-05-26 20:16:37+00:00  \n",
       "2 2019-05-26 20:16:36+00:00  \n",
       "3 2019-05-26 20:16:36+00:00  \n",
       "4 2019-05-26 20:16:31+00:00  "
      ]
     },
     "execution_count": 127,
     "metadata": {},
     "output_type": "execute_result"
    }
   ],
   "source": [
    "stweets.head()"
   ]
  },
  {
   "cell_type": "code",
   "execution_count": 128,
   "metadata": {},
   "outputs": [
    {
     "data": {
      "text/plain": [
       "(5131, 8)"
      ]
     },
     "execution_count": 128,
     "metadata": {},
     "output_type": "execute_result"
    }
   ],
   "source": [
    "stweets.shape"
   ]
  },
  {
   "cell_type": "markdown",
   "metadata": {},
   "source": [
    "### - dig into the top retweets"
   ]
  },
  {
   "cell_type": "code",
   "execution_count": 129,
   "metadata": {
    "scrolled": false
   },
   "outputs": [
    {
     "name": "stdout",
     "output_type": "stream",
     "text": [
      "RT @LeoOfHyrule: I can’t stop watching this. That knife switch is clean! #GameOfThrones https://t.co/CmpPcDifgW\n",
      "RT @sbazzini8: Meanwhile in Winterfell...\n",
      "\n",
      "#GameofThrones \n",
      " https://t.co/ioRwL9DfHg\n",
      "RT @OnFireGaspy: #GameOfThrones \n",
      "\n",
      "well shit.... https://t.co/1BZizwdsIa\n",
      "RT @kamusigi9: Best ways to kill Cersei #GameofThrones \n",
      "1. Jaime kills Cersei\n",
      "2. The Night King kills Cersei\n",
      "3. Arya Kills Cersei\n",
      "4. Drogon…\n",
      "RT @heeyvesoul: #GameOfThrones\n",
      "\n",
      "Jon: my real name is Aegon Targaryen \n",
      "\n",
      "Daenerys: https://t.co/yg0xTqED5U\n"
     ]
    }
   ],
   "source": [
    "for top in stweets.sort_values(\"retweet_count\", ascending=False).text[:5]:\n",
    "    print(top)"
   ]
  },
  {
   "cell_type": "code",
   "execution_count": 45,
   "metadata": {},
   "outputs": [
    {
     "data": {
      "text/plain": [
       "Text(0.5, 1.0, 'Distribution of Number of Retweets')"
      ]
     },
     "execution_count": 45,
     "metadata": {},
     "output_type": "execute_result"
    },
    {
     "data": {
      "image/png": "[encoded data removed]",
      "text/plain": [
       "<Figure size 432x288 with 1 Axes>"
      ]
     },
     "metadata": {
      "needs_background": "light"
     },
     "output_type": "display_data"
    }
   ],
   "source": [
    "stweets['retweet_count'].hist()\n",
    "plt.title(\"Distribution of Number of Retweets\")"
   ]
  },
  {
   "cell_type": "code",
   "execution_count": 46,
   "metadata": {},
   "outputs": [
    {
     "data": {
      "text/plain": [
       "Text(0.5, 1.0, 'Distribution of Most Common Number of Retweets Occurrences')"
      ]
     },
     "execution_count": 46,
     "metadata": {},
     "output_type": "execute_result"
    },
    {
     "data": {
      "image/png": "[encoded data removed]",
      "text/plain": [
       "<Figure size 432x288 with 1 Axes>"
      ]
     },
     "metadata": {
      "needs_background": "light"
     },
     "output_type": "display_data"
    }
   ],
   "source": [
    "stweets['retweet_count'].value_counts().hist()\n",
    "plt.title(\"Distribution of Most Common Number of Retweets Occurrences\")"
   ]
  },
  {
   "cell_type": "markdown",
   "metadata": {},
   "source": [
    "### - dig into the datetime -> show only after the show"
   ]
  },
  {
   "cell_type": "code",
   "execution_count": 130,
   "metadata": {},
   "outputs": [
    {
     "data": {
      "text/html": [
       "<div>\n",
       "<style scoped>\n",
       "    .dataframe tbody tr th:only-of-type {\n",
       "        vertical-align: middle;\n",
       "    }\n",
       "\n",
       "    .dataframe tbody tr th {\n",
       "        vertical-align: top;\n",
       "    }\n",
       "\n",
       "    .dataframe thead th {\n",
       "        text-align: right;\n",
       "    }\n",
       "</style>\n",
       "<table border=\"1\" class=\"dataframe\">\n",
       "  <thead>\n",
       "    <tr style=\"text-align: right;\">\n",
       "      <th></th>\n",
       "      <th>text</th>\n",
       "      <th>is_quote_status</th>\n",
       "      <th>retweet_count</th>\n",
       "      <th>favorite_count</th>\n",
       "      <th>lang</th>\n",
       "      <th>geo_cor</th>\n",
       "      <th>cor_cor</th>\n",
       "      <th>date_at</th>\n",
       "    </tr>\n",
       "  </thead>\n",
       "  <tbody>\n",
       "    <tr>\n",
       "      <th>0</th>\n",
       "      <td>RT @Jungle_ZA: Now that #GameOfThrones has end...</td>\n",
       "      <td>False</td>\n",
       "      <td>682</td>\n",
       "      <td>0</td>\n",
       "      <td>en</td>\n",
       "      <td>NA</td>\n",
       "      <td>NA</td>\n",
       "      <td>2019-05-26 20:16:39+00:00</td>\n",
       "    </tr>\n",
       "    <tr>\n",
       "      <th>1</th>\n",
       "      <td>RT @GameOfThrones: The Last Watch.\\nFrom @Jean...</td>\n",
       "      <td>False</td>\n",
       "      <td>4531</td>\n",
       "      <td>0</td>\n",
       "      <td>en</td>\n",
       "      <td>NA</td>\n",
       "      <td>NA</td>\n",
       "      <td>2019-05-26 20:16:37+00:00</td>\n",
       "    </tr>\n",
       "    <tr>\n",
       "      <th>2</th>\n",
       "      <td>RT @tukaaga: I wanna Arya In South Of Westeros...</td>\n",
       "      <td>False</td>\n",
       "      <td>3</td>\n",
       "      <td>0</td>\n",
       "      <td>en</td>\n",
       "      <td>NA</td>\n",
       "      <td>NA</td>\n",
       "      <td>2019-05-26 20:16:36+00:00</td>\n",
       "    </tr>\n",
       "    <tr>\n",
       "      <th>3</th>\n",
       "      <td>Less dialogue &amp;amp; more MICHAEL BAY-EXPLOSION...</td>\n",
       "      <td>False</td>\n",
       "      <td>0</td>\n",
       "      <td>0</td>\n",
       "      <td>en</td>\n",
       "      <td>NA</td>\n",
       "      <td>NA</td>\n",
       "      <td>2019-05-26 20:16:36+00:00</td>\n",
       "    </tr>\n",
       "    <tr>\n",
       "      <th>4</th>\n",
       "      <td>RT @thronesfacts: HBO is releasing a 2 hour be...</td>\n",
       "      <td>False</td>\n",
       "      <td>168</td>\n",
       "      <td>0</td>\n",
       "      <td>en</td>\n",
       "      <td>NA</td>\n",
       "      <td>NA</td>\n",
       "      <td>2019-05-26 20:16:31+00:00</td>\n",
       "    </tr>\n",
       "  </tbody>\n",
       "</table>\n",
       "</div>"
      ],
      "text/plain": [
       "                                                text  is_quote_status  \\\n",
       "0  RT @Jungle_ZA: Now that #GameOfThrones has end...            False   \n",
       "1  RT @GameOfThrones: The Last Watch.\\nFrom @Jean...            False   \n",
       "2  RT @tukaaga: I wanna Arya In South Of Westeros...            False   \n",
       "3  Less dialogue &amp; more MICHAEL BAY-EXPLOSION...            False   \n",
       "4  RT @thronesfacts: HBO is releasing a 2 hour be...            False   \n",
       "\n",
       "   retweet_count  favorite_count lang geo_cor cor_cor  \\\n",
       "0            682               0   en      NA      NA   \n",
       "1           4531               0   en      NA      NA   \n",
       "2              3               0   en      NA      NA   \n",
       "3              0               0   en      NA      NA   \n",
       "4            168               0   en      NA      NA   \n",
       "\n",
       "                    date_at  \n",
       "0 2019-05-26 20:16:39+00:00  \n",
       "1 2019-05-26 20:16:37+00:00  \n",
       "2 2019-05-26 20:16:36+00:00  \n",
       "3 2019-05-26 20:16:36+00:00  \n",
       "4 2019-05-26 20:16:31+00:00  "
      ]
     },
     "execution_count": 130,
     "metadata": {},
     "output_type": "execute_result"
    }
   ],
   "source": [
    "stweets.head()"
   ]
  },
  {
   "cell_type": "code",
   "execution_count": 131,
   "metadata": {},
   "outputs": [
    {
     "name": "stdout",
     "output_type": "stream",
     "text": [
      "RT @Jungle_ZA: Now that #GameOfThrones has ended here are some other things you could watch. \n",
      "\n",
      "1. Your cholesterol \n",
      "2. Your blood sugar\n",
      "3.…\n",
      "RT @GameOfThrones: The Last Watch.\n",
      "From @JeanieFinlay, the #GameofThrones documentary premieres tonight on @HBO. https://t.co/jmTaln8BnR\n",
      "RT @tukaaga: I wanna Arya In South Of Westeros after Game Of Thrones like Alice In Wonderland. Do you? @GameOfThrones @GRRMspeaking  @Maisi…\n",
      "Less dialogue &amp; more MICHAEL BAY-EXPLOSIONS, please.\n",
      "\n",
      "#popculture #pop #culture #GameofThrones #thrones #less… https://t.co/JV1zImriZS\n",
      "RT @thronesfacts: HBO is releasing a 2 hour behind-the-scenes documentary for #GameofThrones⁠ ⁠S8 called ‘The Last Watch’ tonight https://t…\n"
     ]
    }
   ],
   "source": [
    "for top in stweets.sort_values(\"date_at\", ascending=False).text[:5]:\n",
    "    print(top)"
   ]
  },
  {
   "cell_type": "markdown",
   "metadata": {},
   "source": [
    "### Only original tweets (not starting with RT)"
   ]
  },
  {
   "cell_type": "code",
   "execution_count": 132,
   "metadata": {
    "scrolled": true
   },
   "outputs": [
    {
     "name": "stdout",
     "output_type": "stream",
     "text": [
      "The Last Watch.\n",
      "From @JeanieFinlay, the #GameofThrones documentary premieres tonight on @HBO. https://t.co/jmTaln8BnR\n",
      "Happy birthday Stevie Nicks! Check out Rob Sheffield's recent interview with the goddess — where she discusses ever… https://t.co/jWIek1Fgf1\n",
      "HBO is releasing a 2 hour behind-the-scenes documentary for #GameofThrones⁠ ⁠S8 called ‘The Last Watch’ tonight https://t.co/6iKRuLPbfK\n",
      "The True King 👑 #GameOfThrones https://t.co/5MKb9yel3Y\n",
      "Kawhi Leonard is the true King of the north 👑❄️\n",
      "And soon the lord of the 7 kingdoms \n",
      "\n",
      "#NBAPlaoyffs #RaptorsVsBucks… https://t.co/nQ9wM97McO\n"
     ]
    }
   ],
   "source": [
    "for t in stweets[stweets.text.apply(lambda x: x[:2] != 'RT')].sort_values(\"retweet_count\", ascending = False).head(5).text:\n",
    "    print(t)"
   ]
  },
  {
   "cell_type": "code",
   "execution_count": 133,
   "metadata": {},
   "outputs": [],
   "source": [
    "otweets = stweets[stweets.text.apply(lambda x: x[:2] != 'RT')]"
   ]
  },
  {
   "cell_type": "code",
   "execution_count": 136,
   "metadata": {},
   "outputs": [
    {
     "data": {
      "text/plain": [
       "0.5566166439290586"
      ]
     },
     "execution_count": 136,
     "metadata": {},
     "output_type": "execute_result"
    }
   ],
   "source": [
    "# percentage of orignal tweets\n",
    "otweets.shape[0]/stweets.shape[0]"
   ]
  },
  {
   "cell_type": "code",
   "execution_count": 147,
   "metadata": {},
   "outputs": [
    {
     "data": {
      "text/plain": [
       "Text(0.5, 1.0, 'original tweets')"
      ]
     },
     "execution_count": 147,
     "metadata": {},
     "output_type": "execute_result"
    },
    {
     "data": {
      "image/png": "[encoded data removed]",
      "text/plain": [
       "<Figure size 432x288 with 2 Axes>"
      ]
     },
     "metadata": {
      "needs_background": "light"
     },
     "output_type": "display_data"
    }
   ],
   "source": [
    "plt.subplot(1, 2, 1)\n",
    "plt.boxplot(otweets.retweet_count)\n",
    "plt.title(\"all tweets\")\n",
    "plt.subplot(1, 2, 2)\n",
    "plt.boxplot(stweets.retweet_count)\n",
    "plt.tight_layout()\n",
    "plt.title(\"original tweets\")"
   ]
  },
  {
   "cell_type": "markdown",
   "metadata": {},
   "source": [
    "# Try getting old Tweets"
   ]
  },
  {
   "cell_type": "markdown",
   "metadata": {},
   "source": [
    "import GetOldTweets3 as got\n",
    "\n",
    "tweetCriteria = got.manager.TweetCriteria().setQuerySearch('#GameofThrones')\\\n",
    "                                           .setSince(\"2019-05-18\")\\\n",
    "                                           .setUntil(\"2019-05-19\")\\\n",
    "                                           .setlang(\"en\")\\\n",
    "                                           .setMaxTweets(20000)\n",
    "\n",
    "many = got.manager.TweetManager.getTweets(tweetCriteria)\n",
    "\n",
    "len(many)\n",
    "\n",
    "things = ['text', 'date', 'retweets', 'geo', 'favorites']\n",
    "\n",
    "tweets = pd.DataFrame()\n",
    "\n",
    "tweets[things[0]] = list(map(lambda tweet: tweet.text, many))\n",
    "tweets[things[1]] = list(map(lambda tweet: tweet.date, many))\n",
    "tweets[things[2]] = list(map(lambda tweet: tweet.retweets, many))\n",
    "tweets[things[3]] = list(map(lambda tweet: tweet.geo, many))\n",
    "tweets[things[4]] = list(map(lambda tweet: tweet.favorites, many))"
   ]
  },
  {
   "cell_type": "code",
   "execution_count": 109,
   "metadata": {},
   "outputs": [],
   "source": [
    "tweets = pd.read_csv(\"../data/raw/output_got.csv\")"
   ]
  },
  {
   "cell_type": "code",
   "execution_count": 110,
   "metadata": {},
   "outputs": [
    {
     "data": {
      "text/html": [
       "<div>\n",
       "<style scoped>\n",
       "    .dataframe tbody tr th:only-of-type {\n",
       "        vertical-align: middle;\n",
       "    }\n",
       "\n",
       "    .dataframe tbody tr th {\n",
       "        vertical-align: top;\n",
       "    }\n",
       "\n",
       "    .dataframe thead th {\n",
       "        text-align: right;\n",
       "    }\n",
       "</style>\n",
       "<table border=\"1\" class=\"dataframe\">\n",
       "  <thead>\n",
       "    <tr style=\"text-align: right;\">\n",
       "      <th></th>\n",
       "      <th>date</th>\n",
       "      <th>username</th>\n",
       "      <th>to</th>\n",
       "      <th>replies</th>\n",
       "      <th>retweets</th>\n",
       "      <th>favorites</th>\n",
       "      <th>text</th>\n",
       "      <th>geo</th>\n",
       "      <th>mentions</th>\n",
       "      <th>hashtags</th>\n",
       "      <th>id</th>\n",
       "      <th>permalink</th>\n",
       "    </tr>\n",
       "  </thead>\n",
       "  <tbody>\n",
       "    <tr>\n",
       "      <th>0</th>\n",
       "      <td>2019-05-20 23:59:58</td>\n",
       "      <td>tpurvis06</td>\n",
       "      <td>NaN</td>\n",
       "      <td>0</td>\n",
       "      <td>0</td>\n",
       "      <td>0</td>\n",
       "      <td>You’ll never love #GameOfThrones as much as I ...</td>\n",
       "      <td>NaN</td>\n",
       "      <td>NaN</td>\n",
       "      <td>#GameOfThrones</td>\n",
       "      <td>1130624236232499200</td>\n",
       "      <td>https://twitter.com/tpurvis06/status/113062423...</td>\n",
       "    </tr>\n",
       "    <tr>\n",
       "      <th>1</th>\n",
       "      <td>2019-05-20 23:59:58</td>\n",
       "      <td>KrystalBClear7</td>\n",
       "      <td>NaN</td>\n",
       "      <td>0</td>\n",
       "      <td>0</td>\n",
       "      <td>0</td>\n",
       "      <td>They did Queen Dany dirtyyyyyyyy! #GameOfThrones</td>\n",
       "      <td>NaN</td>\n",
       "      <td>NaN</td>\n",
       "      <td>#GameOfThrones</td>\n",
       "      <td>1130624235347615746</td>\n",
       "      <td>https://twitter.com/KrystalBClear7/status/1130...</td>\n",
       "    </tr>\n",
       "    <tr>\n",
       "      <th>2</th>\n",
       "      <td>2019-05-20 23:59:57</td>\n",
       "      <td>Dynastiix</td>\n",
       "      <td>NaN</td>\n",
       "      <td>0</td>\n",
       "      <td>0</td>\n",
       "      <td>0</td>\n",
       "      <td>Bran is probably feeling really insecure about...</td>\n",
       "      <td>NaN</td>\n",
       "      <td>NaN</td>\n",
       "      <td>#GameOfThrones #GOTFinale</td>\n",
       "      <td>1130624232533254144</td>\n",
       "      <td>https://twitter.com/Dynastiix/status/113062423...</td>\n",
       "    </tr>\n",
       "    <tr>\n",
       "      <th>3</th>\n",
       "      <td>2019-05-20 23:59:56</td>\n",
       "      <td>alisonmccourt</td>\n",
       "      <td>NaN</td>\n",
       "      <td>0</td>\n",
       "      <td>0</td>\n",
       "      <td>4</td>\n",
       "      <td>I wouldn’t trade the 8 years of watch parties....</td>\n",
       "      <td>NaN</td>\n",
       "      <td>NaN</td>\n",
       "      <td>#GameOfThronesFinale #GameOfThrones</td>\n",
       "      <td>1130624226178850817</td>\n",
       "      <td>https://twitter.com/alisonmccourt/status/11306...</td>\n",
       "    </tr>\n",
       "    <tr>\n",
       "      <th>4</th>\n",
       "      <td>2019-05-20 23:59:55</td>\n",
       "      <td>sponzillotv</td>\n",
       "      <td>NaN</td>\n",
       "      <td>0</td>\n",
       "      <td>0</td>\n",
       "      <td>0</td>\n",
       "      <td>#OverheardWhileDogWalking “Because, like, the ...</td>\n",
       "      <td>NaN</td>\n",
       "      <td>NaN</td>\n",
       "      <td>#OverheardWhileDogWalking #SheWasntWrong #Game...</td>\n",
       "      <td>1130624224819859457</td>\n",
       "      <td>https://twitter.com/sponzillotv/status/1130624...</td>\n",
       "    </tr>\n",
       "  </tbody>\n",
       "</table>\n",
       "</div>"
      ],
      "text/plain": [
       "                  date        username   to  replies  retweets  favorites  \\\n",
       "0  2019-05-20 23:59:58       tpurvis06  NaN        0         0          0   \n",
       "1  2019-05-20 23:59:58  KrystalBClear7  NaN        0         0          0   \n",
       "2  2019-05-20 23:59:57       Dynastiix  NaN        0         0          0   \n",
       "3  2019-05-20 23:59:56   alisonmccourt  NaN        0         0          4   \n",
       "4  2019-05-20 23:59:55     sponzillotv  NaN        0         0          0   \n",
       "\n",
       "                                                text  geo mentions  \\\n",
       "0  You’ll never love #GameOfThrones as much as I ...  NaN      NaN   \n",
       "1   They did Queen Dany dirtyyyyyyyy! #GameOfThrones  NaN      NaN   \n",
       "2  Bran is probably feeling really insecure about...  NaN      NaN   \n",
       "3  I wouldn’t trade the 8 years of watch parties....  NaN      NaN   \n",
       "4  #OverheardWhileDogWalking “Because, like, the ...  NaN      NaN   \n",
       "\n",
       "                                            hashtags                   id  \\\n",
       "0                                     #GameOfThrones  1130624236232499200   \n",
       "1                                     #GameOfThrones  1130624235347615746   \n",
       "2                          #GameOfThrones #GOTFinale  1130624232533254144   \n",
       "3                #GameOfThronesFinale #GameOfThrones  1130624226178850817   \n",
       "4  #OverheardWhileDogWalking #SheWasntWrong #Game...  1130624224819859457   \n",
       "\n",
       "                                           permalink  \n",
       "0  https://twitter.com/tpurvis06/status/113062423...  \n",
       "1  https://twitter.com/KrystalBClear7/status/1130...  \n",
       "2  https://twitter.com/Dynastiix/status/113062423...  \n",
       "3  https://twitter.com/alisonmccourt/status/11306...  \n",
       "4  https://twitter.com/sponzillotv/status/1130624...  "
      ]
     },
     "execution_count": 110,
     "metadata": {},
     "output_type": "execute_result"
    }
   ],
   "source": [
    "tweets.head()"
   ]
  },
  {
   "cell_type": "code",
   "execution_count": 111,
   "metadata": {},
   "outputs": [],
   "source": [
    "things = ['text', 'date', 'retweets', 'geo', 'favorites', 'hashtags']"
   ]
  },
  {
   "cell_type": "code",
   "execution_count": 112,
   "metadata": {},
   "outputs": [],
   "source": [
    "tweets = tweets[things]"
   ]
  },
  {
   "cell_type": "code",
   "execution_count": 113,
   "metadata": {},
   "outputs": [
    {
     "data": {
      "text/plain": [
       "(20000, 6)"
      ]
     },
     "execution_count": 113,
     "metadata": {},
     "output_type": "execute_result"
    }
   ],
   "source": [
    "tweets.shape"
   ]
  },
  {
   "cell_type": "markdown",
   "metadata": {},
   "source": [
    "### Cleaning the feed"
   ]
  },
  {
   "cell_type": "code",
   "execution_count": 114,
   "metadata": {},
   "outputs": [],
   "source": [
    "# drop duplicates posted seconds/minutes/hours away from each other\n",
    "tweets = tweets.drop_duplicates([x for x in tweets.columns if x is not 'date'])"
   ]
  },
  {
   "cell_type": "code",
   "execution_count": 115,
   "metadata": {},
   "outputs": [
    {
     "data": {
      "text/plain": [
       "(19983, 6)"
      ]
     },
     "execution_count": 115,
     "metadata": {},
     "output_type": "execute_result"
    }
   ],
   "source": [
    "tweets.shape"
   ]
  },
  {
   "cell_type": "code",
   "execution_count": 116,
   "metadata": {},
   "outputs": [],
   "source": [
    "# sum favorites & retweets\n",
    "grouped_text = tweets.groupby(\"text\").sum().reset_index()"
   ]
  },
  {
   "cell_type": "code",
   "execution_count": 120,
   "metadata": {
    "scrolled": true
   },
   "outputs": [],
   "source": [
    "# earliest date of post\n",
    "grouped_date = tweets.groupby(\"text\").date.min().reset_index()"
   ]
  },
  {
   "cell_type": "code",
   "execution_count": 121,
   "metadata": {},
   "outputs": [],
   "source": [
    "ftweets = grouped_date.merge(grouped_text, on=\"text\", how=\"left\")"
   ]
  },
  {
   "cell_type": "code",
   "execution_count": 122,
   "metadata": {},
   "outputs": [
    {
     "data": {
      "text/plain": [
       "(19876, 5)"
      ]
     },
     "execution_count": 122,
     "metadata": {},
     "output_type": "execute_result"
    }
   ],
   "source": [
    "ftweets.shape"
   ]
  },
  {
   "cell_type": "code",
   "execution_count": 70,
   "metadata": {},
   "outputs": [],
   "source": [
    "def saveAsCoord(x):\n",
    "    try:\n",
    "        return tuple(x['coordinates'])\n",
    "    except:\n",
    "        return 'NA'"
   ]
  },
  {
   "cell_type": "code",
   "execution_count": 71,
   "metadata": {},
   "outputs": [],
   "source": [
    "tweets['geo_cor'] = tweets.geo.apply(saveAsCoord)"
   ]
  },
  {
   "cell_type": "code",
   "execution_count": 72,
   "metadata": {},
   "outputs": [
    {
     "data": {
      "text/html": [
       "<div>\n",
       "<style scoped>\n",
       "    .dataframe tbody tr th:only-of-type {\n",
       "        vertical-align: middle;\n",
       "    }\n",
       "\n",
       "    .dataframe tbody tr th {\n",
       "        vertical-align: top;\n",
       "    }\n",
       "\n",
       "    .dataframe thead th {\n",
       "        text-align: right;\n",
       "    }\n",
       "</style>\n",
       "<table border=\"1\" class=\"dataframe\">\n",
       "  <thead>\n",
       "    <tr style=\"text-align: right;\">\n",
       "      <th></th>\n",
       "      <th>text</th>\n",
       "      <th>date</th>\n",
       "      <th>retweets</th>\n",
       "      <th>geo</th>\n",
       "      <th>favorites</th>\n",
       "      <th>hashtags</th>\n",
       "      <th>geo_cor</th>\n",
       "    </tr>\n",
       "  </thead>\n",
       "  <tbody>\n",
       "  </tbody>\n",
       "</table>\n",
       "</div>"
      ],
      "text/plain": [
       "Empty DataFrame\n",
       "Columns: [text, date, retweets, geo, favorites, hashtags, geo_cor]\n",
       "Index: []"
      ]
     },
     "execution_count": 72,
     "metadata": {},
     "output_type": "execute_result"
    }
   ],
   "source": [
    "tweets[tweets.geo_cor != 'NA']"
   ]
  },
  {
   "cell_type": "code",
   "execution_count": 69,
   "metadata": {},
   "outputs": [
    {
     "data": {
      "text/plain": [
       "text             0\n",
       "date             0\n",
       "retweets         0\n",
       "geo          19983\n",
       "favorites        0\n",
       "hashtags         0\n",
       "dtype: int64"
      ]
     },
     "execution_count": 69,
     "metadata": {},
     "output_type": "execute_result"
    }
   ],
   "source": [
    "tweets.isnull().sum()"
   ]
  },
  {
   "cell_type": "markdown",
   "metadata": {},
   "source": [
    "- **only keep one for same content, different links**"
   ]
  },
  {
   "cell_type": "code",
   "execution_count": 123,
   "metadata": {},
   "outputs": [],
   "source": [
    "def replaceLinks(x):\n",
    "    while re.search(\"[pic]*?.twitter.com/[a-z\\d]*\", x.lower()) is not None:\n",
    "        temp = re.search(\"[pic]*?.twitter.com/[a-z\\d]*\", x.lower())\n",
    "        x = x.replace(x[temp.start(): temp.end()], \"\")\n",
    "    return x"
   ]
  },
  {
   "cell_type": "code",
   "execution_count": 142,
   "metadata": {},
   "outputs": [],
   "source": [
    "tweets[\"no_links\"] = tweets.text.apply(replaceLinks)"
   ]
  },
  {
   "cell_type": "code",
   "execution_count": 143,
   "metadata": {},
   "outputs": [],
   "source": [
    "tweets.drop_duplicates([x for x in tweets.columns if x not in ['text', 'date']], inplace=True)"
   ]
  },
  {
   "cell_type": "code",
   "execution_count": 149,
   "metadata": {},
   "outputs": [],
   "source": [
    "test = tweets.groupby(\"no_links\").min().reset_index()"
   ]
  },
  {
   "cell_type": "markdown",
   "metadata": {},
   "source": [
    "## - Most Retweeted"
   ]
  },
  {
   "cell_type": "code",
   "execution_count": 152,
   "metadata": {},
   "outputs": [
    {
     "name": "stdout",
     "output_type": "stream",
     "text": [
      "This video wins the internet today! #GameOfThrones pic.twitter.com/JCNfjpeq5E\n",
      "I'm not crying, you are. #GameOfThrones pic.twitter.com/FT9zqYOkEp\n",
      "An extraordinary journey. @Isaac_H_Wright #GameofThrones pic.twitter.com/mhV3pLUTDL\n",
      "Nothing sums up the snowflake generation more than this ridiculous petition to have the #GameofThrones final season rewritten. If they don't get what they want, whether it's Trump, Brexit or a TV show, they lie on the floor screaming 'I REFUSE TO ACCEPT THAT - DO IT AGAIN!!!!!'\n",
      "Mom... Mom... get up mom... #GameOfThrones #gotatlanticpic.twitter.com/ympeyepzyl\n"
     ]
    }
   ],
   "source": [
    "for t in test.sort_values(\"retweets\", ascending = False).head(5).text:\n",
    "    print(t)"
   ]
  },
  {
   "cell_type": "markdown",
   "metadata": {},
   "source": [
    "## - Most Favorited"
   ]
  },
  {
   "cell_type": "code",
   "execution_count": 153,
   "metadata": {},
   "outputs": [
    {
     "name": "stdout",
     "output_type": "stream",
     "text": [
      "An extraordinary journey. @Isaac_H_Wright #GameofThrones pic.twitter.com/mhV3pLUTDL\n",
      "This video wins the internet today! #GameOfThrones pic.twitter.com/JCNfjpeq5E\n",
      "Nothing sums up the snowflake generation more than this ridiculous petition to have the #GameofThrones final season rewritten. If they don't get what they want, whether it's Trump, Brexit or a TV show, they lie on the floor screaming 'I REFUSE TO ACCEPT THAT - DO IT AGAIN!!!!!'\n",
      "I'm not crying, you are. #GameOfThrones pic.twitter.com/FT9zqYOkEp\n",
      "THANK YOU !!!!! #gameofthrones #aryastarksequel #bestcastandcrew https://www.instagram.com/p/BxswpkslPpW/?igshid=b2ymoar0eer …\n"
     ]
    }
   ],
   "source": [
    "for t in test.sort_values(\"favorites\", ascending = False).head(5).text:\n",
    "    print(t)"
   ]
  },
  {
   "cell_type": "markdown",
   "metadata": {},
   "source": [
    "## - Most Recent Tweets"
   ]
  },
  {
   "cell_type": "code",
   "execution_count": 154,
   "metadata": {},
   "outputs": [
    {
     "name": "stdout",
     "output_type": "stream",
     "text": [
      "You’ll never love #GameOfThrones as much as I don’t...\n",
      "They did Queen Dany dirtyyyyyyyy! #GameOfThrones\n",
      "Bran is probably feeling really insecure about his manhood now because of Sansa's comment. His third eye dosent work. #GameOfThrones #GOTFinale\n",
      "I wouldn’t trade the 8 years of watch parties. I really wouldn’t. #GameOfThronesFinale #GameOfThrones\n",
      "#OverheardWhileDogWalking “Because, like, the Robin Arryn glowup is only because his mom died and like he could finally get vaccinated” Done. I’m just done. #SheWasntWrong #GameOfThrones\n"
     ]
    }
   ],
   "source": [
    "for t in test.sort_values(\"date\", ascending = False).head(5).text:\n",
    "    print(t)"
   ]
  },
  {
   "cell_type": "markdown",
   "metadata": {},
   "source": [
    "## - Combine retweets & favorites since they are quite correlated"
   ]
  },
  {
   "cell_type": "code",
   "execution_count": 155,
   "metadata": {},
   "outputs": [
    {
     "data": {
      "text/plain": [
       "<matplotlib.axes._subplots.AxesSubplot at 0x1a2b5600b8>"
      ]
     },
     "execution_count": 155,
     "metadata": {},
     "output_type": "execute_result"
    },
    {
     "data": {
      "image/png": "[encoded data removed]",
      "text/plain": [
       "<Figure size 432x288 with 1 Axes>"
      ]
     },
     "metadata": {
      "needs_background": "light"
     },
     "output_type": "display_data"
    }
   ],
   "source": [
    "test[['favorites', 'retweets']].plot()"
   ]
  },
  {
   "cell_type": "code",
   "execution_count": 156,
   "metadata": {},
   "outputs": [
    {
     "data": {
      "text/plain": [
       "[<matplotlib.lines.Line2D at 0x1a2f3fc8d0>]"
      ]
     },
     "execution_count": 156,
     "metadata": {},
     "output_type": "execute_result"
    },
    {
     "data": {
      "image/png": "[encoded data removed]",
      "text/plain": [
       "<Figure size 432x288 with 1 Axes>"
      ]
     },
     "metadata": {
      "needs_background": "light"
     },
     "output_type": "display_data"
    }
   ],
   "source": [
    "plt.plot(test.favorites, test.retweets, \"y\")"
   ]
  },
  {
   "cell_type": "code",
   "execution_count": 157,
   "metadata": {},
   "outputs": [
    {
     "data": {
      "text/html": [
       "<div>\n",
       "<style scoped>\n",
       "    .dataframe tbody tr th:only-of-type {\n",
       "        vertical-align: middle;\n",
       "    }\n",
       "\n",
       "    .dataframe tbody tr th {\n",
       "        vertical-align: top;\n",
       "    }\n",
       "\n",
       "    .dataframe thead th {\n",
       "        text-align: right;\n",
       "    }\n",
       "</style>\n",
       "<table border=\"1\" class=\"dataframe\">\n",
       "  <thead>\n",
       "    <tr style=\"text-align: right;\">\n",
       "      <th></th>\n",
       "      <th>favorites</th>\n",
       "      <th>retweets</th>\n",
       "    </tr>\n",
       "  </thead>\n",
       "  <tbody>\n",
       "    <tr>\n",
       "      <th>favorites</th>\n",
       "      <td>1.00000</td>\n",
       "      <td>0.89568</td>\n",
       "    </tr>\n",
       "    <tr>\n",
       "      <th>retweets</th>\n",
       "      <td>0.89568</td>\n",
       "      <td>1.00000</td>\n",
       "    </tr>\n",
       "  </tbody>\n",
       "</table>\n",
       "</div>"
      ],
      "text/plain": [
       "           favorites  retweets\n",
       "favorites    1.00000   0.89568\n",
       "retweets     0.89568   1.00000"
      ]
     },
     "execution_count": 157,
     "metadata": {},
     "output_type": "execute_result"
    }
   ],
   "source": [
    "test[['favorites', 'retweets']].corr()"
   ]
  },
  {
   "cell_type": "code",
   "execution_count": 158,
   "metadata": {},
   "outputs": [],
   "source": [
    "test['popularity'] = test.favorites + test.retweets"
   ]
  },
  {
   "cell_type": "markdown",
   "metadata": {},
   "source": [
    "## - Mentioning main characters"
   ]
  },
  {
   "cell_type": "code",
   "execution_count": 159,
   "metadata": {},
   "outputs": [],
   "source": [
    "mains = [\"|\".join(['daenerys targaryen', \"dany\", \"daenerys\", \"khaleesi\", \"mother of dragons\", \"motherofdragons\", \n",
    "                   \"danerys\", \"danaerys\"]), \n",
    "         \"|\".join(['jon snow', 'jon']), \n",
    "         \"|\".join(['sansa Stark', 'sansa']), \n",
    "         \"|\".join(['arya Stark', 'arya']),\n",
    "         \"|\".join([\"bran Stark\", \"brandon Stark\", \"three-eyed raven\", \"bran\"]),\n",
    "         \"|\".join(['tyrion', 'tyrion lannister'])]"
   ]
  },
  {
   "cell_type": "code",
   "execution_count": 160,
   "metadata": {},
   "outputs": [
    {
     "name": "stdout",
     "output_type": "stream",
     "text": [
      "d 1326\n",
      "j 1584\n",
      "s 615\n",
      "a 751\n",
      "b 1441\n",
      "t 642\n"
     ]
    }
   ],
   "source": [
    "for char in mains:\n",
    "    print(char[0],test[test.no_links.str.lower().str.contains(char)].shape[0])"
   ]
  },
  {
   "cell_type": "markdown",
   "metadata": {},
   "source": [
    "> Most people mentioned Jon, followed by Bran and then Dany."
   ]
  },
  {
   "cell_type": "code",
   "execution_count": 162,
   "metadata": {
    "scrolled": true
   },
   "outputs": [
    {
     "name": "stdout",
     "output_type": "stream",
     "text": [
      "Jon to Dany there at the end #GameOfThonesFinale #GameOfThrones #DemThronespic.twitter.com/n0czgoAvkz\n",
      "In S5 E2 Ser Barristan Selmy councils Daenerys to utilize restraint and warns her about following in her father’s footsteps #GameofThrones pic.twitter.com/utUm0TCiq3\n",
      "I’m just really hoping this is what’s going on in Dany’s afterlife after that mess of betrayal and loss she went through #GameOfThrones pic.twitter.com/YbQdofNUhJ\n",
      "Great CGI work! #Daenerys #Drogon #GameOfThrones pic.twitter.com/JaxPlk3a7r\n",
      "For what’s (hopefully!) my last #GameofThrones piece, I wrote about why Dany’s story ending on the “Jon & Tyrion Talk In Circles” show was so frustrating, and how hard Emilia Clarke crushed it, anyway. https://variety.com/2019/tv/columns/game-of-thrones-series-finale-dany-daenerys-death-mad-queen-1203221341/ …\n"
     ]
    }
   ],
   "source": [
    "for x in test[test.no_links.str.lower().str.contains(mains[0])].sort_values(\"popularity\", ascending=False).head(5).text:\n",
    "    print(x)"
   ]
  },
  {
   "cell_type": "code",
   "execution_count": 163,
   "metadata": {
    "scrolled": true
   },
   "outputs": [
    {
     "name": "stdout",
     "output_type": "stream",
     "text": [
      "Jon to Dany there at the end #GameOfThonesFinale #GameOfThrones #DemThronespic.twitter.com/n0czgoAvkz\n",
      "#GameofThrones >yara greyjoy won the kingsmoot but is anti democracy and fought for independence >prince of dorne has no idea wtf a 3 eyed raven is >gendry literal heir to the throne >jon snow also literally the heir to the throne tyrion: lets vote for bran lords of westeros: pic.twitter.com/IsKXS62kUy\n",
      "For what’s (hopefully!) my last #GameofThrones piece, I wrote about why Dany’s story ending on the “Jon & Tyrion Talk In Circles” show was so frustrating, and how hard Emilia Clarke crushed it, anyway. https://variety.com/2019/tv/columns/game-of-thrones-series-finale-dany-daenerys-death-mad-queen-1203221341/ …\n",
      "#GameOfThrones questions... • Where did Drogon go? • How did all those rocks not severely damage Jaime & Cersei’s heads? • Who the hell is Jon going to watch for at The Wall? • Why does Bran need a master of whisperers? pic.twitter.com/8MrXh2tDMK\n",
      "So what's the point of bringing Jon back from the dead .He didn't kill the Night King like we all expected him to nor did he become King of Westeros. He deserved a better ending . #GameOfThrones pic.twitter.com/rhWINyzWYX\n"
     ]
    }
   ],
   "source": [
    "for x in test[test.no_links.str.lower().str.contains(mains[1])].sort_values(\"popularity\", ascending=False).head(5).text:\n",
    "    print(x)"
   ]
  },
  {
   "cell_type": "markdown",
   "metadata": {},
   "source": [
    "## - Try seperating Spanish into its own\n",
    "using #juegodetronos"
   ]
  },
  {
   "cell_type": "code",
   "execution_count": 164,
   "metadata": {},
   "outputs": [],
   "source": [
    "spanish = test[test.text.str.contains(\"#juegodetronos\")]"
   ]
  },
  {
   "cell_type": "code",
   "execution_count": 165,
   "metadata": {},
   "outputs": [],
   "source": [
    "test = test[~test.text.str.contains(\"#juegodetronos\")].reset_index(drop=True)"
   ]
  },
  {
   "cell_type": "markdown",
   "metadata": {},
   "source": [
    "## - Hashtags Analysis"
   ]
  },
  {
   "cell_type": "code",
   "execution_count": 166,
   "metadata": {},
   "outputs": [],
   "source": [
    "from functools import reduce"
   ]
  },
  {
   "cell_type": "code",
   "execution_count": 167,
   "metadata": {},
   "outputs": [],
   "source": [
    "def findHashtags(x):\n",
    "    new = re.findall(\"#[a-z]*\", x.lower())\n",
    "    return new"
   ]
  },
  {
   "cell_type": "code",
   "execution_count": 168,
   "metadata": {},
   "outputs": [],
   "source": [
    "new = test.text.apply(findHashtags)"
   ]
  },
  {
   "cell_type": "code",
   "execution_count": 169,
   "metadata": {},
   "outputs": [],
   "source": [
    "all_words = []"
   ]
  },
  {
   "cell_type": "code",
   "execution_count": 170,
   "metadata": {},
   "outputs": [],
   "source": [
    "all_words = reduce(lambda x, y: x+y, new.values.tolist())"
   ]
  },
  {
   "cell_type": "code",
   "execution_count": 171,
   "metadata": {},
   "outputs": [],
   "source": [
    "hashtags = list(set(all_words))"
   ]
  },
  {
   "cell_type": "code",
   "execution_count": 172,
   "metadata": {},
   "outputs": [],
   "source": [
    "check = sorted(hashtags, key=len, reverse=True)"
   ]
  },
  {
   "cell_type": "code",
   "execution_count": 173,
   "metadata": {},
   "outputs": [],
   "source": [
    "hash_counts = [(k,v) for k,v in Counter(all_words).items()]"
   ]
  },
  {
   "cell_type": "code",
   "execution_count": 174,
   "metadata": {},
   "outputs": [],
   "source": [
    "sorted_x = sorted(dict(hash_counts).items(), key=lambda kv: kv[1])"
   ]
  },
  {
   "cell_type": "code",
   "execution_count": 175,
   "metadata": {},
   "outputs": [
    {
     "data": {
      "text/plain": [
       "[('#thefinalepisode', 261),\n",
       " ('#gotseasonfinale', 261),\n",
       " ('#jonsnow', 338),\n",
       " ('#gots', 340),\n",
       " ('#gameofthronesfinalepic', 341),\n",
       " ('#gotfinale', 713),\n",
       " ('#gameofthonesfinale', 1149),\n",
       " ('#gameofthronesfinale', 1775),\n",
       " ('#got', 2300),\n",
       " ('#gameofthrones', 19792)]"
      ]
     },
     "execution_count": 175,
     "metadata": {},
     "output_type": "execute_result"
    }
   ],
   "source": [
    "sorted_x[-10:]"
   ]
  },
  {
   "cell_type": "markdown",
   "metadata": {},
   "source": [
    "### -> Most used hashtags"
   ]
  },
  {
   "cell_type": "code",
   "execution_count": 176,
   "metadata": {},
   "outputs": [
    {
     "data": {
      "text/plain": [
       "Text(0.5, 1.0, 'Number of Mentions for the Top 10 Hashtags')"
      ]
     },
     "execution_count": 176,
     "metadata": {},
     "output_type": "execute_result"
    },
    {
     "data": {
      "image/png": "[encoded data removed]",
      "text/plain": [
       "<Figure size 1440x360 with 1 Axes>"
      ]
     },
     "metadata": {
      "needs_background": "light"
     },
     "output_type": "display_data"
    }
   ],
   "source": [
    "plt.figure(figsize=(20,5))\n",
    "plt.bar([x[0] for x in sorted_x[-10:]], [x[1] for x in sorted_x[-10:]])\n",
    "plt.title(\"Number of Mentions for the Top 10 Hashtags\")"
   ]
  },
  {
   "cell_type": "markdown",
   "metadata": {},
   "source": [
    "## - Topic Analysis"
   ]
  },
  {
   "cell_type": "code",
   "execution_count": 192,
   "metadata": {},
   "outputs": [],
   "source": [
    "import re, string\n",
    "import numpy as np\n",
    "import pandas as pd\n",
    "from nltk.tokenize import word_tokenize\n",
    "from nltk.tokenize import WhitespaceTokenizer\n",
    "from nltk.corpus import stopwords\n",
    "from nltk.stem import WordNetLemmatizer\n",
    "from gensim import corpora\n",
    "from gensim.models.ldamodel import LdaModel"
   ]
  },
  {
   "cell_type": "code",
   "execution_count": 178,
   "metadata": {},
   "outputs": [],
   "source": [
    "# Create a WordNetLemmatizer object\n",
    "lemmatizer = WordNetLemmatizer()"
   ]
  },
  {
   "cell_type": "code",
   "execution_count": 179,
   "metadata": {},
   "outputs": [],
   "source": [
    "# create English stop words list (you can always define your own stopwords)\n",
    "stop_words = set(stopwords.words('english'))"
   ]
  },
  {
   "cell_type": "code",
   "execution_count": 180,
   "metadata": {},
   "outputs": [],
   "source": [
    "# Function to remove stop words from sentences & lemmatize verbs and nouns. \n",
    "def clean(doc, lem = True):\n",
    "    tokenized = word_tokenize(doc.lower())\n",
    "    stop_free = [x for x in tokenized if not re.fullmatch('[' + string.punctuation + ']+', x) and x not in stop_words]\n",
    "    if lem:\n",
    "        lemma_verb = [lemmatizer.lemmatize(word,'v') for word in stop_free]\n",
    "        lemma_noun = [lemmatizer.lemmatize(word,'n') for word in lemma_verb]\n",
    "        #y = [s for s in lemma_noun if len(s) > 2]\n",
    "        return lemma_noun\n",
    "    else:\n",
    "        return stop_free"
   ]
  },
  {
   "cell_type": "markdown",
   "metadata": {},
   "source": [
    "**Step 1: Clean the corpus**\n",
    "- convert the text reviews to lowercase\n",
    "- remove #gameofthrones (every tweet has it)\n",
    "- remove reviews with less than 3 tokens"
   ]
  },
  {
   "cell_type": "code",
   "execution_count": 181,
   "metadata": {},
   "outputs": [],
   "source": [
    "def removeHashtags(x):\n",
    "    for i in range(len(check)-1):\n",
    "        hashed = check[i]\n",
    "        try:\n",
    "            x = x.lower().replace(hashed, \"\")\n",
    "        except:\n",
    "            next\n",
    "    return x"
   ]
  },
  {
   "cell_type": "code",
   "execution_count": 182,
   "metadata": {},
   "outputs": [],
   "source": [
    "links = re.compile('[https?]*?://(?:[-\\w.]|(?:%[\\da-fA-F]{2}))+[/?\\w+=?\\w+]*')\n",
    "def removeLinks(x):\n",
    "    while re.search(links, x.lower()) is not None:\n",
    "        temp = re.search(links, x.lower())\n",
    "        x = x.replace(x[temp.start(): temp.end()], \"\")\n",
    "    return x"
   ]
  },
  {
   "cell_type": "code",
   "execution_count": 183,
   "metadata": {},
   "outputs": [
    {
     "name": "stdout",
     "output_type": "stream",
     "text": [
      " a water bottle in king’s landing!!   \n",
      "!!got spoiler alert!! ... old meme, feels relevant now          @game of… https://www.instagram.com/p/bxtaabqddrn/?igshid=1tquh6sb8onjn …\n",
      "\" ...¡¡¡the queen in the north!!!\"  \n",
      "\" @geekystevey: an angle! @gidi_traffic    \n",
      "\" died protecting his queen.\"   \n"
     ]
    }
   ],
   "source": [
    "for x in test.head().no_links.apply(removeHashtags):\n",
    "    print(x)"
   ]
  },
  {
   "cell_type": "code",
   "execution_count": 184,
   "metadata": {},
   "outputs": [
    {
     "name": "stdout",
     "output_type": "stream",
     "text": [
      " a water bottle in King’s Landing!! #got #gameofthrones #GameOfThronesFinale\n",
      "!!GoT SPOILER ALERT!! ... old meme, feels relevant now #SureLordOfTheRingsIsBetter #PoorMansWillowIfYouKnow #IsWinterOverNow #WhenDoesSummerCome #JusticeForSeanBean #GoTbanter #GoT #GameOfThrones #Banter @Game Of…  …\n",
      "\" ...¡¡¡THE QUEEN IN THE NORTH!!!\" #GameOfThrones #GOTfinal\n",
      "\" @GeekyStevey: An Angle! @Gidi_Traffic #GameOfThrones #GOTFinale #GameOfThonesFinale #GOT\n",
      "\" Died protecting his queen.\" #GameOfThrones #GOT #Brienne\n"
     ]
    }
   ],
   "source": [
    "for x in test.head().no_links.apply(removeLinks):\n",
    "    print(x)"
   ]
  },
  {
   "cell_type": "code",
   "execution_count": 185,
   "metadata": {},
   "outputs": [],
   "source": [
    "test['pure_text'] = test.text.apply(removeHashtags)"
   ]
  },
  {
   "cell_type": "code",
   "execution_count": 186,
   "metadata": {},
   "outputs": [],
   "source": [
    "test['pure_text'] = test.pure_text.apply(replaceLinks)"
   ]
  },
  {
   "cell_type": "code",
   "execution_count": 187,
   "metadata": {},
   "outputs": [],
   "source": [
    "test['pure_text'] = test.pure_text.apply(removeLinks)"
   ]
  },
  {
   "cell_type": "code",
   "execution_count": 188,
   "metadata": {},
   "outputs": [],
   "source": [
    "review = test.pure_text.values.tolist()"
   ]
  },
  {
   "cell_type": "code",
   "execution_count": 189,
   "metadata": {},
   "outputs": [],
   "source": [
    "long_review = [x for x in review if len(x) > 3]"
   ]
  },
  {
   "cell_type": "code",
   "execution_count": 190,
   "metadata": {},
   "outputs": [
    {
     "data": {
      "text/plain": [
       "(19726, 19726)"
      ]
     },
     "execution_count": 190,
     "metadata": {},
     "output_type": "execute_result"
    }
   ],
   "source": [
    "len(review), len(long_review)"
   ]
  },
  {
   "cell_type": "markdown",
   "metadata": {},
   "source": [
    "- tokenize them\n",
    "- remove punctuations, and stop words.\n",
    "- filter the terms which occurred less than 10 times in your documents (i.e., reviews).\n",
    "- with and without lemmatization"
   ]
  },
  {
   "cell_type": "code",
   "execution_count": 195,
   "metadata": {
    "scrolled": true
   },
   "outputs": [],
   "source": [
    "# with lemmatization\n",
    "skim_review = [clean(doc.strip()) for doc in long_review]"
   ]
  },
  {
   "cell_type": "markdown",
   "metadata": {},
   "source": [
    "# without lemmatization\n",
    "ori_review = [clean(doc.strip(), False) for doc in long_review]"
   ]
  },
  {
   "cell_type": "markdown",
   "metadata": {},
   "source": [
    "**Step 2: Create the dictionary**\n",
    "\n",
    "After you cleaned your corpus, you will create the term dictionary."
   ]
  },
  {
   "cell_type": "markdown",
   "metadata": {},
   "source": [
    "Note: There are multiple languages"
   ]
  },
  {
   "cell_type": "markdown",
   "metadata": {},
   "source": [
    "-With lemmatization"
   ]
  },
  {
   "cell_type": "code",
   "execution_count": 196,
   "metadata": {},
   "outputs": [],
   "source": [
    "from collections import Counter\n",
    "\n",
    "freq = [(k,v) for k,v in Counter([item for sublist in skim_review for item in sublist]).items() \n",
    "        if v >= 10 and re.search('\\d+', k) is None]\n",
    "\n",
    "dictionary = [x[0] for x in freq]"
   ]
  },
  {
   "cell_type": "code",
   "execution_count": null,
   "metadata": {},
   "outputs": [],
   "source": [
    "-Without lemmatization\n",
    "\n",
    "In [50]:\n",
    "ori_freq = [(k,v) for k,v in Counter([item for sublist in ori_review for item in sublist]).items() \n",
    "            if v >= 10 and re.search('\\d+', k) is None]\n",
    "In [51]:\n",
    "ori_dictionary = [x[0] for x in ori_freq]"
   ]
  },
  {
   "cell_type": "markdown",
   "metadata": {},
   "source": [
    "**Step 3: DT**\n",
    "\n",
    "Convert the list of documents in your corpus into Document-Term Matrix using the dictionary prepared at Step 2 (again, a term is a word).\n",
    "\n",
    "-With lemmatization"
   ]
  },
  {
   "cell_type": "code",
   "execution_count": 197,
   "metadata": {},
   "outputs": [],
   "source": [
    "Dic = corpora.Dictionary([dictionary])\n",
    "corpus = [Dic.doc2bow(doc_clean) for doc_clean in skim_review]"
   ]
  },
  {
   "cell_type": "code",
   "execution_count": null,
   "metadata": {},
   "outputs": [],
   "source": [
    "-Without lemmatization\n",
    "\n",
    "In [56]:\n",
    "ori_Dic = corpora.Dictionary([ori_dictionary])\n",
    "In [57]:\n",
    "ori_corpus = [Dic.doc2bow(doc_clean) for doc_clean in ori_review]"
   ]
  },
  {
   "cell_type": "markdown",
   "metadata": {},
   "source": [
    "**Step 4: Run the LDA model on the document-term matrix**\n",
    "    \n",
    "LDA with the following parameters: number of topics (k = 10), number of passes (pass = 20), and number of iterations (iterations = 2000)."
   ]
  },
  {
   "cell_type": "markdown",
   "metadata": {},
   "source": [
    "-With lemmatization"
   ]
  },
  {
   "cell_type": "code",
   "execution_count": 204,
   "metadata": {},
   "outputs": [],
   "source": [
    "# LDA model needs many iterations/passes and a large corpus to work well\n",
    "# must define the number of topics you want to extract from the corpus\n",
    "ldamodel = LdaModel(corpus, num_topics=5, id2word = Dic, passes=20, iterations=2000)"
   ]
  },
  {
   "cell_type": "code",
   "execution_count": null,
   "metadata": {},
   "outputs": [],
   "source": [
    "-Without lemmatization\n",
    "# LDA model needs many iterations/passes and a large corpus to work well\n",
    "# must define the number of topics you want to extract from the corpus\n",
    "ori_ldamodel = LdaModel(ori_corpus, num_topics=10, id2word = ori_Dic, passes=20, iterations=2000)"
   ]
  },
  {
   "cell_type": "markdown",
   "metadata": {},
   "source": [
    "**Step 5: For each of the k topics, print the top 10 words**"
   ]
  },
  {
   "cell_type": "code",
   "execution_count": 205,
   "metadata": {},
   "outputs": [],
   "source": [
    "ori_tops = ldamodel.print_topics(num_topics=5, num_words=10)"
   ]
  },
  {
   "cell_type": "code",
   "execution_count": 209,
   "metadata": {},
   "outputs": [
    {
     "data": {
      "text/html": [
       "<div>\n",
       "<style scoped>\n",
       "    .dataframe tbody tr th:only-of-type {\n",
       "        vertical-align: middle;\n",
       "    }\n",
       "\n",
       "    .dataframe tbody tr th {\n",
       "        vertical-align: top;\n",
       "    }\n",
       "\n",
       "    .dataframe thead th {\n",
       "        text-align: right;\n",
       "    }\n",
       "</style>\n",
       "<table border=\"1\" class=\"dataframe\">\n",
       "  <thead>\n",
       "    <tr style=\"text-align: right;\">\n",
       "      <th></th>\n",
       "      <th>word_0</th>\n",
       "      <th>word_1</th>\n",
       "      <th>word_2</th>\n",
       "      <th>word_3</th>\n",
       "      <th>word_4</th>\n",
       "      <th>word_5</th>\n",
       "      <th>word_6</th>\n",
       "      <th>word_7</th>\n",
       "      <th>word_8</th>\n",
       "      <th>word_9</th>\n",
       "    </tr>\n",
       "  </thead>\n",
       "  <tbody>\n",
       "    <tr>\n",
       "      <th>topic0</th>\n",
       "      <td>\"queen\"</td>\n",
       "      <td>\"'s\"</td>\n",
       "      <td>\"arya\"</td>\n",
       "      <td>\"north\"</td>\n",
       "      <td>\"go\"</td>\n",
       "      <td>\"jon\"</td>\n",
       "      <td>\"sansa\"</td>\n",
       "      <td>\"westeros\"</td>\n",
       "      <td>\"stark\"</td>\n",
       "      <td>\"na\"</td>\n",
       "    </tr>\n",
       "    <tr>\n",
       "      <th>topic1</th>\n",
       "      <td>\"bran\"</td>\n",
       "      <td>\"jon\"</td>\n",
       "      <td>\"king\"</td>\n",
       "      <td>\"n't\"</td>\n",
       "      <td>\"tyrion\"</td>\n",
       "      <td>\"get\"</td>\n",
       "      <td>\"know\"</td>\n",
       "      <td>None</td>\n",
       "      <td>None</td>\n",
       "      <td>None</td>\n",
       "    </tr>\n",
       "    <tr>\n",
       "      <th>topic2</th>\n",
       "      <td>\"season\"</td>\n",
       "      <td>\"episode\"</td>\n",
       "      <td>\"end\"</td>\n",
       "      <td>\"last\"</td>\n",
       "      <td>\"finale\"</td>\n",
       "      <td>\"series\"</td>\n",
       "      <td>\"watch\"</td>\n",
       "      <td>\"final\"</td>\n",
       "      <td>\"'s\"</td>\n",
       "      <td>\"get\"</td>\n",
       "    </tr>\n",
       "    <tr>\n",
       "      <th>topic3</th>\n",
       "      <td>\"end\"</td>\n",
       "      <td>\"throne\"</td>\n",
       "      <td>\"game\"</td>\n",
       "      <td>\"watch\"</td>\n",
       "      <td>\"'m\"</td>\n",
       "      <td>\"get\"</td>\n",
       "      <td>\"like\"</td>\n",
       "      <td>\"finale\"</td>\n",
       "      <td>None</td>\n",
       "      <td>None</td>\n",
       "    </tr>\n",
       "    <tr>\n",
       "      <th>topic4</th>\n",
       "      <td>\"show\"</td>\n",
       "      <td>\"thank\"</td>\n",
       "      <td>\"best\"</td>\n",
       "      <td>\"tv\"</td>\n",
       "      <td>\"gameofthrones\"</td>\n",
       "      <td>\"ever\"</td>\n",
       "      <td>\"miss\"</td>\n",
       "      <td>\"one\"</td>\n",
       "      <td>\"amaze\"</td>\n",
       "      <td>None</td>\n",
       "    </tr>\n",
       "  </tbody>\n",
       "</table>\n",
       "</div>"
      ],
      "text/plain": [
       "          word_0     word_1  word_2   word_3           word_4    word_5  \\\n",
       "topic0   \"queen\"       \"'s\"  \"arya\"  \"north\"             \"go\"     \"jon\"   \n",
       "topic1    \"bran\"      \"jon\"  \"king\"    \"n't\"         \"tyrion\"     \"get\"   \n",
       "topic2  \"season\"  \"episode\"   \"end\"   \"last\"         \"finale\"  \"series\"   \n",
       "topic3     \"end\"   \"throne\"  \"game\"  \"watch\"             \"'m\"     \"get\"   \n",
       "topic4    \"show\"    \"thank\"  \"best\"     \"tv\"  \"gameofthrones\"    \"ever\"   \n",
       "\n",
       "         word_6      word_7   word_8 word_9  \n",
       "topic0  \"sansa\"  \"westeros\"  \"stark\"   \"na\"  \n",
       "topic1   \"know\"        None     None   None  \n",
       "topic2  \"watch\"     \"final\"     \"'s\"  \"get\"  \n",
       "topic3   \"like\"    \"finale\"     None   None  \n",
       "topic4   \"miss\"       \"one\"  \"amaze\"   None  "
      ]
     },
     "execution_count": 209,
     "metadata": {},
     "output_type": "execute_result"
    }
   ],
   "source": [
    "pd.DataFrame([re.findall(\"\\\"\\w*[.']?\\w*\\\"\", x[1]) for x in ori_tops])\\\n",
    "    .rename(index=dict(zip(range(5), [\"topic\"+str(x) for x in range(5)])),\n",
    "            columns=dict(zip(range(10), [\"word_\"+str(x) for x in range(10)])))"
   ]
  },
  {
   "cell_type": "markdown",
   "metadata": {},
   "source": [
    "## - Sentiment Analysis"
   ]
  },
  {
   "cell_type": "code",
   "execution_count": null,
   "metadata": {},
   "outputs": [],
   "source": []
  },
  {
   "cell_type": "code",
   "execution_count": null,
   "metadata": {},
   "outputs": [],
   "source": []
  }
 ],
 "metadata": {
  "kernelspec": {
   "display_name": "Python 3",
   "language": "python",
   "name": "python3"
  },
  "language_info": {
   "codemirror_mode": {
    "name": "ipython",
    "version": 3
   },
   "file_extension": ".py",
   "mimetype": "text/x-python",
   "name": "python",
   "nbconvert_exporter": "python",
   "pygments_lexer": "ipython3",
   "version": "3.7.3"
  }
 },
 "nbformat": 4,
 "nbformat_minor": 2
}
