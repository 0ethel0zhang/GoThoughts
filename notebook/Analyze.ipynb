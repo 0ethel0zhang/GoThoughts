{
 "cells": [
  {
   "cell_type": "code",
   "execution_count": 1,
   "metadata": {},
   "outputs": [],
   "source": [
    "import pandas as pd\n",
    "import re\n",
    "from collections import Counter\n",
    "import matplotlib.pyplot as plt\n",
    "%matplotlib inline"
   ]
  },
  {
   "cell_type": "markdown",
   "metadata": {},
   "source": [
    "# Getting old Tweets"
   ]
  },
  {
   "cell_type": "code",
   "execution_count": 2,
   "metadata": {},
   "outputs": [],
   "source": [
    "tweets = pd.read_csv(\"../data/raw/output_got.csv\")"
   ]
  },
  {
   "cell_type": "code",
   "execution_count": 3,
   "metadata": {},
   "outputs": [
    {
     "data": {
      "text/html": [
       "<div>\n",
       "<style scoped>\n",
       "    .dataframe tbody tr th:only-of-type {\n",
       "        vertical-align: middle;\n",
       "    }\n",
       "\n",
       "    .dataframe tbody tr th {\n",
       "        vertical-align: top;\n",
       "    }\n",
       "\n",
       "    .dataframe thead th {\n",
       "        text-align: right;\n",
       "    }\n",
       "</style>\n",
       "<table border=\"1\" class=\"dataframe\">\n",
       "  <thead>\n",
       "    <tr style=\"text-align: right;\">\n",
       "      <th></th>\n",
       "      <th>date</th>\n",
       "      <th>username</th>\n",
       "      <th>to</th>\n",
       "      <th>replies</th>\n",
       "      <th>retweets</th>\n",
       "      <th>favorites</th>\n",
       "      <th>text</th>\n",
       "      <th>geo</th>\n",
       "      <th>mentions</th>\n",
       "      <th>hashtags</th>\n",
       "      <th>id</th>\n",
       "      <th>permalink</th>\n",
       "    </tr>\n",
       "  </thead>\n",
       "  <tbody>\n",
       "    <tr>\n",
       "      <th>0</th>\n",
       "      <td>2019-05-20 23:59:58</td>\n",
       "      <td>tpurvis06</td>\n",
       "      <td>NaN</td>\n",
       "      <td>0</td>\n",
       "      <td>0</td>\n",
       "      <td>0</td>\n",
       "      <td>You’ll never love #GameOfThrones as much as I ...</td>\n",
       "      <td>NaN</td>\n",
       "      <td>NaN</td>\n",
       "      <td>#GameOfThrones</td>\n",
       "      <td>1130624236232499200</td>\n",
       "      <td>https://twitter.com/tpurvis06/status/113062423...</td>\n",
       "    </tr>\n",
       "    <tr>\n",
       "      <th>1</th>\n",
       "      <td>2019-05-20 23:59:58</td>\n",
       "      <td>KrystalBClear7</td>\n",
       "      <td>NaN</td>\n",
       "      <td>0</td>\n",
       "      <td>0</td>\n",
       "      <td>0</td>\n",
       "      <td>They did Queen Dany dirtyyyyyyyy! #GameOfThrones</td>\n",
       "      <td>NaN</td>\n",
       "      <td>NaN</td>\n",
       "      <td>#GameOfThrones</td>\n",
       "      <td>1130624235347615746</td>\n",
       "      <td>https://twitter.com/KrystalBClear7/status/1130...</td>\n",
       "    </tr>\n",
       "    <tr>\n",
       "      <th>2</th>\n",
       "      <td>2019-05-20 23:59:57</td>\n",
       "      <td>Dynastiix</td>\n",
       "      <td>NaN</td>\n",
       "      <td>0</td>\n",
       "      <td>0</td>\n",
       "      <td>0</td>\n",
       "      <td>Bran is probably feeling really insecure about...</td>\n",
       "      <td>NaN</td>\n",
       "      <td>NaN</td>\n",
       "      <td>#GameOfThrones #GOTFinale</td>\n",
       "      <td>1130624232533254144</td>\n",
       "      <td>https://twitter.com/Dynastiix/status/113062423...</td>\n",
       "    </tr>\n",
       "    <tr>\n",
       "      <th>3</th>\n",
       "      <td>2019-05-20 23:59:56</td>\n",
       "      <td>alisonmccourt</td>\n",
       "      <td>NaN</td>\n",
       "      <td>0</td>\n",
       "      <td>0</td>\n",
       "      <td>4</td>\n",
       "      <td>I wouldn’t trade the 8 years of watch parties....</td>\n",
       "      <td>NaN</td>\n",
       "      <td>NaN</td>\n",
       "      <td>#GameOfThronesFinale #GameOfThrones</td>\n",
       "      <td>1130624226178850817</td>\n",
       "      <td>https://twitter.com/alisonmccourt/status/11306...</td>\n",
       "    </tr>\n",
       "    <tr>\n",
       "      <th>4</th>\n",
       "      <td>2019-05-20 23:59:55</td>\n",
       "      <td>sponzillotv</td>\n",
       "      <td>NaN</td>\n",
       "      <td>0</td>\n",
       "      <td>0</td>\n",
       "      <td>0</td>\n",
       "      <td>#OverheardWhileDogWalking “Because, like, the ...</td>\n",
       "      <td>NaN</td>\n",
       "      <td>NaN</td>\n",
       "      <td>#OverheardWhileDogWalking #SheWasntWrong #Game...</td>\n",
       "      <td>1130624224819859457</td>\n",
       "      <td>https://twitter.com/sponzillotv/status/1130624...</td>\n",
       "    </tr>\n",
       "  </tbody>\n",
       "</table>\n",
       "</div>"
      ],
      "text/plain": [
       "                  date        username   to  replies  retweets  favorites  \\\n",
       "0  2019-05-20 23:59:58       tpurvis06  NaN        0         0          0   \n",
       "1  2019-05-20 23:59:58  KrystalBClear7  NaN        0         0          0   \n",
       "2  2019-05-20 23:59:57       Dynastiix  NaN        0         0          0   \n",
       "3  2019-05-20 23:59:56   alisonmccourt  NaN        0         0          4   \n",
       "4  2019-05-20 23:59:55     sponzillotv  NaN        0         0          0   \n",
       "\n",
       "                                                text  geo mentions  \\\n",
       "0  You’ll never love #GameOfThrones as much as I ...  NaN      NaN   \n",
       "1   They did Queen Dany dirtyyyyyyyy! #GameOfThrones  NaN      NaN   \n",
       "2  Bran is probably feeling really insecure about...  NaN      NaN   \n",
       "3  I wouldn’t trade the 8 years of watch parties....  NaN      NaN   \n",
       "4  #OverheardWhileDogWalking “Because, like, the ...  NaN      NaN   \n",
       "\n",
       "                                            hashtags                   id  \\\n",
       "0                                     #GameOfThrones  1130624236232499200   \n",
       "1                                     #GameOfThrones  1130624235347615746   \n",
       "2                          #GameOfThrones #GOTFinale  1130624232533254144   \n",
       "3                #GameOfThronesFinale #GameOfThrones  1130624226178850817   \n",
       "4  #OverheardWhileDogWalking #SheWasntWrong #Game...  1130624224819859457   \n",
       "\n",
       "                                           permalink  \n",
       "0  https://twitter.com/tpurvis06/status/113062423...  \n",
       "1  https://twitter.com/KrystalBClear7/status/1130...  \n",
       "2  https://twitter.com/Dynastiix/status/113062423...  \n",
       "3  https://twitter.com/alisonmccourt/status/11306...  \n",
       "4  https://twitter.com/sponzillotv/status/1130624...  "
      ]
     },
     "execution_count": 3,
     "metadata": {},
     "output_type": "execute_result"
    }
   ],
   "source": [
    "tweets.head()"
   ]
  },
  {
   "cell_type": "code",
   "execution_count": 4,
   "metadata": {},
   "outputs": [],
   "source": [
    "things = ['text', 'date', 'retweets', 'geo', 'favorites', 'hashtags']"
   ]
  },
  {
   "cell_type": "code",
   "execution_count": 5,
   "metadata": {},
   "outputs": [],
   "source": [
    "tweets = tweets[things]"
   ]
  },
  {
   "cell_type": "code",
   "execution_count": 6,
   "metadata": {},
   "outputs": [
    {
     "data": {
      "text/plain": [
       "(20000, 6)"
      ]
     },
     "execution_count": 6,
     "metadata": {},
     "output_type": "execute_result"
    }
   ],
   "source": [
    "tweets.shape"
   ]
  },
  {
   "cell_type": "markdown",
   "metadata": {},
   "source": [
    "# Cleaning the feed"
   ]
  },
  {
   "cell_type": "code",
   "execution_count": 7,
   "metadata": {},
   "outputs": [],
   "source": [
    "# drop duplicates posted seconds/minutes/hours away from each other\n",
    "tweets = tweets.drop_duplicates([x for x in tweets.columns if x is not 'date'])"
   ]
  },
  {
   "cell_type": "code",
   "execution_count": 8,
   "metadata": {},
   "outputs": [
    {
     "data": {
      "text/plain": [
       "(19983, 6)"
      ]
     },
     "execution_count": 8,
     "metadata": {},
     "output_type": "execute_result"
    }
   ],
   "source": [
    "tweets.shape"
   ]
  },
  {
   "cell_type": "code",
   "execution_count": 9,
   "metadata": {},
   "outputs": [],
   "source": [
    "# sum favorites & retweets\n",
    "grouped_text = tweets.groupby(\"text\").sum().reset_index()"
   ]
  },
  {
   "cell_type": "code",
   "execution_count": 10,
   "metadata": {
    "scrolled": true
   },
   "outputs": [],
   "source": [
    "# earliest date of post\n",
    "grouped_date = tweets.groupby(\"text\").date.min().reset_index()"
   ]
  },
  {
   "cell_type": "code",
   "execution_count": 11,
   "metadata": {},
   "outputs": [],
   "source": [
    "ftweets = grouped_date.merge(grouped_text, on=\"text\", how=\"left\")"
   ]
  },
  {
   "cell_type": "code",
   "execution_count": 12,
   "metadata": {},
   "outputs": [
    {
     "data": {
      "text/plain": [
       "(19876, 5)"
      ]
     },
     "execution_count": 12,
     "metadata": {},
     "output_type": "execute_result"
    }
   ],
   "source": [
    "ftweets.shape"
   ]
  },
  {
   "cell_type": "code",
   "execution_count": 13,
   "metadata": {},
   "outputs": [],
   "source": [
    "def saveAsCoord(x):\n",
    "    try:\n",
    "        return tuple(x['coordinates'])\n",
    "    except:\n",
    "        return 'NA'"
   ]
  },
  {
   "cell_type": "code",
   "execution_count": 21,
   "metadata": {},
   "outputs": [],
   "source": [
    "ftweets['geo_cor'] = ftweets.geo.apply(saveAsCoord)"
   ]
  },
  {
   "cell_type": "code",
   "execution_count": 22,
   "metadata": {},
   "outputs": [
    {
     "data": {
      "text/html": [
       "<div>\n",
       "<style scoped>\n",
       "    .dataframe tbody tr th:only-of-type {\n",
       "        vertical-align: middle;\n",
       "    }\n",
       "\n",
       "    .dataframe tbody tr th {\n",
       "        vertical-align: top;\n",
       "    }\n",
       "\n",
       "    .dataframe thead th {\n",
       "        text-align: right;\n",
       "    }\n",
       "</style>\n",
       "<table border=\"1\" class=\"dataframe\">\n",
       "  <thead>\n",
       "    <tr style=\"text-align: right;\">\n",
       "      <th></th>\n",
       "      <th>text</th>\n",
       "      <th>date</th>\n",
       "      <th>retweets</th>\n",
       "      <th>geo</th>\n",
       "      <th>favorites</th>\n",
       "      <th>geo_cor</th>\n",
       "    </tr>\n",
       "  </thead>\n",
       "  <tbody>\n",
       "  </tbody>\n",
       "</table>\n",
       "</div>"
      ],
      "text/plain": [
       "Empty DataFrame\n",
       "Columns: [text, date, retweets, geo, favorites, geo_cor]\n",
       "Index: []"
      ]
     },
     "execution_count": 22,
     "metadata": {},
     "output_type": "execute_result"
    }
   ],
   "source": [
    "ftweets[ftweets.geo_cor != 'NA']"
   ]
  },
  {
   "cell_type": "code",
   "execution_count": 23,
   "metadata": {},
   "outputs": [
    {
     "data": {
      "text/plain": [
       "text         0\n",
       "date         0\n",
       "retweets     0\n",
       "geo          0\n",
       "favorites    0\n",
       "geo_cor      0\n",
       "dtype: int64"
      ]
     },
     "execution_count": 23,
     "metadata": {},
     "output_type": "execute_result"
    }
   ],
   "source": [
    "ftweets.isnull().sum()"
   ]
  },
  {
   "cell_type": "markdown",
   "metadata": {},
   "source": [
    "- **only keep one for same content, different links**"
   ]
  },
  {
   "cell_type": "code",
   "execution_count": 17,
   "metadata": {},
   "outputs": [],
   "source": [
    "def replaceLinks(x):\n",
    "    while re.search(\"[pic]*?.twitter.com/[a-z\\d]*\", x.lower()) is not None:\n",
    "        temp = re.search(\"[pic]*?.twitter.com/[a-z\\d]*\", x.lower())\n",
    "        x = x.replace(x[temp.start(): temp.end()], \"\")\n",
    "    return x"
   ]
  },
  {
   "cell_type": "code",
   "execution_count": 24,
   "metadata": {},
   "outputs": [],
   "source": [
    "ftweets[\"no_links\"] = ftweets.text.apply(replaceLinks)"
   ]
  },
  {
   "cell_type": "code",
   "execution_count": 25,
   "metadata": {},
   "outputs": [],
   "source": [
    "ftweets.drop_duplicates([x for x in ftweets.columns if x not in ['text', 'date']], inplace=True)"
   ]
  },
  {
   "cell_type": "code",
   "execution_count": 277,
   "metadata": {},
   "outputs": [],
   "source": [
    "test = ftweets.groupby(\"no_links\").min().reset_index()"
   ]
  },
  {
   "cell_type": "markdown",
   "metadata": {},
   "source": [
    "## - Most Retweeted"
   ]
  },
  {
   "cell_type": "code",
   "execution_count": 279,
   "metadata": {},
   "outputs": [
    {
     "name": "stdout",
     "output_type": "stream",
     "text": [
      "This video wins the internet today! #GameOfThrones pic.twitter.com/JCNfjpeq5E \n",
      "\n",
      "I'm not crying, you are. #GameOfThrones pic.twitter.com/FT9zqYOkEp \n",
      "\n",
      "An extraordinary journey. @Isaac_H_Wright #GameofThrones pic.twitter.com/mhV3pLUTDL \n",
      "\n",
      "Nothing sums up the snowflake generation more than this ridiculous petition to have the #GameofThrones final season rewritten. If they don't get what they want, whether it's Trump, Brexit or a TV show, they lie on the floor screaming 'I REFUSE TO ACCEPT THAT - DO IT AGAIN!!!!!' \n",
      "\n",
      "Mom... Mom... get up mom... #GameOfThrones #gotatlanticpic.twitter.com/ympeyepzyl \n",
      "\n"
     ]
    }
   ],
   "source": [
    "for t in test.sort_values(\"retweets\", ascending = False).head(5).text:\n",
    "    print(t, \"\\n\")"
   ]
  },
  {
   "cell_type": "markdown",
   "metadata": {},
   "source": [
    "> The 5th most retweeted tweet is about Dany but did not mention her name at all. (You can check out this page for the [content](pic.twitter.com/ympeyepzyl)).\n",
    "\n",
    "> There will be these tweets that my rule might not be able to capture."
   ]
  },
  {
   "cell_type": "markdown",
   "metadata": {},
   "source": [
    "## - Most Favorited"
   ]
  },
  {
   "cell_type": "code",
   "execution_count": 280,
   "metadata": {},
   "outputs": [
    {
     "name": "stdout",
     "output_type": "stream",
     "text": [
      "An extraordinary journey. @Isaac_H_Wright #GameofThrones pic.twitter.com/mhV3pLUTDL \n",
      "\n",
      "This video wins the internet today! #GameOfThrones pic.twitter.com/JCNfjpeq5E \n",
      "\n",
      "Nothing sums up the snowflake generation more than this ridiculous petition to have the #GameofThrones final season rewritten. If they don't get what they want, whether it's Trump, Brexit or a TV show, they lie on the floor screaming 'I REFUSE TO ACCEPT THAT - DO IT AGAIN!!!!!' \n",
      "\n",
      "I'm not crying, you are. #GameOfThrones pic.twitter.com/FT9zqYOkEp \n",
      "\n",
      "THANK YOU !!!!! #gameofthrones #aryastarksequel #bestcastandcrew https://www.instagram.com/p/BxswpkslPpW/?igshid=b2ymoar0eer … \n",
      "\n"
     ]
    }
   ],
   "source": [
    "for t in test.sort_values(\"favorites\", ascending = False).head(5).text:\n",
    "    print(t, \"\\n\")"
   ]
  },
  {
   "cell_type": "markdown",
   "metadata": {},
   "source": [
    "> The most favorited tweet is about the actor who played Bran but did not mention the character's name. \n",
    "\n",
    "> There will be these tweets that my rule might not be able to capture."
   ]
  },
  {
   "cell_type": "markdown",
   "metadata": {},
   "source": [
    "## - Most Recent Tweets"
   ]
  },
  {
   "cell_type": "code",
   "execution_count": 281,
   "metadata": {},
   "outputs": [
    {
     "name": "stdout",
     "output_type": "stream",
     "text": [
      "You’ll never love #GameOfThrones as much as I don’t... \n",
      "\n",
      "They did Queen Dany dirtyyyyyyyy! #GameOfThrones \n",
      "\n",
      "Bran is probably feeling really insecure about his manhood now because of Sansa's comment. His third eye dosent work. #GameOfThrones #GOTFinale \n",
      "\n",
      "I wouldn’t trade the 8 years of watch parties. I really wouldn’t. #GameOfThronesFinale #GameOfThrones \n",
      "\n",
      "#OverheardWhileDogWalking “Because, like, the Robin Arryn glowup is only because his mom died and like he could finally get vaccinated” Done. I’m just done. #SheWasntWrong #GameOfThrones \n",
      "\n"
     ]
    }
   ],
   "source": [
    "for t in test.sort_values(\"date\", ascending = False).head(5).text:\n",
    "    print(t, \"\\n\")"
   ]
  },
  {
   "cell_type": "markdown",
   "metadata": {},
   "source": [
    "## - Combine retweets & favorites since they are quite correlated"
   ]
  },
  {
   "cell_type": "code",
   "execution_count": 30,
   "metadata": {},
   "outputs": [
    {
     "data": {
      "text/plain": [
       "<matplotlib.axes._subplots.AxesSubplot at 0x123522eb8>"
      ]
     },
     "execution_count": 30,
     "metadata": {},
     "output_type": "execute_result"
    },
    {
     "data": {
      "image/png": "[encoded data removed]",
      "text/plain": [
       "<Figure size 432x288 with 1 Axes>"
      ]
     },
     "metadata": {
      "needs_background": "light"
     },
     "output_type": "display_data"
    }
   ],
   "source": [
    "test[['favorites', 'retweets']].plot()"
   ]
  },
  {
   "cell_type": "code",
   "execution_count": 31,
   "metadata": {},
   "outputs": [
    {
     "data": {
      "text/plain": [
       "[<matplotlib.lines.Line2D at 0x122697a20>]"
      ]
     },
     "execution_count": 31,
     "metadata": {},
     "output_type": "execute_result"
    },
    {
     "data": {
      "image/png": "[encoded data removed]",
      "text/plain": [
       "<Figure size 432x288 with 1 Axes>"
      ]
     },
     "metadata": {
      "needs_background": "light"
     },
     "output_type": "display_data"
    }
   ],
   "source": [
    "plt.plot(test.favorites, test.retweets, \"y\")"
   ]
  },
  {
   "cell_type": "code",
   "execution_count": 32,
   "metadata": {},
   "outputs": [
    {
     "data": {
      "text/html": [
       "<div>\n",
       "<style scoped>\n",
       "    .dataframe tbody tr th:only-of-type {\n",
       "        vertical-align: middle;\n",
       "    }\n",
       "\n",
       "    .dataframe tbody tr th {\n",
       "        vertical-align: top;\n",
       "    }\n",
       "\n",
       "    .dataframe thead th {\n",
       "        text-align: right;\n",
       "    }\n",
       "</style>\n",
       "<table border=\"1\" class=\"dataframe\">\n",
       "  <thead>\n",
       "    <tr style=\"text-align: right;\">\n",
       "      <th></th>\n",
       "      <th>favorites</th>\n",
       "      <th>retweets</th>\n",
       "    </tr>\n",
       "  </thead>\n",
       "  <tbody>\n",
       "    <tr>\n",
       "      <th>favorites</th>\n",
       "      <td>1.000000</td>\n",
       "      <td>0.895553</td>\n",
       "    </tr>\n",
       "    <tr>\n",
       "      <th>retweets</th>\n",
       "      <td>0.895553</td>\n",
       "      <td>1.000000</td>\n",
       "    </tr>\n",
       "  </tbody>\n",
       "</table>\n",
       "</div>"
      ],
      "text/plain": [
       "           favorites  retweets\n",
       "favorites   1.000000  0.895553\n",
       "retweets    0.895553  1.000000"
      ]
     },
     "execution_count": 32,
     "metadata": {},
     "output_type": "execute_result"
    }
   ],
   "source": [
    "test[['favorites', 'retweets']].corr()"
   ]
  },
  {
   "cell_type": "code",
   "execution_count": 282,
   "metadata": {},
   "outputs": [],
   "source": [
    "test['popularity'] = test.favorites + test.retweets"
   ]
  },
  {
   "cell_type": "markdown",
   "metadata": {},
   "source": [
    "## - Mentioning main characters"
   ]
  },
  {
   "cell_type": "code",
   "execution_count": 34,
   "metadata": {},
   "outputs": [],
   "source": [
    "mains = [\"|\".join(['daenerys targaryen', \"dany\", \"daenerys\", \"khaleesi\", \"mother of dragons\", \"motherofdragons\", \n",
    "                   \"danerys\", \"danaerys\"]), \n",
    "         \"|\".join(['jon snow', 'jon']), \n",
    "         \"|\".join(['sansa Stark', 'sansa']), \n",
    "         \"|\".join(['arya Stark', 'arya']),\n",
    "         \"|\".join([\"bran Stark\", \"brandon Stark\", \"three-eyed raven\", \"bran\"]),\n",
    "         \"|\".join(['tyrion', 'tyrion lannister'])]"
   ]
  },
  {
   "cell_type": "code",
   "execution_count": 35,
   "metadata": {},
   "outputs": [
    {
     "name": "stdout",
     "output_type": "stream",
     "text": [
      "d 1331\n",
      "j 1589\n",
      "s 624\n",
      "a 756\n",
      "b 1447\n",
      "t 643\n"
     ]
    }
   ],
   "source": [
    "for char in mains:\n",
    "    print(char[0],test[test.no_links.str.lower().str.contains(char)].shape[0])"
   ]
  },
  {
   "cell_type": "markdown",
   "metadata": {},
   "source": [
    "> Most people mentioned Jon, followed by Bran and then Dany."
   ]
  },
  {
   "cell_type": "markdown",
   "metadata": {},
   "source": [
    "### A glimpse of their most popular tweets"
   ]
  },
  {
   "cell_type": "code",
   "execution_count": 283,
   "metadata": {
    "scrolled": true
   },
   "outputs": [
    {
     "name": "stdout",
     "output_type": "stream",
     "text": [
      "Jon to Dany there at the end #GameOfThonesFinale #GameOfThrones #DemThronespic.twitter.com/n0czgoAvkz \n",
      "\n",
      "In S5 E2 Ser Barristan Selmy councils Daenerys to utilize restraint and warns her about following in her father’s footsteps #GameofThrones pic.twitter.com/utUm0TCiq3 \n",
      "\n",
      "I’m just really hoping this is what’s going on in Dany’s afterlife after that mess of betrayal and loss she went through #GameOfThrones pic.twitter.com/YbQdofNUhJ \n",
      "\n",
      "Great CGI work! #Daenerys #Drogon #GameOfThrones pic.twitter.com/JaxPlk3a7r \n",
      "\n",
      "For what’s (hopefully!) my last #GameofThrones piece, I wrote about why Dany’s story ending on the “Jon & Tyrion Talk In Circles” show was so frustrating, and how hard Emilia Clarke crushed it, anyway. https://variety.com/2019/tv/columns/game-of-thrones-series-finale-dany-daenerys-death-mad-queen-1203221341/ … \n",
      "\n"
     ]
    }
   ],
   "source": [
    "for x in test[test.no_links.str.lower().str.contains(mains[0])].sort_values(\"popularity\", ascending=False).head(5).text:\n",
    "    print(x, \"\\n\")"
   ]
  },
  {
   "cell_type": "code",
   "execution_count": 284,
   "metadata": {
    "scrolled": true
   },
   "outputs": [
    {
     "name": "stdout",
     "output_type": "stream",
     "text": [
      "Jon to Dany there at the end #GameOfThonesFinale #GameOfThrones #DemThronespic.twitter.com/n0czgoAvkz \n",
      "\n",
      "#GameofThrones >yara greyjoy won the kingsmoot but is anti democracy and fought for independence >prince of dorne has no idea wtf a 3 eyed raven is >gendry literal heir to the throne >jon snow also literally the heir to the throne tyrion: lets vote for bran lords of westeros: pic.twitter.com/IsKXS62kUy \n",
      "\n",
      "For what’s (hopefully!) my last #GameofThrones piece, I wrote about why Dany’s story ending on the “Jon & Tyrion Talk In Circles” show was so frustrating, and how hard Emilia Clarke crushed it, anyway. https://variety.com/2019/tv/columns/game-of-thrones-series-finale-dany-daenerys-death-mad-queen-1203221341/ … \n",
      "\n",
      "#GameOfThrones questions... • Where did Drogon go? • How did all those rocks not severely damage Jaime & Cersei’s heads? • Who the hell is Jon going to watch for at The Wall? • Why does Bran need a master of whisperers? pic.twitter.com/8MrXh2tDMK \n",
      "\n",
      "So what's the point of bringing Jon back from the dead .He didn't kill the Night King like we all expected him to nor did he become King of Westeros. He deserved a better ending . #GameOfThrones pic.twitter.com/rhWINyzWYX \n",
      "\n"
     ]
    }
   ],
   "source": [
    "for x in test[test.no_links.str.lower().str.contains(mains[1])].sort_values(\"popularity\", ascending=False).head(5).text:\n",
    "    print(x, \"\\n\")"
   ]
  },
  {
   "cell_type": "markdown",
   "metadata": {},
   "source": [
    "## - Try seperating Spanish into its own\n",
    "using #juegodetronos"
   ]
  },
  {
   "cell_type": "code",
   "execution_count": 285,
   "metadata": {},
   "outputs": [],
   "source": [
    "spanish = test[test.text.str.contains(\"#juegodetronos\")]"
   ]
  },
  {
   "cell_type": "code",
   "execution_count": 286,
   "metadata": {},
   "outputs": [],
   "source": [
    "test = test[~test.text.str.contains(\"#juegodetronos\")].reset_index(drop=True)"
   ]
  },
  {
   "cell_type": "markdown",
   "metadata": {},
   "source": [
    "## - Hashtags Analysis"
   ]
  },
  {
   "cell_type": "code",
   "execution_count": 40,
   "metadata": {},
   "outputs": [],
   "source": [
    "from functools import reduce"
   ]
  },
  {
   "cell_type": "code",
   "execution_count": 41,
   "metadata": {},
   "outputs": [],
   "source": [
    "def findHashtags(x):\n",
    "    new = re.findall(\"#[a-z]*\", x.lower())\n",
    "    return new"
   ]
  },
  {
   "cell_type": "code",
   "execution_count": 42,
   "metadata": {},
   "outputs": [],
   "source": [
    "new = test.text.apply(findHashtags)"
   ]
  },
  {
   "cell_type": "code",
   "execution_count": 43,
   "metadata": {},
   "outputs": [],
   "source": [
    "all_words = []"
   ]
  },
  {
   "cell_type": "code",
   "execution_count": 44,
   "metadata": {},
   "outputs": [],
   "source": [
    "all_words = reduce(lambda x, y: x+y, new.values.tolist())"
   ]
  },
  {
   "cell_type": "code",
   "execution_count": 45,
   "metadata": {},
   "outputs": [],
   "source": [
    "hashtags = list(set(all_words))"
   ]
  },
  {
   "cell_type": "code",
   "execution_count": 46,
   "metadata": {},
   "outputs": [],
   "source": [
    "check = sorted(hashtags, key=len, reverse=True)"
   ]
  },
  {
   "cell_type": "code",
   "execution_count": 47,
   "metadata": {},
   "outputs": [],
   "source": [
    "hash_counts = [(k,v) for k,v in Counter(all_words).items()]"
   ]
  },
  {
   "cell_type": "code",
   "execution_count": 48,
   "metadata": {},
   "outputs": [],
   "source": [
    "sorted_x = sorted(dict(hash_counts).items(), key=lambda kv: kv[1])"
   ]
  },
  {
   "cell_type": "code",
   "execution_count": 49,
   "metadata": {},
   "outputs": [
    {
     "data": {
      "text/plain": [
       "[('#thefinalepisode', 261),\n",
       " ('#gotseasonfinale', 261),\n",
       " ('#jonsnow', 336),\n",
       " ('#gots', 342),\n",
       " ('#gameofthronesfinalepic', 344),\n",
       " ('#gotfinale', 713),\n",
       " ('#gameofthonesfinale', 1147),\n",
       " ('#gameofthronesfinale', 1807),\n",
       " ('#got', 2301),\n",
       " ('#gameofthrones', 19792)]"
      ]
     },
     "execution_count": 49,
     "metadata": {},
     "output_type": "execute_result"
    }
   ],
   "source": [
    "sorted_x[-10:]"
   ]
  },
  {
   "cell_type": "markdown",
   "metadata": {},
   "source": [
    "### -> Most used hashtags"
   ]
  },
  {
   "cell_type": "code",
   "execution_count": 50,
   "metadata": {},
   "outputs": [
    {
     "data": {
      "text/plain": [
       "Text(0.5, 1.0, 'Number of Mentions for the Top 10 Hashtags')"
      ]
     },
     "execution_count": 50,
     "metadata": {},
     "output_type": "execute_result"
    },
    {
     "data": {
      "image/png": "[encoded data removed]",
      "text/plain": [
       "<Figure size 1440x360 with 1 Axes>"
      ]
     },
     "metadata": {
      "needs_background": "light"
     },
     "output_type": "display_data"
    }
   ],
   "source": [
    "plt.figure(figsize=(20,5))\n",
    "plt.bar([x[0] for x in sorted_x[-10:]], [x[1] for x in sorted_x[-10:]])\n",
    "plt.title(\"Number of Mentions for the Top 10 Hashtags\")"
   ]
  },
  {
   "cell_type": "markdown",
   "metadata": {},
   "source": [
    "> A lot of (about 1K) people are struggling with spelling. #gameofthones"
   ]
  },
  {
   "cell_type": "markdown",
   "metadata": {},
   "source": [
    "## - Topic Analysis"
   ]
  },
  {
   "cell_type": "code",
   "execution_count": 51,
   "metadata": {},
   "outputs": [],
   "source": [
    "import re, string\n",
    "import numpy as np\n",
    "import pandas as pd\n",
    "from nltk.tokenize import word_tokenize\n",
    "from nltk.tokenize import WhitespaceTokenizer\n",
    "from nltk.corpus import stopwords\n",
    "from nltk.stem import WordNetLemmatizer\n",
    "from gensim import corpora\n",
    "from gensim.models.ldamodel import LdaModel\n",
    "from nltk.stem.porter import PorterStemmer"
   ]
  },
  {
   "cell_type": "code",
   "execution_count": 52,
   "metadata": {},
   "outputs": [],
   "source": [
    "# Create a WordNetLemmatizer object\n",
    "lemmatizer = WordNetLemmatizer()"
   ]
  },
  {
   "cell_type": "code",
   "execution_count": 233,
   "metadata": {},
   "outputs": [],
   "source": [
    "# Use Porter stemmer\n",
    "stemmer = PorterStemmer()"
   ]
  },
  {
   "cell_type": "code",
   "execution_count": 53,
   "metadata": {},
   "outputs": [],
   "source": [
    "# create English stop words list (you can always define your own stopwords)\n",
    "stop_words = set(stopwords.words('english'))"
   ]
  },
  {
   "cell_type": "code",
   "execution_count": 201,
   "metadata": {},
   "outputs": [],
   "source": [
    "# Function to remove stop words from sentences & lemmatize verbs and nouns. \n",
    "def clean(doc, lem = True):\n",
    "    # treat xx's as xxs\n",
    "    doc = doc.replace(\"'s\", \"s\")\n",
    "    # tokenize\n",
    "    tokenized = word_tokenize(doc.lower())\n",
    "    # remove punctuations (’ included) and stopwords\n",
    "    stop_free = [x for x in tokenized if not re.fullmatch('[' + string.punctuation + '’]+', x) and x not in stop_words]\n",
    "    if lem:\n",
    "        lemma_verb = [lemmatizer.lemmatize(word,'v') for word in stop_free]\n",
    "        lemma_noun = [lemmatizer.lemmatize(word,'n') for word in lemma_verb]\n",
    "        #y = [s for s in lemma_noun if len(s) > 2]\n",
    "        return lemma_noun\n",
    "    else:\n",
    "        return stop_free"
   ]
  },
  {
   "cell_type": "markdown",
   "metadata": {},
   "source": [
    "**Step 1: Clean the corpus**\n",
    "- convert the text reviews to lowercase\n",
    "- remove #gameofthrones (every tweet has it)\n",
    "- remove reviews with less than 3 tokens"
   ]
  },
  {
   "cell_type": "code",
   "execution_count": 55,
   "metadata": {},
   "outputs": [],
   "source": [
    "def removeHashtags(x):\n",
    "    for i in range(len(check)-1):\n",
    "        hashed = check[i]\n",
    "        try:\n",
    "            x = x.lower().replace(hashed, \"\")\n",
    "        except:\n",
    "            next\n",
    "    return x"
   ]
  },
  {
   "cell_type": "code",
   "execution_count": 56,
   "metadata": {},
   "outputs": [],
   "source": [
    "links = re.compile('[https?]*?://(?:[-\\w.]|(?:%[\\da-fA-F]{2}))+[/?\\w+=?\\w+]*')\n",
    "def removeLinks(x):\n",
    "    while re.search(links, x.lower()) is not None:\n",
    "        temp = re.search(links, x.lower())\n",
    "        x = x.replace(x[temp.start(): temp.end()], \"\")\n",
    "    return x"
   ]
  },
  {
   "cell_type": "code",
   "execution_count": 291,
   "metadata": {},
   "outputs": [],
   "source": [
    "# clean text one step at a time\n",
    "test['pure_text'] = test.text.apply(removeHashtags)\n",
    "test['pure_text'] = test.pure_text.apply(replaceLinks)\n",
    "test['pure_text'] = test.pure_text.apply(removeLinks)"
   ]
  },
  {
   "cell_type": "code",
   "execution_count": 62,
   "metadata": {},
   "outputs": [],
   "source": [
    "review = test.pure_text.values.tolist()"
   ]
  },
  {
   "cell_type": "code",
   "execution_count": 63,
   "metadata": {},
   "outputs": [],
   "source": [
    "long_review = [x for x in review if len(x) > 3]"
   ]
  },
  {
   "cell_type": "code",
   "execution_count": 64,
   "metadata": {},
   "outputs": [
    {
     "data": {
      "text/plain": [
       "(19726, 19726)"
      ]
     },
     "execution_count": 64,
     "metadata": {},
     "output_type": "execute_result"
    }
   ],
   "source": [
    "len(review), len(long_review)"
   ]
  },
  {
   "cell_type": "markdown",
   "metadata": {},
   "source": [
    "- tokenize them\n",
    "- remove punctuations, and stop words.\n",
    "- filter the terms which occurred less than 10 times in your documents (i.e., reviews).\n",
    "- with and without lemmatization"
   ]
  },
  {
   "cell_type": "code",
   "execution_count": 202,
   "metadata": {
    "scrolled": true
   },
   "outputs": [],
   "source": [
    "# with lemmatization\n",
    "skim_review = [clean(doc.strip()) for doc in long_review]"
   ]
  },
  {
   "cell_type": "markdown",
   "metadata": {},
   "source": [
    "**Step 2: Create the dictionary**\n",
    "\n",
    "only exploring dictionary with lemmatization"
   ]
  },
  {
   "cell_type": "code",
   "execution_count": 203,
   "metadata": {},
   "outputs": [],
   "source": [
    "freq = [(k,v) for k,v in Counter([item for sublist in skim_review for item in sublist]).items() \n",
    "        if v >= 10 and re.search('\\d+', k) is None]\n",
    "\n",
    "dictionary = [x[0] for x in freq]"
   ]
  },
  {
   "cell_type": "markdown",
   "metadata": {},
   "source": [
    "**Step 3: DT**\n",
    "\n",
    "Convert the list of documents in your corpus into Document-Term Matrix using the dictionary prepared at Step 2 (again, a term is a word).\n",
    "\n",
    "-With lemmatization"
   ]
  },
  {
   "cell_type": "code",
   "execution_count": 204,
   "metadata": {},
   "outputs": [],
   "source": [
    "Dic = corpora.Dictionary([dictionary])\n",
    "corpus = [Dic.doc2bow(doc_clean) for doc_clean in skim_review]"
   ]
  },
  {
   "cell_type": "markdown",
   "metadata": {},
   "source": [
    "**Step 4: Run the LDA model on the document-term matrix**\n",
    "    \n",
    "LDA with the following parameters: number of topics (k = 10), number of passes (pass = 20), and number of iterations (iterations = 2000)."
   ]
  },
  {
   "cell_type": "markdown",
   "metadata": {},
   "source": [
    "-With lemmatization"
   ]
  },
  {
   "cell_type": "code",
   "execution_count": 205,
   "metadata": {},
   "outputs": [],
   "source": [
    "# LDA model needs many iterations/passes and a large corpus to work well\n",
    "# must define the number of topics you want to extract from the corpus\n",
    "ldamodel = LdaModel(corpus, num_topics=7, id2word = Dic, passes=20, iterations=2000)"
   ]
  },
  {
   "cell_type": "markdown",
   "metadata": {},
   "source": [
    "**Step 5: For each of the k topics, print the top 10 words**"
   ]
  },
  {
   "cell_type": "code",
   "execution_count": 206,
   "metadata": {},
   "outputs": [],
   "source": [
    "ori_tops = ldamodel.print_topics(num_topics=7, num_words=10)"
   ]
  },
  {
   "cell_type": "code",
   "execution_count": 207,
   "metadata": {},
   "outputs": [
    {
     "data": {
      "text/html": [
       "<div>\n",
       "<style scoped>\n",
       "    .dataframe tbody tr th:only-of-type {\n",
       "        vertical-align: middle;\n",
       "    }\n",
       "\n",
       "    .dataframe tbody tr th {\n",
       "        vertical-align: top;\n",
       "    }\n",
       "\n",
       "    .dataframe thead th {\n",
       "        text-align: right;\n",
       "    }\n",
       "</style>\n",
       "<table border=\"1\" class=\"dataframe\">\n",
       "  <thead>\n",
       "    <tr style=\"text-align: right;\">\n",
       "      <th></th>\n",
       "      <th>word_0</th>\n",
       "      <th>word_1</th>\n",
       "      <th>word_2</th>\n",
       "      <th>word_3</th>\n",
       "      <th>word_4</th>\n",
       "      <th>word_5</th>\n",
       "      <th>word_6</th>\n",
       "      <th>word_7</th>\n",
       "      <th>word_8</th>\n",
       "      <th>word_9</th>\n",
       "    </tr>\n",
       "  </thead>\n",
       "  <tbody>\n",
       "    <tr>\n",
       "      <th>topic0</th>\n",
       "      <td>\"thank\"</td>\n",
       "      <td>\"show\"</td>\n",
       "      <td>\"amaze\"</td>\n",
       "      <td>\"love\"</td>\n",
       "      <td>\"one\"</td>\n",
       "      <td>\"character\"</td>\n",
       "      <td>\"make\"</td>\n",
       "      <td>\"perfect\"</td>\n",
       "      <td>\"u\"</td>\n",
       "      <td>\"work\"</td>\n",
       "    </tr>\n",
       "    <tr>\n",
       "      <th>topic1</th>\n",
       "      <td>\"throne\"</td>\n",
       "      <td>\"game\"</td>\n",
       "      <td>\"finale\"</td>\n",
       "      <td>\"spoiler\"</td>\n",
       "      <td>\"hbo\"</td>\n",
       "      <td>\"watch\"</td>\n",
       "      <td>\"season\"</td>\n",
       "      <td>\"series\"</td>\n",
       "      <td>\"fan\"</td>\n",
       "      <td>None</td>\n",
       "    </tr>\n",
       "    <tr>\n",
       "      <th>topic2</th>\n",
       "      <td>\"jon\"</td>\n",
       "      <td>\"queen\"</td>\n",
       "      <td>\"snow\"</td>\n",
       "      <td>\"dany\"</td>\n",
       "      <td>\"drogon\"</td>\n",
       "      <td>\"dragon\"</td>\n",
       "      <td>\"north\"</td>\n",
       "      <td>\"daenerys\"</td>\n",
       "      <td>\"get\"</td>\n",
       "      <td>\"kill\"</td>\n",
       "    </tr>\n",
       "    <tr>\n",
       "      <th>topic3</th>\n",
       "      <td>\"book\"</td>\n",
       "      <td>\"like\"</td>\n",
       "      <td>\"people\"</td>\n",
       "      <td>\"story\"</td>\n",
       "      <td>\"see\"</td>\n",
       "      <td>\"two\"</td>\n",
       "      <td>\"look\"</td>\n",
       "      <td>\"get\"</td>\n",
       "      <td>None</td>\n",
       "      <td>None</td>\n",
       "    </tr>\n",
       "    <tr>\n",
       "      <th>topic4</th>\n",
       "      <td>\"end\"</td>\n",
       "      <td>\"n't\"</td>\n",
       "      <td>\"watch\"</td>\n",
       "      <td>\"show\"</td>\n",
       "      <td>\"season\"</td>\n",
       "      <td>\"series\"</td>\n",
       "      <td>\"ever\"</td>\n",
       "      <td>\"'m\"</td>\n",
       "      <td>\"episode\"</td>\n",
       "      <td>\"finale\"</td>\n",
       "    </tr>\n",
       "    <tr>\n",
       "      <th>5</th>\n",
       "      <td>\"bran\"</td>\n",
       "      <td>\"king\"</td>\n",
       "      <td>\"tyrion\"</td>\n",
       "      <td>\"arya\"</td>\n",
       "      <td>\"break\"</td>\n",
       "      <td>\"westeros\"</td>\n",
       "      <td>\"na\"</td>\n",
       "      <td>\"stark\"</td>\n",
       "      <td>\"new\"</td>\n",
       "      <td>\"one\"</td>\n",
       "    </tr>\n",
       "    <tr>\n",
       "      <th>6</th>\n",
       "      <td>\"season\"</td>\n",
       "      <td>\"get\"</td>\n",
       "      <td>\"last\"</td>\n",
       "      <td>\"episode\"</td>\n",
       "      <td>\"like\"</td>\n",
       "      <td>\"end\"</td>\n",
       "      <td>\"fuck\"</td>\n",
       "      <td>\"well\"</td>\n",
       "      <td>\"watch\"</td>\n",
       "      <td>\"think\"</td>\n",
       "    </tr>\n",
       "  </tbody>\n",
       "</table>\n",
       "</div>"
      ],
      "text/plain": [
       "          word_0   word_1    word_2     word_3    word_4       word_5  \\\n",
       "topic0   \"thank\"   \"show\"   \"amaze\"     \"love\"     \"one\"  \"character\"   \n",
       "topic1  \"throne\"   \"game\"  \"finale\"  \"spoiler\"     \"hbo\"      \"watch\"   \n",
       "topic2     \"jon\"  \"queen\"    \"snow\"     \"dany\"  \"drogon\"     \"dragon\"   \n",
       "topic3    \"book\"   \"like\"  \"people\"    \"story\"     \"see\"        \"two\"   \n",
       "topic4     \"end\"    \"n't\"   \"watch\"     \"show\"  \"season\"     \"series\"   \n",
       "5         \"bran\"   \"king\"  \"tyrion\"     \"arya\"   \"break\"   \"westeros\"   \n",
       "6       \"season\"    \"get\"    \"last\"  \"episode\"    \"like\"        \"end\"   \n",
       "\n",
       "          word_6      word_7     word_8    word_9  \n",
       "topic0    \"make\"   \"perfect\"        \"u\"    \"work\"  \n",
       "topic1  \"season\"    \"series\"      \"fan\"      None  \n",
       "topic2   \"north\"  \"daenerys\"      \"get\"    \"kill\"  \n",
       "topic3    \"look\"       \"get\"       None      None  \n",
       "topic4    \"ever\"        \"'m\"  \"episode\"  \"finale\"  \n",
       "5           \"na\"     \"stark\"      \"new\"     \"one\"  \n",
       "6         \"fuck\"      \"well\"    \"watch\"   \"think\"  "
      ]
     },
     "execution_count": 207,
     "metadata": {},
     "output_type": "execute_result"
    }
   ],
   "source": [
    "pd.DataFrame([re.findall(\"\\\"\\w*[.']?\\w*\\\"\", x[1]) for x in ori_tops])\\\n",
    "    .rename(index=dict(zip(range(5), [\"topic\"+str(x) for x in range(5)])),\n",
    "            columns=dict(zip(range(10), [\"word_\"+str(x) for x in range(10)])))"
   ]
  },
  {
   "cell_type": "markdown",
   "metadata": {},
   "source": [
    "## - Sentiment Analysis"
   ]
  },
  {
   "cell_type": "markdown",
   "metadata": {},
   "source": [
    "- train model using [Cornell Movie Review Data](https://www.cs.cornell.edu/people/pabo/movie-review-data/)"
   ]
  },
  {
   "cell_type": "code",
   "execution_count": 107,
   "metadata": {},
   "outputs": [],
   "source": [
    "import tarfile"
   ]
  },
  {
   "cell_type": "code",
   "execution_count": 156,
   "metadata": {},
   "outputs": [],
   "source": [
    "from sklearn.feature_extraction.text import CountVectorizer, TfidfVectorizer\n",
    "from sklearn.naive_bayes import MultinomialNB\n",
    "from sklearn.metrics import accuracy_score\n",
    "from nltk import pos_tag, bigrams\n",
    "import numpy as np"
   ]
  },
  {
   "cell_type": "code",
   "execution_count": 129,
   "metadata": {},
   "outputs": [],
   "source": [
    "train_pos_file_list = []\n",
    "train_neg_file_list = []\n",
    "test_pos_file_list = []\n",
    "test_neg_file_list = []\n",
    "with tarfile.open(\"../data/raw/review_polarity.tar.gz\") as f:\n",
    "    for member in f.getmembers():\n",
    "        # skip README file\n",
    "        if member.name == 'poldata.README.2.0':\n",
    "            next\n",
    "        else:\n",
    "            file=f.extractfile(member)\n",
    "            content=file.read()\n",
    "            if 'pos' in member.name:\n",
    "                if int(member.name[19:22]) >= 800:\n",
    "                    test_pos_file_list.append(content)\n",
    "                else:\n",
    "                    train_pos_file_list.append(content)\n",
    "            else:\n",
    "                if int(member.name[19:22]) >= 1800:\n",
    "                    test_neg_file_list.append(content)\n",
    "                else:\n",
    "                    train_neg_file_list.append(content)"
   ]
  },
  {
   "cell_type": "code",
   "execution_count": 131,
   "metadata": {},
   "outputs": [],
   "source": [
    "train_pos_labels = [1 for i in range(len(train_pos_file_list))]\n",
    "train_neg_labels = [0 for i in range(len(train_neg_file_list))]\n",
    "test_pos_labels = [1 for i in range(len(test_pos_file_list))]\n",
    "test_neg_labels = [0 for i in range(len(test_neg_file_list))]"
   ]
  },
  {
   "cell_type": "code",
   "execution_count": 132,
   "metadata": {},
   "outputs": [],
   "source": [
    "train_labels = train_pos_labels + train_neg_labels\n",
    "test_labels = test_pos_labels + test_neg_labels"
   ]
  },
  {
   "cell_type": "code",
   "execution_count": 148,
   "metadata": {},
   "outputs": [],
   "source": [
    "train_pos_file_list = [str(text).replace(\"b'\", \"\").replace(\"\\\\n\",\"\").replace(\"\\\\'\",\"'\") for text in train_pos_file_list]\n",
    "train_neg_file_list = [str(text).replace(\"b'\", \"\").replace(\"\\\\n\",\"\").replace(\"\\\\'\",\"'\") for text in train_neg_file_list]\n",
    "test_pos_file_list = [str(text).replace(\"b'\", \"\").replace(\"\\\\n\",\"\").replace(\"\\\\'\",\"'\") for text in test_pos_file_list]\n",
    "test_neg_file_list = [str(text).replace(\"b'\", \"\").replace(\"\\\\n\",\"\").replace(\"\\\\'\",\"'\") for text in test_neg_file_list]"
   ]
  },
  {
   "cell_type": "code",
   "execution_count": 149,
   "metadata": {},
   "outputs": [],
   "source": [
    "train_file_list = train_pos_file_list + train_neg_file_list\n",
    "test_file_list = test_pos_file_list + test_neg_file_list"
   ]
  },
  {
   "cell_type": "code",
   "execution_count": 154,
   "metadata": {},
   "outputs": [],
   "source": [
    "def clean_review(review, stem=False):\n",
    "    \"\"\"Clean a passed in review\n",
    "    \n",
    "    Tokenizes and removes punctuation, with the option of stemming\n",
    "    \n",
    "    Args:\n",
    "        review (str): movie review text string\n",
    "        stem (boolean): indicator whether to stem or just tokenize\n",
    "        \n",
    "    Returns:\n",
    "        clean_review (list): tokenized, cleaned movie review\n",
    "    \"\"\"\n",
    "    # Remove styling\n",
    "    review = word_tokenize(review)\n",
    "    if stem:\n",
    "        stemmer = PorterStemmer()\n",
    "        review = [stemmer.stem(token) for token in review]\n",
    "    # Remove punctuation\n",
    "    cleaned_review = [x for x in review if not re.fullmatch('[' + string.punctuation + ']+', x)]\n",
    "    return cleaned_review"
   ]
  },
  {
   "cell_type": "code",
   "execution_count": 161,
   "metadata": {},
   "outputs": [],
   "source": [
    "def show_most_informative_features(vectorizer, classifier, n=10):\n",
    "    class_labels = classifier.classes_\n",
    "    feature_names = vectorizer.get_feature_names()  \n",
    "    topn_pos_class = sorted(zip(classifier.feature_count_[1], feature_names),reverse=True)[:n]\n",
    "    topn_neg_class = sorted(zip(classifier.feature_count_[0], feature_names),reverse=True)[:n]    \n",
    "\n",
    "    print(\"Important words in positive reviews\")\n",
    "    for coef, feature in topn_pos_class:\n",
    "        print(class_labels[1], coef, feature) \n",
    "    print(\"-----------------------------------------\")\n",
    "    print(\"Important words in negative reviews\")\n",
    "    for coef, feature in topn_neg_class:\n",
    "        print(class_labels[0], coef, feature)"
   ]
  },
  {
   "cell_type": "code",
   "execution_count": 309,
   "metadata": {},
   "outputs": [],
   "source": [
    "train = [clean_review(review) for review in train_file_list]\n",
    "ttest = [clean_review(review) for review in test_file_list]"
   ]
  },
  {
   "cell_type": "markdown",
   "metadata": {},
   "source": [
    "Multiple methods are entertained, but having adj/v features perform the best / has the highest accuracy:\n",
    "    1. absent/present words (68.5%)\n",
    "    2. term frequency (72.5%)\n",
    "    3. POS tagging (adj/v) (73.5%)\n",
    "    4. tf-idf (51%)\n",
    "    5. bi-grams (67%)"
   ]
  },
  {
   "cell_type": "markdown",
   "metadata": {},
   "source": [
    "- M2: term frequency"
   ]
  },
  {
   "cell_type": "code",
   "execution_count": 310,
   "metadata": {},
   "outputs": [
    {
     "data": {
      "text/plain": [
       "0.725"
      ]
     },
     "execution_count": 310,
     "metadata": {},
     "output_type": "execute_result"
    }
   ],
   "source": [
    "vectorizer = CountVectorizer()\n",
    "train_features = vectorizer.fit_transform([' '.join(review) for review in train])\n",
    "test_features = vectorizer.transform([' '.join(review) for review in ttest])\n",
    "nb_clf = MultinomialNB()\n",
    "nb_clf.fit(train_features, train_labels)\n",
    "predictions = nb_clf.predict(test_features)\n",
    "accuracy = accuracy_score(test_labels, predictions)\n",
    "accuracy"
   ]
  },
  {
   "cell_type": "code",
   "execution_count": 311,
   "metadata": {
    "scrolled": true
   },
   "outputs": [
    {
     "name": "stdout",
     "output_type": "stream",
     "text": [
      "Important words in positive reviews\n",
      "1 33040.0 the\n",
      "1 15818.0 and\n",
      "1 14844.0 of\n",
      "1 13119.0 to\n",
      "1 11428.0 is\n",
      "1 9282.0 in\n",
      "1 6761.0 it\n",
      "1 6517.0 that\n",
      "1 5193.0 as\n",
      "1 4753.0 with\n",
      "-----------------------------------------\n",
      "Important words in negative reviews\n",
      "0 35058.0 the\n",
      "0 15680.0 and\n",
      "0 15487.0 of\n",
      "0 15420.0 to\n",
      "0 11626.0 is\n",
      "0 10097.0 in\n",
      "0 7803.0 that\n",
      "0 7756.0 it\n",
      "0 4941.0 with\n",
      "0 4930.0 this\n"
     ]
    }
   ],
   "source": [
    "class_labels = nb_clf.classes_\n",
    "show_most_informative_features(vectorizer, nb_clf)"
   ]
  },
  {
   "cell_type": "code",
   "execution_count": 167,
   "metadata": {},
   "outputs": [],
   "source": [
    "def clean_pos(tokenized, stem=False):\n",
    "    punctuation_free = [x for x in tokenized if not re.fullmatch('[' + string.punctuation + ']+', x)]\n",
    "    word_posTags = pos_tag(punctuation_free)\n",
    "    # get adjv words by the POS tags\n",
    "    adjv_words = [x[0] for x in word_posTags if len(re.findall('(RB\\w*|JJ\\w*)', x[1]))>0]\n",
    "    # presence/absence\n",
    "    unique_adjv_words = list(set(adjv_words))\n",
    "    if stem:\n",
    "        stemmedWords = []\n",
    "        for word in unique_adjv_words:\n",
    "            try:\n",
    "                a = stemmer.stem(word)\n",
    "                stemmedWords.append(a)\n",
    "            except:\n",
    "                next\n",
    "        return ' '.join(stemmedWords)\n",
    "    else:\n",
    "        return ' '.join(unique_adjv_words)"
   ]
  },
  {
   "cell_type": "markdown",
   "metadata": {},
   "source": [
    "- M3: POS advj"
   ]
  },
  {
   "cell_type": "code",
   "execution_count": 312,
   "metadata": {},
   "outputs": [
    {
     "data": {
      "text/plain": [
       "0.735"
      ]
     },
     "execution_count": 312,
     "metadata": {},
     "output_type": "execute_result"
    }
   ],
   "source": [
    "vectorizer = CountVectorizer()\n",
    "train_features = vectorizer.fit_transform([clean_pos(review) for review in train])\n",
    "test_features = vectorizer.transform([clean_pos(review) for review in ttest])\n",
    "nb_clf = MultinomialNB()\n",
    "nb_clf.fit(train_features, train_labels)\n",
    "predictions = nb_clf.predict(test_features)\n",
    "accuracy = accuracy_score(test_labels, predictions)\n",
    "accuracy"
   ]
  },
  {
   "cell_type": "code",
   "execution_count": 313,
   "metadata": {
    "scrolled": true
   },
   "outputs": [
    {
     "name": "stdout",
     "output_type": "stream",
     "text": [
      "Important words in positive reviews\n",
      "1 700.0 not\n",
      "1 600.0 more\n",
      "1 577.0 when\n",
      "1 564.0 so\n",
      "1 538.0 well\n",
      "1 519.0 most\n",
      "1 511.0 just\n",
      "1 497.0 even\n",
      "1 492.0 only\n",
      "1 487.0 good\n",
      "-----------------------------------------\n",
      "Important words in negative reviews\n",
      "0 854.0 not\n",
      "0 769.0 so\n",
      "0 732.0 when\n",
      "0 719.0 more\n",
      "0 694.0 only\n",
      "0 686.0 just\n",
      "0 674.0 even\n",
      "0 596.0 good\n",
      "0 571.0 much\n",
      "0 534.0 most\n"
     ]
    }
   ],
   "source": [
    "class_labels = nb_clf.classes_\n",
    "show_most_informative_features(vectorizer, nb_clf)"
   ]
  },
  {
   "cell_type": "markdown",
   "metadata": {},
   "source": [
    "- **Use the model on all tweets**"
   ]
  },
  {
   "cell_type": "code",
   "execution_count": 325,
   "metadata": {},
   "outputs": [],
   "source": [
    "tweet_features = vectorizer.transform([clean_pos(t) for t in review])\n",
    "t_predictions = nb_clf.predict(tweet_features)"
   ]
  },
  {
   "cell_type": "code",
   "execution_count": 326,
   "metadata": {},
   "outputs": [
    {
     "data": {
      "text/plain": [
       "0"
      ]
     },
     "execution_count": 326,
     "metadata": {},
     "output_type": "execute_result"
    }
   ],
   "source": [
    "sum(t_predictions)"
   ]
  },
  {
   "cell_type": "markdown",
   "metadata": {},
   "source": [
    "> This model thinks that all GoT tweets are negative."
   ]
  },
  {
   "cell_type": "markdown",
   "metadata": {},
   "source": [
    "# - Topic & Sentiment Analysis for each character"
   ]
  },
  {
   "cell_type": "markdown",
   "metadata": {},
   "source": [
    "## *Topic Analysis*"
   ]
  },
  {
   "cell_type": "code",
   "execution_count": 273,
   "metadata": {},
   "outputs": [],
   "source": [
    "def removeDany(x, char):\n",
    "    for name in char.split(\"|\"):\n",
    "        x = x.replace(name, \"\")\n",
    "    x = x.replace(\"'s\", \"s\")\n",
    "    return x"
   ]
  },
  {
   "cell_type": "code",
   "execution_count": 296,
   "metadata": {},
   "outputs": [],
   "source": [
    "def getCharTopics(char, Dic = Dic, n_topics = 5):\n",
    "    \"\"\"\n",
    "    Args:\n",
    "        char (str): one of the mains\n",
    "    \"\"\"\n",
    "    ## Step 1: clean\n",
    "    # filter down to the character\n",
    "    char_tweets = test[test.no_links.str.lower().str.contains(char)]\n",
    "    # remove the character name (which will show up a lot, thus skewing topics)\n",
    "    char_review = char_tweets.pure_text.apply(lambda x: removeDany(x, char)).values.tolist()\n",
    "    # with lemmatization\n",
    "    d_review = [clean(doc.strip()) for doc in char_review]\n",
    "    # build new corpus with only the character related tweets\n",
    "    d_corpus = [Dic.doc2bow(doc_clean) for doc_clean in d_review]\n",
    "    # create LDA model\n",
    "    d_ldamodel = LdaModel(d_corpus, num_topics=n_topics, id2word = Dic, passes=20, iterations=2000)\n",
    "    d_tops = d_ldamodel.print_topics(num_topics=n_topics, num_words=10)\n",
    "    topics = pd.DataFrame([re.findall(\"\\\"\\w*[.']?\\w*\\\"\", x[1]) for x in d_tops])\\\n",
    "            .rename(index=dict(zip(range(n_topics), [\"topic\"+str(x) for x in range(n_topics)])),\n",
    "                    columns=dict(zip(range(10), [\"word_\"+str(x) for x in range(10)])))\n",
    "    return char_review, topics"
   ]
  },
  {
   "cell_type": "code",
   "execution_count": 297,
   "metadata": {},
   "outputs": [
    {
     "data": {
      "text/html": [
       "<div>\n",
       "<style scoped>\n",
       "    .dataframe tbody tr th:only-of-type {\n",
       "        vertical-align: middle;\n",
       "    }\n",
       "\n",
       "    .dataframe tbody tr th {\n",
       "        vertical-align: top;\n",
       "    }\n",
       "\n",
       "    .dataframe thead th {\n",
       "        text-align: right;\n",
       "    }\n",
       "</style>\n",
       "<table border=\"1\" class=\"dataframe\">\n",
       "  <thead>\n",
       "    <tr style=\"text-align: right;\">\n",
       "      <th></th>\n",
       "      <th>word_0</th>\n",
       "      <th>word_1</th>\n",
       "      <th>word_2</th>\n",
       "      <th>word_3</th>\n",
       "      <th>word_4</th>\n",
       "      <th>word_5</th>\n",
       "      <th>word_6</th>\n",
       "      <th>word_7</th>\n",
       "      <th>word_8</th>\n",
       "      <th>word_9</th>\n",
       "    </tr>\n",
       "  </thead>\n",
       "  <tbody>\n",
       "    <tr>\n",
       "      <th>topic0</th>\n",
       "      <td>\"say\"</td>\n",
       "      <td>\"know\"</td>\n",
       "      <td>\"end\"</td>\n",
       "      <td>\"love\"</td>\n",
       "      <td>\"life\"</td>\n",
       "      <td>\"kill\"</td>\n",
       "      <td>\"n't\"</td>\n",
       "      <td>\"one\"</td>\n",
       "      <td>\"ever\"</td>\n",
       "      <td>\"live\"</td>\n",
       "    </tr>\n",
       "    <tr>\n",
       "      <th>topic1</th>\n",
       "      <td>\"king\"</td>\n",
       "      <td>\"bran\"</td>\n",
       "      <td>\"queen\"</td>\n",
       "      <td>\"n't\"</td>\n",
       "      <td>\"sansa\"</td>\n",
       "      <td>\"become\"</td>\n",
       "      <td>\"dany\"</td>\n",
       "      <td>\"north\"</td>\n",
       "      <td>\"know\"</td>\n",
       "      <td>\"kill\"</td>\n",
       "    </tr>\n",
       "    <tr>\n",
       "      <th>topic2</th>\n",
       "      <td>\"throne\"</td>\n",
       "      <td>\"game\"</td>\n",
       "      <td>\"dany\"</td>\n",
       "      <td>\"kill\"</td>\n",
       "      <td>\"like\"</td>\n",
       "      <td>\"would\"</td>\n",
       "      <td>\"know\"</td>\n",
       "      <td>None</td>\n",
       "      <td>None</td>\n",
       "      <td>None</td>\n",
       "    </tr>\n",
       "    <tr>\n",
       "      <th>topic3</th>\n",
       "      <td>\"end\"</td>\n",
       "      <td>\"ghost\"</td>\n",
       "      <td>\"get\"</td>\n",
       "      <td>\"better\"</td>\n",
       "      <td>\"finale\"</td>\n",
       "      <td>\"deserve\"</td>\n",
       "      <td>\"episode\"</td>\n",
       "      <td>\"like\"</td>\n",
       "      <td>\"happy\"</td>\n",
       "      <td>\"season\"</td>\n",
       "    </tr>\n",
       "    <tr>\n",
       "      <th>topic4</th>\n",
       "      <td>\"end\"</td>\n",
       "      <td>\"go\"</td>\n",
       "      <td>\"king\"</td>\n",
       "      <td>\"north\"</td>\n",
       "      <td>\"watch\"</td>\n",
       "      <td>\"night\"</td>\n",
       "      <td>\"targaryen\"</td>\n",
       "      <td>\"get\"</td>\n",
       "      <td>\"arya\"</td>\n",
       "      <td>\"season\"</td>\n",
       "    </tr>\n",
       "  </tbody>\n",
       "</table>\n",
       "</div>"
      ],
      "text/plain": [
       "          word_0   word_1   word_2    word_3    word_4     word_5  \\\n",
       "topic0     \"say\"   \"know\"    \"end\"    \"love\"    \"life\"     \"kill\"   \n",
       "topic1    \"king\"   \"bran\"  \"queen\"     \"n't\"   \"sansa\"   \"become\"   \n",
       "topic2  \"throne\"   \"game\"   \"dany\"    \"kill\"    \"like\"    \"would\"   \n",
       "topic3     \"end\"  \"ghost\"    \"get\"  \"better\"  \"finale\"  \"deserve\"   \n",
       "topic4     \"end\"     \"go\"   \"king\"   \"north\"   \"watch\"    \"night\"   \n",
       "\n",
       "             word_6   word_7   word_8    word_9  \n",
       "topic0        \"n't\"    \"one\"   \"ever\"    \"live\"  \n",
       "topic1       \"dany\"  \"north\"   \"know\"    \"kill\"  \n",
       "topic2       \"know\"     None     None      None  \n",
       "topic3    \"episode\"   \"like\"  \"happy\"  \"season\"  \n",
       "topic4  \"targaryen\"    \"get\"   \"arya\"  \"season\"  "
      ]
     },
     "execution_count": 297,
     "metadata": {},
     "output_type": "execute_result"
    }
   ],
   "source": [
    "jon_review, jon_topics = getCharTopics(mains[1])\n",
    "jon_topics"
   ]
  },
  {
   "cell_type": "code",
   "execution_count": null,
   "metadata": {},
   "outputs": [],
   "source": [
    "dany_review, dany_topics = getCharTopics(mains[1])\n",
    "dany_topics"
   ]
  },
  {
   "cell_type": "code",
   "execution_count": null,
   "metadata": {},
   "outputs": [],
   "source": [
    "d_review = [clean(doc.strip()) for doc in dany_review]"
   ]
  },
  {
   "cell_type": "code",
   "execution_count": 216,
   "metadata": {},
   "outputs": [
    {
     "data": {
      "text/plain": [
       "[('jon', 336), ('end', 265), ('ser', 11), ('council', 13), ('follow', 14)]"
      ]
     },
     "execution_count": 216,
     "metadata": {},
     "output_type": "execute_result"
    }
   ],
   "source": [
    "[(k,v) for k,v in Counter([item for sublist in d_review for item in sublist]).items() \n",
    "        if v >= 10][:5]"
   ]
  },
  {
   "cell_type": "markdown",
   "metadata": {},
   "source": [
    "## *Sentiment Analysis*"
   ]
  },
  {
   "cell_type": "code",
   "execution_count": 299,
   "metadata": {},
   "outputs": [],
   "source": [
    "def returnAdj(words):\n",
    "    words = words.replace(\"'s\", \"s\")\n",
    "    words = words.replace(\"not \", \"not_\")\n",
    "    words = word_tokenize(words)\n",
    "    punctuation_free = [x for x in words if not re.fullmatch('[' + string.punctuation + '’]+', x)]\n",
    "    #punctuation_free = [lemmatizer.lemmatize(word) for word in punctuation_free]\n",
    "    word_posTags = pos_tag(punctuation_free)\n",
    "    adj_words = [x[0] for x in word_posTags if x[1] in ['JJ','JJR','JJS']]\n",
    "    return adj_words"
   ]
  },
  {
   "cell_type": "code",
   "execution_count": 301,
   "metadata": {},
   "outputs": [],
   "source": [
    "def getTopAdj(reviews, n = 10, chart = True):\n",
    "    # only get adjectives\n",
    "    d_adj = [returnAdj(x) for x in reviews]\n",
    "    # count occurrences\n",
    "    d_adj_list = [(k,v) for k,v in Counter(list(reduce(lambda x, y: x+y, d_adj))).items() \n",
    "        if v >= 10 and re.search('\\d+', k) is None and len(k) > 1]\n",
    "    # take top n\n",
    "    ranked = sorted(dict(d_adj_list).items(), key=lambda kv: kv[1], reverse=True)[:n]\n",
    "    if chart:\n",
    "        plt.figure(figsize=(10,5))\n",
    "        plt.bar([x[0] for x in ranked], [x[1] for x in ranked])\n",
    "        plt.title(\"Top {} Adjectives in the Tweets\".format(n))\n",
    "        plt.show()\n",
    "    return ranked"
   ]
  },
  {
   "cell_type": "code",
   "execution_count": 270,
   "metadata": {
    "scrolled": true
   },
   "outputs": [
    {
     "data": {
      "image/png": "[encoded data removed]",
      "text/plain": [
       "<Figure size 720x360 with 1 Axes>"
      ]
     },
     "metadata": {
      "needs_background": "light"
     },
     "output_type": "display_data"
    }
   ],
   "source": [
    "drank = getTopAdj(dany_review)"
   ]
  },
  {
   "cell_type": "code",
   "execution_count": 302,
   "metadata": {},
   "outputs": [
    {
     "data": {
      "image/png": "[encoded data removed]",
      "text/plain": [
       "<Figure size 720x360 with 1 Axes>"
      ]
     },
     "metadata": {
      "needs_background": "light"
     },
     "output_type": "display_data"
    }
   ],
   "source": [
    "jrank = getTopAdj(jon_review)"
   ]
  }
 ],
 "metadata": {
  "kernelspec": {
   "display_name": "Python 3",
   "language": "python",
   "name": "python3"
  },
  "language_info": {
   "codemirror_mode": {
    "name": "ipython",
    "version": 3
   },
   "file_extension": ".py",
   "mimetype": "text/x-python",
   "name": "python",
   "nbconvert_exporter": "python",
   "pygments_lexer": "ipython3",
   "version": "3.7.3"
  }
 },
 "nbformat": 4,
 "nbformat_minor": 2
}
